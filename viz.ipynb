{
 "cells": [
  {
   "cell_type": "code",
   "execution_count": 13,
   "metadata": {},
   "outputs": [],
   "source": [
    "import pandas as pd\n",
    "import plotly.express as px\n",
    "import plotly.graph_objects as go\n",
    "from plotly.subplots import make_subplots"
   ]
  },
  {
   "cell_type": "code",
   "execution_count": 14,
   "metadata": {},
   "outputs": [
    {
     "data": {
      "text/html": [
       "<div>\n",
       "<style scoped>\n",
       "    .dataframe tbody tr th:only-of-type {\n",
       "        vertical-align: middle;\n",
       "    }\n",
       "\n",
       "    .dataframe tbody tr th {\n",
       "        vertical-align: top;\n",
       "    }\n",
       "\n",
       "    .dataframe thead th {\n",
       "        text-align: right;\n",
       "    }\n",
       "</style>\n",
       "<table border=\"1\" class=\"dataframe\">\n",
       "  <thead>\n",
       "    <tr style=\"text-align: right;\">\n",
       "      <th></th>\n",
       "      <th>Period</th>\n",
       "      <th>MFS Agent</th>\n",
       "      <th>Unnamed: 2</th>\n",
       "      <th>Unnamed: 3</th>\n",
       "      <th>MFS Male Account</th>\n",
       "      <th>Unnamed: 5</th>\n",
       "      <th>Unnamed: 6</th>\n",
       "      <th>MFS Female Account</th>\n",
       "      <th>Unnamed: 8</th>\n",
       "      <th>Unnamed: 9</th>\n",
       "      <th>MFS Other Account</th>\n",
       "      <th>Unnamed: 11</th>\n",
       "      <th>Unnamed: 12</th>\n",
       "      <th>MFS Total Account</th>\n",
       "      <th>Unnamed: 14</th>\n",
       "      <th>Unnamed: 15</th>\n",
       "    </tr>\n",
       "  </thead>\n",
       "  <tbody>\n",
       "    <tr>\n",
       "      <th>0</th>\n",
       "      <td>NaN</td>\n",
       "      <td>Urban</td>\n",
       "      <td>Rural</td>\n",
       "      <td>Total</td>\n",
       "      <td>Urban</td>\n",
       "      <td>Rural</td>\n",
       "      <td>Total</td>\n",
       "      <td>Urban</td>\n",
       "      <td>Rural</td>\n",
       "      <td>Total</td>\n",
       "      <td>Urban</td>\n",
       "      <td>Rural</td>\n",
       "      <td>Total</td>\n",
       "      <td>Urban</td>\n",
       "      <td>Rural</td>\n",
       "      <td>Total</td>\n",
       "    </tr>\n",
       "    <tr>\n",
       "      <th>1</th>\n",
       "      <td>June'23</td>\n",
       "      <td>789583</td>\n",
       "      <td>796139</td>\n",
       "      <td>1585722</td>\n",
       "      <td>53626770</td>\n",
       "      <td>66247526</td>\n",
       "      <td>119874296</td>\n",
       "      <td>37249086</td>\n",
       "      <td>49592680</td>\n",
       "      <td>86841766</td>\n",
       "      <td>363483</td>\n",
       "      <td>189101</td>\n",
       "      <td>552584</td>\n",
       "      <td>91239339</td>\n",
       "      <td>116029307</td>\n",
       "      <td>207268646</td>\n",
       "    </tr>\n",
       "    <tr>\n",
       "      <th>2</th>\n",
       "      <td>May'23</td>\n",
       "      <td>781319</td>\n",
       "      <td>789021</td>\n",
       "      <td>1570340</td>\n",
       "      <td>52847869</td>\n",
       "      <td>65093659</td>\n",
       "      <td>117941528</td>\n",
       "      <td>36714774</td>\n",
       "      <td>48782455</td>\n",
       "      <td>85497229</td>\n",
       "      <td>348686</td>\n",
       "      <td>182743</td>\n",
       "      <td>531429</td>\n",
       "      <td>89911329</td>\n",
       "      <td>114058857</td>\n",
       "      <td>203970186</td>\n",
       "    </tr>\n",
       "    <tr>\n",
       "      <th>3</th>\n",
       "      <td>April'23</td>\n",
       "      <td>771212</td>\n",
       "      <td>784579</td>\n",
       "      <td>1555791</td>\n",
       "      <td>52092274</td>\n",
       "      <td>63937651</td>\n",
       "      <td>116029925</td>\n",
       "      <td>36179304</td>\n",
       "      <td>47966998</td>\n",
       "      <td>84146302</td>\n",
       "      <td>335711</td>\n",
       "      <td>177272</td>\n",
       "      <td>512983</td>\n",
       "      <td>88607289</td>\n",
       "      <td>112081921</td>\n",
       "      <td>200689210</td>\n",
       "    </tr>\n",
       "    <tr>\n",
       "      <th>4</th>\n",
       "      <td>March'23</td>\n",
       "      <td>785131</td>\n",
       "      <td>812869</td>\n",
       "      <td>1598000</td>\n",
       "      <td>51455799</td>\n",
       "      <td>63033706</td>\n",
       "      <td>114489505</td>\n",
       "      <td>35755777</td>\n",
       "      <td>47346768</td>\n",
       "      <td>83102545</td>\n",
       "      <td>327136</td>\n",
       "      <td>172597</td>\n",
       "      <td>499733</td>\n",
       "      <td>87538712</td>\n",
       "      <td>110553071</td>\n",
       "      <td>198091783</td>\n",
       "    </tr>\n",
       "  </tbody>\n",
       "</table>\n",
       "</div>"
      ],
      "text/plain": [
       "     Period MFS Agent Unnamed: 2 Unnamed: 3 MFS Male Account Unnamed: 5   \n",
       "0       NaN     Urban      Rural      Total            Urban      Rural  \\\n",
       "1   June'23    789583     796139    1585722         53626770   66247526   \n",
       "2    May'23    781319     789021    1570340         52847869   65093659   \n",
       "3  April'23    771212     784579    1555791         52092274   63937651   \n",
       "4  March'23    785131     812869    1598000         51455799   63033706   \n",
       "\n",
       "  Unnamed: 6 MFS Female Account Unnamed: 8 Unnamed: 9 MFS Other Account   \n",
       "0      Total              Urban      Rural      Total             Urban  \\\n",
       "1  119874296           37249086   49592680   86841766            363483   \n",
       "2  117941528           36714774   48782455   85497229            348686   \n",
       "3  116029925           36179304   47966998   84146302            335711   \n",
       "4  114489505           35755777   47346768   83102545            327136   \n",
       "\n",
       "  Unnamed: 11 Unnamed: 12 MFS Total Account Unnamed: 14 Unnamed: 15  \n",
       "0       Rural       Total             Urban       Rural       Total  \n",
       "1      189101      552584          91239339   116029307   207268646  \n",
       "2      182743      531429          89911329   114058857   203970186  \n",
       "3      177272      512983          88607289   112081921   200689210  \n",
       "4      172597      499733          87538712   110553071   198091783  "
      ]
     },
     "execution_count": 14,
     "metadata": {},
     "output_type": "execute_result"
    }
   ],
   "source": [
    "mfs_acc_data = pd.read_excel('MFS_ACC.xlsx')\n",
    "mfs_acc_data.head(5)"
   ]
  },
  {
   "cell_type": "code",
   "execution_count": 15,
   "metadata": {},
   "outputs": [
    {
     "data": {
      "text/html": [
       "<div>\n",
       "<style scoped>\n",
       "    .dataframe tbody tr th:only-of-type {\n",
       "        vertical-align: middle;\n",
       "    }\n",
       "\n",
       "    .dataframe tbody tr th {\n",
       "        vertical-align: top;\n",
       "    }\n",
       "\n",
       "    .dataframe thead th {\n",
       "        text-align: right;\n",
       "    }\n",
       "</style>\n",
       "<table border=\"1\" class=\"dataframe\">\n",
       "  <thead>\n",
       "    <tr style=\"text-align: right;\">\n",
       "      <th></th>\n",
       "      <th>PERIOD</th>\n",
       "      <th>MFS_AGENT_URBAN</th>\n",
       "      <th>MFS_AGENT_RURAL</th>\n",
       "      <th>MFS_AGENT_TOTAL</th>\n",
       "      <th>MFS_MALE_ACCOUNT_URBAN</th>\n",
       "      <th>MFS_MALE_ACCOUNT_RURAL</th>\n",
       "      <th>MFS_MALE_ACCOUNT_TOTAL</th>\n",
       "      <th>MFS_FEMALE_ACCOUNT_URBAN</th>\n",
       "      <th>MFS_FEMALE_ACCOUNT_RURAL</th>\n",
       "      <th>MFS_FEMALE_ACCOUNT_TOTAL</th>\n",
       "      <th>MFS_OTHER_ACCOUNT_URBAN</th>\n",
       "      <th>MFS_OTHER_ACCOUNT_RURAL</th>\n",
       "      <th>MFS_OTHER_ACCOUNT_TOTAL</th>\n",
       "      <th>MFS_TOTAL_ACCOUNT_URBAN</th>\n",
       "      <th>MFS_TOTAL_ACCOUNT_RURAL</th>\n",
       "      <th>MFS_TOTAL_ACCOUNT_TOTAL</th>\n",
       "    </tr>\n",
       "  </thead>\n",
       "  <tbody>\n",
       "    <tr>\n",
       "      <th>55</th>\n",
       "      <td>DEC 2018</td>\n",
       "      <td>505623</td>\n",
       "      <td>437887</td>\n",
       "      <td>943510</td>\n",
       "      <td>15053470</td>\n",
       "      <td>21030462</td>\n",
       "      <td>36083932</td>\n",
       "      <td>8491129</td>\n",
       "      <td>23093199</td>\n",
       "      <td>31584328</td>\n",
       "      <td>695</td>\n",
       "      <td>1513</td>\n",
       "      <td>2208</td>\n",
       "      <td>23545294</td>\n",
       "      <td>44125174</td>\n",
       "      <td>67670468</td>\n",
       "    </tr>\n",
       "    <tr>\n",
       "      <th>54</th>\n",
       "      <td>JAN 2019</td>\n",
       "      <td>491140</td>\n",
       "      <td>474042</td>\n",
       "      <td>965182</td>\n",
       "      <td>16684243</td>\n",
       "      <td>18880373</td>\n",
       "      <td>35564616</td>\n",
       "      <td>9533773</td>\n",
       "      <td>22513069</td>\n",
       "      <td>32046842</td>\n",
       "      <td>754</td>\n",
       "      <td>1475</td>\n",
       "      <td>2229</td>\n",
       "      <td>26218770</td>\n",
       "      <td>41394917</td>\n",
       "      <td>67613687</td>\n",
       "    </tr>\n",
       "    <tr>\n",
       "      <th>53</th>\n",
       "      <td>FEB 2019</td>\n",
       "      <td>495975</td>\n",
       "      <td>484885</td>\n",
       "      <td>980860</td>\n",
       "      <td>16697088</td>\n",
       "      <td>19006106</td>\n",
       "      <td>35703194</td>\n",
       "      <td>9458043</td>\n",
       "      <td>22781950</td>\n",
       "      <td>32239993</td>\n",
       "      <td>755</td>\n",
       "      <td>1483</td>\n",
       "      <td>2238</td>\n",
       "      <td>26155886</td>\n",
       "      <td>41789539</td>\n",
       "      <td>67945425</td>\n",
       "    </tr>\n",
       "    <tr>\n",
       "      <th>52</th>\n",
       "      <td>MAR 2019</td>\n",
       "      <td>503042</td>\n",
       "      <td>493982</td>\n",
       "      <td>997024</td>\n",
       "      <td>16574635</td>\n",
       "      <td>19201465</td>\n",
       "      <td>35776100</td>\n",
       "      <td>9744399</td>\n",
       "      <td>22791889</td>\n",
       "      <td>32536288</td>\n",
       "      <td>768</td>\n",
       "      <td>1519</td>\n",
       "      <td>2287</td>\n",
       "      <td>26319802</td>\n",
       "      <td>41994873</td>\n",
       "      <td>68314675</td>\n",
       "    </tr>\n",
       "    <tr>\n",
       "      <th>51</th>\n",
       "      <td>APR 2019</td>\n",
       "      <td>505414</td>\n",
       "      <td>507123</td>\n",
       "      <td>1012537</td>\n",
       "      <td>16333380</td>\n",
       "      <td>19665560</td>\n",
       "      <td>35998940</td>\n",
       "      <td>9739027</td>\n",
       "      <td>23542408</td>\n",
       "      <td>33281435</td>\n",
       "      <td>777</td>\n",
       "      <td>1609</td>\n",
       "      <td>2386</td>\n",
       "      <td>26073184</td>\n",
       "      <td>43209577</td>\n",
       "      <td>69282761</td>\n",
       "    </tr>\n",
       "  </tbody>\n",
       "</table>\n",
       "</div>"
      ],
      "text/plain": [
       "      PERIOD MFS_AGENT_URBAN MFS_AGENT_RURAL MFS_AGENT_TOTAL   \n",
       "55  DEC 2018          505623          437887          943510  \\\n",
       "54  JAN 2019          491140          474042          965182   \n",
       "53  FEB 2019          495975          484885          980860   \n",
       "52  MAR 2019          503042          493982          997024   \n",
       "51  APR 2019          505414          507123         1012537   \n",
       "\n",
       "   MFS_MALE_ACCOUNT_URBAN MFS_MALE_ACCOUNT_RURAL MFS_MALE_ACCOUNT_TOTAL   \n",
       "55               15053470               21030462               36083932  \\\n",
       "54               16684243               18880373               35564616   \n",
       "53               16697088               19006106               35703194   \n",
       "52               16574635               19201465               35776100   \n",
       "51               16333380               19665560               35998940   \n",
       "\n",
       "   MFS_FEMALE_ACCOUNT_URBAN MFS_FEMALE_ACCOUNT_RURAL MFS_FEMALE_ACCOUNT_TOTAL   \n",
       "55                  8491129                 23093199                 31584328  \\\n",
       "54                  9533773                 22513069                 32046842   \n",
       "53                  9458043                 22781950                 32239993   \n",
       "52                  9744399                 22791889                 32536288   \n",
       "51                  9739027                 23542408                 33281435   \n",
       "\n",
       "   MFS_OTHER_ACCOUNT_URBAN MFS_OTHER_ACCOUNT_RURAL MFS_OTHER_ACCOUNT_TOTAL   \n",
       "55                     695                    1513                    2208  \\\n",
       "54                     754                    1475                    2229   \n",
       "53                     755                    1483                    2238   \n",
       "52                     768                    1519                    2287   \n",
       "51                     777                    1609                    2386   \n",
       "\n",
       "   MFS_TOTAL_ACCOUNT_URBAN MFS_TOTAL_ACCOUNT_RURAL MFS_TOTAL_ACCOUNT_TOTAL  \n",
       "55                23545294                44125174                67670468  \n",
       "54                26218770                41394917                67613687  \n",
       "53                26155886                41789539                67945425  \n",
       "52                26319802                41994873                68314675  \n",
       "51                26073184                43209577                69282761  "
      ]
     },
     "execution_count": 15,
     "metadata": {},
     "output_type": "execute_result"
    }
   ],
   "source": [
    "MFS_AGENT = 'MFS Agent'\n",
    "MFS_MALE_ACCOUNT = 'MFS Male Account'\n",
    "MFS_FEMALE_ACCOUNT = 'MFS Female Account'\n",
    "MFS_OTHER_ACCOUNT = 'MFS Other Account'\n",
    "MFS_TOTAL_ACCOUNT = 'MFS Total Account'\n",
    "\n",
    "mfs_acc = mfs_acc_data.rename(columns={\n",
    "    'Period': 'Period'.upper(),\n",
    "    MFS_AGENT : f'{MFS_AGENT} Urban'.upper().replace(' ', '_'),\n",
    "    'Unnamed: 2' : f'{MFS_AGENT} Rural'.upper().replace(' ', '_'),\n",
    "    'Unnamed: 3' : f'{MFS_AGENT} Total'.upper().replace(' ', '_'),\n",
    "    MFS_MALE_ACCOUNT : f'{MFS_MALE_ACCOUNT} Urban'.upper().replace(' ', '_'),\n",
    "    'Unnamed: 5' : f'{MFS_MALE_ACCOUNT} Rural'.upper().replace(' ', '_'),\n",
    "    'Unnamed: 6' : f'{MFS_MALE_ACCOUNT} Total'.upper().replace(' ', '_'),\n",
    "    MFS_FEMALE_ACCOUNT : f'{MFS_FEMALE_ACCOUNT} Urban'.upper().replace(' ', '_'),\n",
    "    'Unnamed: 8' : f'{MFS_FEMALE_ACCOUNT} Rural'.upper().replace(' ', '_'),\n",
    "    'Unnamed: 9' : f'{MFS_FEMALE_ACCOUNT} Total'.upper().replace(' ', '_'),\n",
    "    MFS_OTHER_ACCOUNT : f'{MFS_OTHER_ACCOUNT} Urban'.upper().replace(' ', '_'),\n",
    "    'Unnamed: 11' : f'{MFS_OTHER_ACCOUNT} Rural'.upper().replace(' ', '_'),\n",
    "    'Unnamed: 12' : f'{MFS_OTHER_ACCOUNT} Total'.upper().replace(' ', '_'),\n",
    "    MFS_TOTAL_ACCOUNT : f'{MFS_TOTAL_ACCOUNT} Urban'.upper().replace(' ', '_'),\n",
    "    'Unnamed: 14' : f'{MFS_TOTAL_ACCOUNT} Rural'.upper().replace(' ', '_'),\n",
    "    'Unnamed: 15' : f'{MFS_TOTAL_ACCOUNT} Total'.upper().replace(' ', '_'),\n",
    "})\n",
    "\n",
    "mfs_acc = mfs_acc.drop(0)\n",
    "period = mfs_acc.PERIOD.apply(\n",
    "    lambda x: x.replace(\n",
    "        \"January\", 'JAN').replace(\n",
    "            \"February\", 'FEB').replace(\n",
    "                \"March\", 'MAR').replace(\n",
    "                    \"April\", 'APR').replace(\n",
    "                        \"May\", 'MAY').replace(\n",
    "                            \"June\", 'JUN').replace(\n",
    "                                \"July\", 'JUL').replace(\n",
    "                                    \"August\", 'AUG').replace(\n",
    "                                        \"September\", 'SEP').replace(\n",
    "                                            \"October\", 'OCT').replace(\n",
    "                                                \"November\", 'NOV').replace(\n",
    "                                                    \"December\", 'DEC').replace(\n",
    "                                                        \"'\", ' 20')\n",
    ")\n",
    "mfs_acc['PERIOD'] = period\n",
    "mfs_acc = mfs_acc.loc[::-1]\n",
    "mfs_acc.head()"
   ]
  },
  {
   "cell_type": "code",
   "execution_count": 16,
   "metadata": {},
   "outputs": [
    {
     "data": {
      "application/vnd.plotly.v1+json": {
       "config": {
        "plotlyServerURL": "https://plot.ly"
       },
       "data": [
        {
         "line": {
          "color": "#94F3E4",
          "width": 2
         },
         "mode": "markers+lines",
         "name": "MALE AC UR",
         "type": "scatter",
         "x": [
          "DEC 2018",
          "JAN 2019",
          "FEB 2019",
          "MAR 2019",
          "APR 2019",
          "MAY 2019",
          "JUN 2019",
          "JUL 2019",
          "AUG 2019",
          "SEP 2019",
          "OCT 2019",
          "NOV 2019",
          "DEC 2019",
          "JAN 2020",
          "FEB 2020",
          "MAR 2020",
          "APR 2020",
          "MAY 2020",
          "JUN 2020",
          "JUL 2020",
          "AUG 2020",
          "SEP 2020",
          "OCT 2020",
          "NOV 2020",
          "DEC 2020",
          "JAN 2021",
          "FEB 2021",
          "MAR 2021",
          "APR 2021",
          "MAY 2021",
          "JUN 2021",
          "JUL 2021",
          "AUG 2021",
          "SEP 2021",
          "OCT 2021",
          "NOV 2021",
          "DEC 2021",
          "JAN 2022",
          "FEB 2022",
          "MAR 2022",
          "APR 2022",
          "MAY 2022",
          "JUN 2022",
          "JUL 2022",
          "AUG 2022",
          "SEP 2022",
          "OCT 2022",
          "NOV 2022",
          "DEC 2022",
          "JAN 2023",
          "FEB 2023",
          "MAR 2023",
          "APR 2023",
          "MAY 2023",
          "JUN 2023"
         ],
         "xaxis": "x",
         "y": [
          15053470,
          16684243,
          16697088,
          16574635,
          16333380,
          17000434,
          17234004,
          17476643,
          17779052,
          18440077,
          18942419,
          19780354,
          20160737,
          20873990,
          21455510,
          21983067,
          22753691,
          23730024,
          24095188,
          25152310,
          25728507,
          26080014,
          26579555,
          27106814,
          27790013,
          28316854,
          29638030,
          31400373,
          31081403,
          33441779,
          37035589,
          38895616,
          39893788,
          40896834,
          41839891,
          42717241,
          43723069,
          44970483,
          45868201,
          46758151,
          47564802,
          45988861,
          46728634,
          47194552,
          48142985,
          48620266,
          49208715,
          48667875,
          50023245,
          50673189,
          51307660,
          51455799,
          52092274,
          52847869,
          53626770
         ],
         "yaxis": "y"
        },
        {
         "line": {
          "color": "#ffb55a",
          "width": 2
         },
         "mode": "markers+lines",
         "name": "FEMALE AC UR",
         "type": "scatter",
         "x": [
          "DEC 2018",
          "JAN 2019",
          "FEB 2019",
          "MAR 2019",
          "APR 2019",
          "MAY 2019",
          "JUN 2019",
          "JUL 2019",
          "AUG 2019",
          "SEP 2019",
          "OCT 2019",
          "NOV 2019",
          "DEC 2019",
          "JAN 2020",
          "FEB 2020",
          "MAR 2020",
          "APR 2020",
          "MAY 2020",
          "JUN 2020",
          "JUL 2020",
          "AUG 2020",
          "SEP 2020",
          "OCT 2020",
          "NOV 2020",
          "DEC 2020",
          "JAN 2021",
          "FEB 2021",
          "MAR 2021",
          "APR 2021",
          "MAY 2021",
          "JUN 2021",
          "JUL 2021",
          "AUG 2021",
          "SEP 2021",
          "OCT 2021",
          "NOV 2021",
          "DEC 2021",
          "JAN 2022",
          "FEB 2022",
          "MAR 2022",
          "APR 2022",
          "MAY 2022",
          "JUN 2022",
          "JUL 2022",
          "AUG 2022",
          "SEP 2022",
          "OCT 2022",
          "NOV 2022",
          "DEC 2022",
          "JAN 2023",
          "FEB 2023",
          "MAR 2023",
          "APR 2023",
          "MAY 2023",
          "JUN 2023"
         ],
         "xaxis": "x",
         "y": [
          8491129,
          9533773,
          9458043,
          9744399,
          9739027,
          10141315,
          10246766,
          10438143,
          10602577,
          11264584,
          11726527,
          11985931,
          12789162,
          13394823,
          14044994,
          14542151,
          15253024,
          15916031,
          16177189,
          16811081,
          17224136,
          17533015,
          17970697,
          18409455,
          18879824,
          19211721,
          20203414,
          21430136,
          21179220,
          22800390,
          24809406,
          25995428,
          26583231,
          27158459,
          27613092,
          28092167,
          28637497,
          29316888,
          29930857,
          29852331,
          30415301,
          31620156,
          32215458,
          32935692,
          33140199,
          33572063,
          33979501,
          33695799,
          34729780,
          35240987,
          35667699,
          35755777,
          36179304,
          36714774,
          37249086
         ],
         "yaxis": "y"
        },
        {
         "line": {
          "color": "#fdcce5",
          "width": 2
         },
         "mode": "markers+lines",
         "name": "AGENT UR",
         "type": "scatter",
         "x": [
          "DEC 2018",
          "JAN 2019",
          "FEB 2019",
          "MAR 2019",
          "APR 2019",
          "MAY 2019",
          "JUN 2019",
          "JUL 2019",
          "AUG 2019",
          "SEP 2019",
          "OCT 2019",
          "NOV 2019",
          "DEC 2019",
          "JAN 2020",
          "FEB 2020",
          "MAR 2020",
          "APR 2020",
          "MAY 2020",
          "JUN 2020",
          "JUL 2020",
          "AUG 2020",
          "SEP 2020",
          "OCT 2020",
          "NOV 2020",
          "DEC 2020",
          "JAN 2021",
          "FEB 2021",
          "MAR 2021",
          "APR 2021",
          "MAY 2021",
          "JUN 2021",
          "JUL 2021",
          "AUG 2021",
          "SEP 2021",
          "OCT 2021",
          "NOV 2021",
          "DEC 2021",
          "JAN 2022",
          "FEB 2022",
          "MAR 2022",
          "APR 2022",
          "MAY 2022",
          "JUN 2022",
          "JUL 2022",
          "AUG 2022",
          "SEP 2022",
          "OCT 2022",
          "NOV 2022",
          "DEC 2022",
          "JAN 2023",
          "FEB 2023",
          "MAR 2023",
          "APR 2023",
          "MAY 2023",
          "JUN 2023"
         ],
         "xaxis": "x",
         "y": [
          505623,
          491140,
          495975,
          503042,
          505414,
          514835,
          528812,
          525954,
          532373,
          553720,
          556488,
          567067,
          573995,
          581094,
          586665,
          593857,
          594644,
          596353,
          599376,
          606390,
          611021,
          616288,
          622689,
          631710,
          659459,
          650450,
          658549,
          667194,
          662640,
          684610,
          723182,
          738798,
          755222,
          757726,
          770002,
          718721,
          734474,
          745319,
          753199,
          763921,
          773130,
          754220,
          764464,
          767560,
          731210,
          737531,
          745913,
          751394,
          763265,
          771681,
          776876,
          785131,
          771212,
          781319,
          789583
         ],
         "yaxis": "y2"
        },
        {
         "line": {
          "color": "#94F3E4",
          "width": 2
         },
         "mode": "markers+lines",
         "name": "MALE AC RUR",
         "type": "scatter",
         "x": [
          "DEC 2018",
          "JAN 2019",
          "FEB 2019",
          "MAR 2019",
          "APR 2019",
          "MAY 2019",
          "JUN 2019",
          "JUL 2019",
          "AUG 2019",
          "SEP 2019",
          "OCT 2019",
          "NOV 2019",
          "DEC 2019",
          "JAN 2020",
          "FEB 2020",
          "MAR 2020",
          "APR 2020",
          "MAY 2020",
          "JUN 2020",
          "JUL 2020",
          "AUG 2020",
          "SEP 2020",
          "OCT 2020",
          "NOV 2020",
          "DEC 2020",
          "JAN 2021",
          "FEB 2021",
          "MAR 2021",
          "APR 2021",
          "MAY 2021",
          "JUN 2021",
          "JUL 2021",
          "AUG 2021",
          "SEP 2021",
          "OCT 2021",
          "NOV 2021",
          "DEC 2021",
          "JAN 2022",
          "FEB 2022",
          "MAR 2022",
          "APR 2022",
          "MAY 2022",
          "JUN 2022",
          "JUL 2022",
          "AUG 2022",
          "SEP 2022",
          "OCT 2022",
          "NOV 2022",
          "DEC 2022",
          "JAN 2023",
          "FEB 2023",
          "MAR 2023",
          "APR 2023",
          "MAY 2023",
          "JUN 2023"
         ],
         "xaxis": "x2",
         "y": [
          21030462,
          18880373,
          19006106,
          19201465,
          19665560,
          19758337,
          20757042,
          21477483,
          21687092,
          22351367,
          23109308,
          24043399,
          24893228,
          26034399,
          26983460,
          27982159,
          28941516,
          31478971,
          31936960,
          34590842,
          35041492,
          35396409,
          36251776,
          36832245,
          37612250,
          38296205,
          40556036,
          45106307,
          46020562,
          47325656,
          48922350,
          49291899,
          50114327,
          51052297,
          51810374,
          52474947,
          53224563,
          54230537,
          55148523,
          53871251,
          54630133,
          55964148,
          56820123,
          57131464,
          58077896,
          58689788,
          59413109,
          60368899,
          60466225,
          61507920,
          62409574,
          63033706,
          63937651,
          65093659,
          66247526
         ],
         "yaxis": "y3"
        },
        {
         "line": {
          "color": "#ffb55a",
          "width": 2
         },
         "mode": "markers+lines",
         "name": "FEMALE AC RUR",
         "type": "scatter",
         "x": [
          "DEC 2018",
          "JAN 2019",
          "FEB 2019",
          "MAR 2019",
          "APR 2019",
          "MAY 2019",
          "JUN 2019",
          "JUL 2019",
          "AUG 2019",
          "SEP 2019",
          "OCT 2019",
          "NOV 2019",
          "DEC 2019",
          "JAN 2020",
          "FEB 2020",
          "MAR 2020",
          "APR 2020",
          "MAY 2020",
          "JUN 2020",
          "JUL 2020",
          "AUG 2020",
          "SEP 2020",
          "OCT 2020",
          "NOV 2020",
          "DEC 2020",
          "JAN 2021",
          "FEB 2021",
          "MAR 2021",
          "APR 2021",
          "MAY 2021",
          "JUN 2021",
          "JUL 2021",
          "AUG 2021",
          "SEP 2021",
          "OCT 2021",
          "NOV 2021",
          "DEC 2021",
          "JAN 2022",
          "FEB 2022",
          "MAR 2022",
          "APR 2022",
          "MAY 2022",
          "JUN 2022",
          "JUL 2022",
          "AUG 2022",
          "SEP 2022",
          "OCT 2022",
          "NOV 2022",
          "DEC 2022",
          "JAN 2023",
          "FEB 2023",
          "MAR 2023",
          "APR 2023",
          "MAY 2023",
          "JUN 2023"
         ],
         "xaxis": "x2",
         "y": [
          23093199,
          22513069,
          22781950,
          22791889,
          23542408,
          24941362,
          25538222,
          25978657,
          26148132,
          27103533,
          27812631,
          28510614,
          29430765,
          30444454,
          31666645,
          32721472,
          33414807,
          34746317,
          35060824,
          35404726,
          36278531,
          36654062,
          37147292,
          37710374,
          38395744,
          39023457,
          40692894,
          43434909,
          39832544,
          40483601,
          41396674,
          41539879,
          42110590,
          42667246,
          43039862,
          43394397,
          43807390,
          44402688,
          44968975,
          39402031,
          39951203,
          41810980,
          42480876,
          43473798,
          43456183,
          43960719,
          44499815,
          45393551,
          45394713,
          46245896,
          46905849,
          47346768,
          47966998,
          48782455,
          49592680
         ],
         "yaxis": "y3"
        },
        {
         "line": {
          "color": "#fdcce5",
          "width": 2
         },
         "mode": "markers+lines",
         "name": "AGENT RUR",
         "type": "scatter",
         "x": [
          "DEC 2018",
          "JAN 2019",
          "FEB 2019",
          "MAR 2019",
          "APR 2019",
          "MAY 2019",
          "JUN 2019",
          "JUL 2019",
          "AUG 2019",
          "SEP 2019",
          "OCT 2019",
          "NOV 2019",
          "DEC 2019",
          "JAN 2020",
          "FEB 2020",
          "MAR 2020",
          "APR 2020",
          "MAY 2020",
          "JUN 2020",
          "JUL 2020",
          "AUG 2020",
          "SEP 2020",
          "OCT 2020",
          "NOV 2020",
          "DEC 2020",
          "JAN 2021",
          "FEB 2021",
          "MAR 2021",
          "APR 2021",
          "MAY 2021",
          "JUN 2021",
          "JUL 2021",
          "AUG 2021",
          "SEP 2021",
          "OCT 2021",
          "NOV 2021",
          "DEC 2021",
          "JAN 2022",
          "FEB 2022",
          "MAR 2022",
          "APR 2022",
          "MAY 2022",
          "JUN 2022",
          "JUL 2022",
          "AUG 2022",
          "SEP 2022",
          "OCT 2022",
          "NOV 2022",
          "DEC 2022",
          "JAN 2023",
          "FEB 2023",
          "MAR 2023",
          "APR 2023",
          "MAY 2023",
          "JUN 2023"
         ],
         "xaxis": "x2",
         "y": [
          437887,
          474042,
          484885,
          493982,
          507123,
          504524,
          495960,
          511146,
          517516,
          499303,
          505509,
          515520,
          524226,
          538479,
          546236,
          554629,
          555717,
          557159,
          560745,
          563401,
          567551,
          573542,
          583630,
          596012,
          607336,
          609517,
          618004,
          627291,
          627753,
          635798,
          654434,
          656657,
          666711,
          653466,
          661362,
          670020,
          678293,
          684531,
          692338,
          701111,
          708886,
          741636,
          751201,
          758679,
          762188,
          767790,
          775890,
          780011,
          791372,
          797431,
          804408,
          812869,
          784579,
          789021,
          796139
         ],
         "yaxis": "y4"
        }
       ],
       "layout": {
        "annotations": [
         {
          "font": {
           "size": 16
          },
          "showarrow": false,
          "text": "URBAN",
          "x": 0.47,
          "xanchor": "center",
          "xref": "paper",
          "y": 0.375,
          "yanchor": "bottom",
          "yref": "paper"
         },
         {
          "font": {
           "size": 16
          },
          "showarrow": false,
          "text": "RURAL",
          "x": 0.47,
          "xanchor": "center",
          "xref": "paper",
          "y": 1,
          "yanchor": "bottom",
          "yref": "paper"
         }
        ],
        "height": 900,
        "template": {
         "data": {
          "bar": [
           {
            "error_x": {
             "color": "#f2f5fa"
            },
            "error_y": {
             "color": "#f2f5fa"
            },
            "marker": {
             "line": {
              "color": "rgb(17,17,17)",
              "width": 0.5
             },
             "pattern": {
              "fillmode": "overlay",
              "size": 10,
              "solidity": 0.2
             }
            },
            "type": "bar"
           }
          ],
          "barpolar": [
           {
            "marker": {
             "line": {
              "color": "rgb(17,17,17)",
              "width": 0.5
             },
             "pattern": {
              "fillmode": "overlay",
              "size": 10,
              "solidity": 0.2
             }
            },
            "type": "barpolar"
           }
          ],
          "carpet": [
           {
            "aaxis": {
             "endlinecolor": "#A2B1C6",
             "gridcolor": "#506784",
             "linecolor": "#506784",
             "minorgridcolor": "#506784",
             "startlinecolor": "#A2B1C6"
            },
            "baxis": {
             "endlinecolor": "#A2B1C6",
             "gridcolor": "#506784",
             "linecolor": "#506784",
             "minorgridcolor": "#506784",
             "startlinecolor": "#A2B1C6"
            },
            "type": "carpet"
           }
          ],
          "choropleth": [
           {
            "colorbar": {
             "outlinewidth": 0,
             "ticks": ""
            },
            "type": "choropleth"
           }
          ],
          "contour": [
           {
            "colorbar": {
             "outlinewidth": 0,
             "ticks": ""
            },
            "colorscale": [
             [
              0,
              "#0d0887"
             ],
             [
              0.1111111111111111,
              "#46039f"
             ],
             [
              0.2222222222222222,
              "#7201a8"
             ],
             [
              0.3333333333333333,
              "#9c179e"
             ],
             [
              0.4444444444444444,
              "#bd3786"
             ],
             [
              0.5555555555555556,
              "#d8576b"
             ],
             [
              0.6666666666666666,
              "#ed7953"
             ],
             [
              0.7777777777777778,
              "#fb9f3a"
             ],
             [
              0.8888888888888888,
              "#fdca26"
             ],
             [
              1,
              "#f0f921"
             ]
            ],
            "type": "contour"
           }
          ],
          "contourcarpet": [
           {
            "colorbar": {
             "outlinewidth": 0,
             "ticks": ""
            },
            "type": "contourcarpet"
           }
          ],
          "heatmap": [
           {
            "colorbar": {
             "outlinewidth": 0,
             "ticks": ""
            },
            "colorscale": [
             [
              0,
              "#0d0887"
             ],
             [
              0.1111111111111111,
              "#46039f"
             ],
             [
              0.2222222222222222,
              "#7201a8"
             ],
             [
              0.3333333333333333,
              "#9c179e"
             ],
             [
              0.4444444444444444,
              "#bd3786"
             ],
             [
              0.5555555555555556,
              "#d8576b"
             ],
             [
              0.6666666666666666,
              "#ed7953"
             ],
             [
              0.7777777777777778,
              "#fb9f3a"
             ],
             [
              0.8888888888888888,
              "#fdca26"
             ],
             [
              1,
              "#f0f921"
             ]
            ],
            "type": "heatmap"
           }
          ],
          "heatmapgl": [
           {
            "colorbar": {
             "outlinewidth": 0,
             "ticks": ""
            },
            "colorscale": [
             [
              0,
              "#0d0887"
             ],
             [
              0.1111111111111111,
              "#46039f"
             ],
             [
              0.2222222222222222,
              "#7201a8"
             ],
             [
              0.3333333333333333,
              "#9c179e"
             ],
             [
              0.4444444444444444,
              "#bd3786"
             ],
             [
              0.5555555555555556,
              "#d8576b"
             ],
             [
              0.6666666666666666,
              "#ed7953"
             ],
             [
              0.7777777777777778,
              "#fb9f3a"
             ],
             [
              0.8888888888888888,
              "#fdca26"
             ],
             [
              1,
              "#f0f921"
             ]
            ],
            "type": "heatmapgl"
           }
          ],
          "histogram": [
           {
            "marker": {
             "pattern": {
              "fillmode": "overlay",
              "size": 10,
              "solidity": 0.2
             }
            },
            "type": "histogram"
           }
          ],
          "histogram2d": [
           {
            "colorbar": {
             "outlinewidth": 0,
             "ticks": ""
            },
            "colorscale": [
             [
              0,
              "#0d0887"
             ],
             [
              0.1111111111111111,
              "#46039f"
             ],
             [
              0.2222222222222222,
              "#7201a8"
             ],
             [
              0.3333333333333333,
              "#9c179e"
             ],
             [
              0.4444444444444444,
              "#bd3786"
             ],
             [
              0.5555555555555556,
              "#d8576b"
             ],
             [
              0.6666666666666666,
              "#ed7953"
             ],
             [
              0.7777777777777778,
              "#fb9f3a"
             ],
             [
              0.8888888888888888,
              "#fdca26"
             ],
             [
              1,
              "#f0f921"
             ]
            ],
            "type": "histogram2d"
           }
          ],
          "histogram2dcontour": [
           {
            "colorbar": {
             "outlinewidth": 0,
             "ticks": ""
            },
            "colorscale": [
             [
              0,
              "#0d0887"
             ],
             [
              0.1111111111111111,
              "#46039f"
             ],
             [
              0.2222222222222222,
              "#7201a8"
             ],
             [
              0.3333333333333333,
              "#9c179e"
             ],
             [
              0.4444444444444444,
              "#bd3786"
             ],
             [
              0.5555555555555556,
              "#d8576b"
             ],
             [
              0.6666666666666666,
              "#ed7953"
             ],
             [
              0.7777777777777778,
              "#fb9f3a"
             ],
             [
              0.8888888888888888,
              "#fdca26"
             ],
             [
              1,
              "#f0f921"
             ]
            ],
            "type": "histogram2dcontour"
           }
          ],
          "mesh3d": [
           {
            "colorbar": {
             "outlinewidth": 0,
             "ticks": ""
            },
            "type": "mesh3d"
           }
          ],
          "parcoords": [
           {
            "line": {
             "colorbar": {
              "outlinewidth": 0,
              "ticks": ""
             }
            },
            "type": "parcoords"
           }
          ],
          "pie": [
           {
            "automargin": true,
            "type": "pie"
           }
          ],
          "scatter": [
           {
            "marker": {
             "line": {
              "color": "#283442"
             }
            },
            "type": "scatter"
           }
          ],
          "scatter3d": [
           {
            "line": {
             "colorbar": {
              "outlinewidth": 0,
              "ticks": ""
             }
            },
            "marker": {
             "colorbar": {
              "outlinewidth": 0,
              "ticks": ""
             }
            },
            "type": "scatter3d"
           }
          ],
          "scattercarpet": [
           {
            "marker": {
             "colorbar": {
              "outlinewidth": 0,
              "ticks": ""
             }
            },
            "type": "scattercarpet"
           }
          ],
          "scattergeo": [
           {
            "marker": {
             "colorbar": {
              "outlinewidth": 0,
              "ticks": ""
             }
            },
            "type": "scattergeo"
           }
          ],
          "scattergl": [
           {
            "marker": {
             "line": {
              "color": "#283442"
             }
            },
            "type": "scattergl"
           }
          ],
          "scattermapbox": [
           {
            "marker": {
             "colorbar": {
              "outlinewidth": 0,
              "ticks": ""
             }
            },
            "type": "scattermapbox"
           }
          ],
          "scatterpolar": [
           {
            "marker": {
             "colorbar": {
              "outlinewidth": 0,
              "ticks": ""
             }
            },
            "type": "scatterpolar"
           }
          ],
          "scatterpolargl": [
           {
            "marker": {
             "colorbar": {
              "outlinewidth": 0,
              "ticks": ""
             }
            },
            "type": "scatterpolargl"
           }
          ],
          "scatterternary": [
           {
            "marker": {
             "colorbar": {
              "outlinewidth": 0,
              "ticks": ""
             }
            },
            "type": "scatterternary"
           }
          ],
          "surface": [
           {
            "colorbar": {
             "outlinewidth": 0,
             "ticks": ""
            },
            "colorscale": [
             [
              0,
              "#0d0887"
             ],
             [
              0.1111111111111111,
              "#46039f"
             ],
             [
              0.2222222222222222,
              "#7201a8"
             ],
             [
              0.3333333333333333,
              "#9c179e"
             ],
             [
              0.4444444444444444,
              "#bd3786"
             ],
             [
              0.5555555555555556,
              "#d8576b"
             ],
             [
              0.6666666666666666,
              "#ed7953"
             ],
             [
              0.7777777777777778,
              "#fb9f3a"
             ],
             [
              0.8888888888888888,
              "#fdca26"
             ],
             [
              1,
              "#f0f921"
             ]
            ],
            "type": "surface"
           }
          ],
          "table": [
           {
            "cells": {
             "fill": {
              "color": "#506784"
             },
             "line": {
              "color": "rgb(17,17,17)"
             }
            },
            "header": {
             "fill": {
              "color": "#2a3f5f"
             },
             "line": {
              "color": "rgb(17,17,17)"
             }
            },
            "type": "table"
           }
          ]
         },
         "layout": {
          "annotationdefaults": {
           "arrowcolor": "#f2f5fa",
           "arrowhead": 0,
           "arrowwidth": 1
          },
          "autotypenumbers": "strict",
          "coloraxis": {
           "colorbar": {
            "outlinewidth": 0,
            "ticks": ""
           }
          },
          "colorscale": {
           "diverging": [
            [
             0,
             "#8e0152"
            ],
            [
             0.1,
             "#c51b7d"
            ],
            [
             0.2,
             "#de77ae"
            ],
            [
             0.3,
             "#f1b6da"
            ],
            [
             0.4,
             "#fde0ef"
            ],
            [
             0.5,
             "#f7f7f7"
            ],
            [
             0.6,
             "#e6f5d0"
            ],
            [
             0.7,
             "#b8e186"
            ],
            [
             0.8,
             "#7fbc41"
            ],
            [
             0.9,
             "#4d9221"
            ],
            [
             1,
             "#276419"
            ]
           ],
           "sequential": [
            [
             0,
             "#0d0887"
            ],
            [
             0.1111111111111111,
             "#46039f"
            ],
            [
             0.2222222222222222,
             "#7201a8"
            ],
            [
             0.3333333333333333,
             "#9c179e"
            ],
            [
             0.4444444444444444,
             "#bd3786"
            ],
            [
             0.5555555555555556,
             "#d8576b"
            ],
            [
             0.6666666666666666,
             "#ed7953"
            ],
            [
             0.7777777777777778,
             "#fb9f3a"
            ],
            [
             0.8888888888888888,
             "#fdca26"
            ],
            [
             1,
             "#f0f921"
            ]
           ],
           "sequentialminus": [
            [
             0,
             "#0d0887"
            ],
            [
             0.1111111111111111,
             "#46039f"
            ],
            [
             0.2222222222222222,
             "#7201a8"
            ],
            [
             0.3333333333333333,
             "#9c179e"
            ],
            [
             0.4444444444444444,
             "#bd3786"
            ],
            [
             0.5555555555555556,
             "#d8576b"
            ],
            [
             0.6666666666666666,
             "#ed7953"
            ],
            [
             0.7777777777777778,
             "#fb9f3a"
            ],
            [
             0.8888888888888888,
             "#fdca26"
            ],
            [
             1,
             "#f0f921"
            ]
           ]
          },
          "colorway": [
           "#636efa",
           "#EF553B",
           "#00cc96",
           "#ab63fa",
           "#FFA15A",
           "#19d3f3",
           "#FF6692",
           "#B6E880",
           "#FF97FF",
           "#FECB52"
          ],
          "font": {
           "color": "#f2f5fa"
          },
          "geo": {
           "bgcolor": "rgb(17,17,17)",
           "lakecolor": "rgb(17,17,17)",
           "landcolor": "rgb(17,17,17)",
           "showlakes": true,
           "showland": true,
           "subunitcolor": "#506784"
          },
          "hoverlabel": {
           "align": "left"
          },
          "hovermode": "closest",
          "mapbox": {
           "style": "dark"
          },
          "paper_bgcolor": "rgb(17,17,17)",
          "plot_bgcolor": "rgb(17,17,17)",
          "polar": {
           "angularaxis": {
            "gridcolor": "#506784",
            "linecolor": "#506784",
            "ticks": ""
           },
           "bgcolor": "rgb(17,17,17)",
           "radialaxis": {
            "gridcolor": "#506784",
            "linecolor": "#506784",
            "ticks": ""
           }
          },
          "scene": {
           "xaxis": {
            "backgroundcolor": "rgb(17,17,17)",
            "gridcolor": "#506784",
            "gridwidth": 2,
            "linecolor": "#506784",
            "showbackground": true,
            "ticks": "",
            "zerolinecolor": "#C8D4E3"
           },
           "yaxis": {
            "backgroundcolor": "rgb(17,17,17)",
            "gridcolor": "#506784",
            "gridwidth": 2,
            "linecolor": "#506784",
            "showbackground": true,
            "ticks": "",
            "zerolinecolor": "#C8D4E3"
           },
           "zaxis": {
            "backgroundcolor": "rgb(17,17,17)",
            "gridcolor": "#506784",
            "gridwidth": 2,
            "linecolor": "#506784",
            "showbackground": true,
            "ticks": "",
            "zerolinecolor": "#C8D4E3"
           }
          },
          "shapedefaults": {
           "line": {
            "color": "#f2f5fa"
           }
          },
          "sliderdefaults": {
           "bgcolor": "#C8D4E3",
           "bordercolor": "rgb(17,17,17)",
           "borderwidth": 1,
           "tickwidth": 0
          },
          "ternary": {
           "aaxis": {
            "gridcolor": "#506784",
            "linecolor": "#506784",
            "ticks": ""
           },
           "baxis": {
            "gridcolor": "#506784",
            "linecolor": "#506784",
            "ticks": ""
           },
           "bgcolor": "rgb(17,17,17)",
           "caxis": {
            "gridcolor": "#506784",
            "linecolor": "#506784",
            "ticks": ""
           }
          },
          "title": {
           "x": 0.05
          },
          "updatemenudefaults": {
           "bgcolor": "#506784",
           "borderwidth": 0
          },
          "xaxis": {
           "automargin": true,
           "gridcolor": "#283442",
           "linecolor": "#506784",
           "ticks": "",
           "title": {
            "standoff": 15
           },
           "zerolinecolor": "#283442",
           "zerolinewidth": 2
          },
          "yaxis": {
           "automargin": true,
           "gridcolor": "#283442",
           "linecolor": "#506784",
           "ticks": "",
           "title": {
            "standoff": 15
           },
           "zerolinecolor": "#283442",
           "zerolinewidth": 2
          }
         }
        },
        "title": {
         "text": "MFS Account Growth Alongside Agents"
        },
        "width": 1380,
        "xaxis": {
         "anchor": "y",
         "domain": [
          0,
          0.94
         ],
         "title": {
          "text": "Month of Year"
         }
        },
        "xaxis2": {
         "anchor": "y3",
         "domain": [
          0,
          0.94
         ]
        },
        "yaxis": {
         "anchor": "x",
         "domain": [
          0,
          0.375
         ],
         "title": {
          "text": "ACCOUNTS"
         }
        },
        "yaxis2": {
         "anchor": "x",
         "overlaying": "y",
         "side": "right",
         "title": {
          "text": "Agents"
         }
        },
        "yaxis3": {
         "anchor": "x2",
         "domain": [
          0.625,
          1
         ],
         "title": {
          "text": "Accounts"
         }
        },
        "yaxis4": {
         "anchor": "x2",
         "overlaying": "y3",
         "side": "right",
         "title": {
          "text": "Agents"
         }
        }
       }
      }
     },
     "metadata": {},
     "output_type": "display_data"
    }
   ],
   "source": [
    "fig = go.Figure()\n",
    "fig = make_subplots(specs=[[{\"secondary_y\": True}], [{\"secondary_y\": True}]], rows=2, cols=1, start_cell=\"bottom-left\", subplot_titles=(\"URBAN\", \"RURAL\"))\n",
    "\n",
    "fig.add_trace(go.Scatter(x=mfs_acc['PERIOD'], y=mfs_acc['MFS_MALE_ACCOUNT_URBAN'], name='MALE AC UR', line=dict(color='#94F3E4', width=2)),\n",
    "              secondary_y=False,\n",
    "              row=1, \n",
    "              col=1)\n",
    "fig.add_trace(go.Scatter(x=mfs_acc['PERIOD'], y=mfs_acc['MFS_FEMALE_ACCOUNT_URBAN'], name='FEMALE AC UR', line=dict(color='#ffb55a', width=2)), \n",
    "              secondary_y=False,\n",
    "              row=1, \n",
    "              col=1)\n",
    "fig.add_trace(go.Scatter(x=mfs_acc['PERIOD'], y=mfs_acc['MFS_AGENT_URBAN'], name='AGENT UR', line=dict(color='#fdcce5', width=2)), \n",
    "              secondary_y=True,\n",
    "              row=1, \n",
    "              col=1)\n",
    "\n",
    "\n",
    "fig.add_trace(go.Scatter(x=mfs_acc['PERIOD'], y=mfs_acc['MFS_MALE_ACCOUNT_RURAL'], name='MALE AC RUR', line=dict(color='#94F3E4', width=2)),\n",
    "              secondary_y=False,\n",
    "              row=2, \n",
    "              col=1)\n",
    "fig.add_trace(go.Scatter(x=mfs_acc['PERIOD'], y=mfs_acc['MFS_FEMALE_ACCOUNT_RURAL'], name='FEMALE AC RUR', line=dict(color='#ffb55a', width=2)), \n",
    "              secondary_y=False,\n",
    "              row=2, \n",
    "              col=1)\n",
    "fig.add_trace(go.Scatter(x=mfs_acc['PERIOD'], y=mfs_acc['MFS_AGENT_RURAL'], name='AGENT RUR', line=dict(color='#fdcce5', width=2)), \n",
    "              secondary_y=True,\n",
    "              row=2, \n",
    "              col=1)\n",
    "\n",
    "fig.update_yaxes(title_text=\"Accounts\", secondary_y=False)\n",
    "fig.update_yaxes(title_text=\"Agents\", secondary_y=True)\n",
    "fig.update_layout(height=900, width=1380, title='MFS Account Growth Alongside Agents', xaxis_title='Month of Year', yaxis_title='ACCOUNTS', template='plotly_dark')\n",
    "fig.update_traces(mode=\"markers+lines\")"
   ]
  },
  {
   "cell_type": "code",
   "execution_count": 17,
   "metadata": {},
   "outputs": [
    {
     "data": {
      "application/vnd.plotly.v1+json": {
       "config": {
        "plotlyServerURL": "https://plot.ly"
       },
       "data": [
        {
         "line": {
          "color": "#ffcad4",
          "width": 2
         },
         "mode": "markers+lines",
         "name": "FEMALE AC RUR",
         "type": "scatter",
         "x": [
          "DEC 2018",
          "JAN 2019",
          "FEB 2019",
          "MAR 2019",
          "APR 2019",
          "MAY 2019",
          "JUN 2019",
          "JUL 2019",
          "AUG 2019",
          "SEP 2019",
          "OCT 2019",
          "NOV 2019",
          "DEC 2019",
          "JAN 2020",
          "FEB 2020",
          "MAR 2020",
          "APR 2020",
          "MAY 2020",
          "JUN 2020",
          "JUL 2020",
          "AUG 2020",
          "SEP 2020",
          "OCT 2020",
          "NOV 2020",
          "DEC 2020",
          "JAN 2021",
          "FEB 2021",
          "MAR 2021",
          "APR 2021",
          "MAY 2021",
          "JUN 2021",
          "JUL 2021",
          "AUG 2021",
          "SEP 2021",
          "OCT 2021",
          "NOV 2021",
          "DEC 2021",
          "JAN 2022",
          "FEB 2022",
          "MAR 2022",
          "APR 2022",
          "MAY 2022",
          "JUN 2022",
          "JUL 2022",
          "AUG 2022",
          "SEP 2022",
          "OCT 2022",
          "NOV 2022",
          "DEC 2022",
          "JAN 2023",
          "FEB 2023",
          "MAR 2023",
          "APR 2023",
          "MAY 2023",
          "JUN 2023"
         ],
         "xaxis": "x",
         "y": [
          23093199,
          22513069,
          22781950,
          22791889,
          23542408,
          24941362,
          25538222,
          25978657,
          26148132,
          27103533,
          27812631,
          28510614,
          29430765,
          30444454,
          31666645,
          32721472,
          33414807,
          34746317,
          35060824,
          35404726,
          36278531,
          36654062,
          37147292,
          37710374,
          38395744,
          39023457,
          40692894,
          43434909,
          39832544,
          40483601,
          41396674,
          41539879,
          42110590,
          42667246,
          43039862,
          43394397,
          43807390,
          44402688,
          44968975,
          39402031,
          39951203,
          41810980,
          42480876,
          43473798,
          43456183,
          43960719,
          44499815,
          45393551,
          45394713,
          46245896,
          46905849,
          47346768,
          47966998,
          48782455,
          49592680
         ],
         "yaxis": "y"
        },
        {
         "line": {
          "color": "#0a9396",
          "width": 2
         },
         "mode": "markers+lines",
         "name": "FEMALE AC UR",
         "type": "scatter",
         "x": [
          "DEC 2018",
          "JAN 2019",
          "FEB 2019",
          "MAR 2019",
          "APR 2019",
          "MAY 2019",
          "JUN 2019",
          "JUL 2019",
          "AUG 2019",
          "SEP 2019",
          "OCT 2019",
          "NOV 2019",
          "DEC 2019",
          "JAN 2020",
          "FEB 2020",
          "MAR 2020",
          "APR 2020",
          "MAY 2020",
          "JUN 2020",
          "JUL 2020",
          "AUG 2020",
          "SEP 2020",
          "OCT 2020",
          "NOV 2020",
          "DEC 2020",
          "JAN 2021",
          "FEB 2021",
          "MAR 2021",
          "APR 2021",
          "MAY 2021",
          "JUN 2021",
          "JUL 2021",
          "AUG 2021",
          "SEP 2021",
          "OCT 2021",
          "NOV 2021",
          "DEC 2021",
          "JAN 2022",
          "FEB 2022",
          "MAR 2022",
          "APR 2022",
          "MAY 2022",
          "JUN 2022",
          "JUL 2022",
          "AUG 2022",
          "SEP 2022",
          "OCT 2022",
          "NOV 2022",
          "DEC 2022",
          "JAN 2023",
          "FEB 2023",
          "MAR 2023",
          "APR 2023",
          "MAY 2023",
          "JUN 2023"
         ],
         "xaxis": "x",
         "y": [
          8491129,
          9533773,
          9458043,
          9744399,
          9739027,
          10141315,
          10246766,
          10438143,
          10602577,
          11264584,
          11726527,
          11985931,
          12789162,
          13394823,
          14044994,
          14542151,
          15253024,
          15916031,
          16177189,
          16811081,
          17224136,
          17533015,
          17970697,
          18409455,
          18879824,
          19211721,
          20203414,
          21430136,
          21179220,
          22800390,
          24809406,
          25995428,
          26583231,
          27158459,
          27613092,
          28092167,
          28637497,
          29316888,
          29930857,
          29852331,
          30415301,
          31620156,
          32215458,
          32935692,
          33140199,
          33572063,
          33979501,
          33695799,
          34729780,
          35240987,
          35667699,
          35755777,
          36179304,
          36714774,
          37249086
         ],
         "yaxis": "y"
        },
        {
         "line": {
          "color": "#ffcad4",
          "width": 2
         },
         "mode": "markers+lines",
         "name": "OTHER AC RUR",
         "type": "scatter",
         "x": [
          "DEC 2018",
          "JAN 2019",
          "FEB 2019",
          "MAR 2019",
          "APR 2019",
          "MAY 2019",
          "JUN 2019",
          "JUL 2019",
          "AUG 2019",
          "SEP 2019",
          "OCT 2019",
          "NOV 2019",
          "DEC 2019",
          "JAN 2020",
          "FEB 2020",
          "MAR 2020",
          "APR 2020",
          "MAY 2020",
          "JUN 2020",
          "JUL 2020",
          "AUG 2020",
          "SEP 2020",
          "OCT 2020",
          "NOV 2020",
          "DEC 2020",
          "JAN 2021",
          "FEB 2021",
          "MAR 2021",
          "APR 2021",
          "MAY 2021",
          "JUN 2021",
          "JUL 2021",
          "AUG 2021",
          "SEP 2021",
          "OCT 2021",
          "NOV 2021",
          "DEC 2021",
          "JAN 2022",
          "FEB 2022",
          "MAR 2022",
          "APR 2022",
          "MAY 2022",
          "JUN 2022",
          "JUL 2022",
          "AUG 2022",
          "SEP 2022",
          "OCT 2022",
          "NOV 2022",
          "DEC 2022",
          "JAN 2023",
          "FEB 2023",
          "MAR 2023",
          "APR 2023",
          "MAY 2023",
          "JUN 2023"
         ],
         "xaxis": "x2",
         "y": [
          1513,
          1475,
          1483,
          1519,
          1609,
          1644,
          1722,
          1818,
          2037,
          9351,
          10339,
          11104,
          55343,
          64405,
          68280,
          71878,
          73502,
          76474,
          75302,
          76786,
          77283,
          78737,
          80619,
          86632,
          92294,
          100507,
          104281,
          107191,
          109156,
          109761,
          112232,
          114541,
          118360,
          122286,
          117637,
          121643,
          123656,
          130837,
          134658,
          138245,
          141046,
          144204,
          146066,
          148895,
          150467,
          153049,
          155292,
          158841,
          164362,
          166637,
          168878,
          172597,
          177272,
          182743,
          189101
         ],
         "yaxis": "y2"
        },
        {
         "line": {
          "color": "#0a9396",
          "width": 2
         },
         "mode": "markers+lines",
         "name": "OTHER AC UR",
         "type": "scatter",
         "x": [
          "DEC 2018",
          "JAN 2019",
          "FEB 2019",
          "MAR 2019",
          "APR 2019",
          "MAY 2019",
          "JUN 2019",
          "JUL 2019",
          "AUG 2019",
          "SEP 2019",
          "OCT 2019",
          "NOV 2019",
          "DEC 2019",
          "JAN 2020",
          "FEB 2020",
          "MAR 2020",
          "APR 2020",
          "MAY 2020",
          "JUN 2020",
          "JUL 2020",
          "AUG 2020",
          "SEP 2020",
          "OCT 2020",
          "NOV 2020",
          "DEC 2020",
          "JAN 2021",
          "FEB 2021",
          "MAR 2021",
          "APR 2021",
          "MAY 2021",
          "JUN 2021",
          "JUL 2021",
          "AUG 2021",
          "SEP 2021",
          "OCT 2021",
          "NOV 2021",
          "DEC 2021",
          "JAN 2022",
          "FEB 2022",
          "MAR 2022",
          "APR 2022",
          "MAY 2022",
          "JUN 2022",
          "JUL 2022",
          "AUG 2022",
          "SEP 2022",
          "OCT 2022",
          "NOV 2022",
          "DEC 2022",
          "JAN 2023",
          "FEB 2023",
          "MAR 2023",
          "APR 2023",
          "MAY 2023",
          "JUN 2023"
         ],
         "xaxis": "x2",
         "y": [
          695,
          754,
          755,
          768,
          777,
          824,
          854,
          950,
          1074,
          24760,
          26368,
          27265,
          102212,
          111471,
          118973,
          125462,
          127062,
          130305,
          130169,
          134050,
          135797,
          139778,
          143505,
          151825,
          158152,
          167479,
          172739,
          176799,
          178327,
          181599,
          186016,
          189006,
          193432,
          198205,
          198511,
          205097,
          205856,
          216539,
          223016,
          229719,
          234809,
          241510,
          248485,
          253362,
          256880,
          262047,
          267161,
          274771,
          285248,
          290508,
          299511,
          327136,
          335711,
          348686,
          363483
         ],
         "yaxis": "y2"
        },
        {
         "line": {
          "color": "#ffcad4",
          "width": 2
         },
         "mode": "markers+lines",
         "name": "MALE AC RUR",
         "type": "scatter",
         "x": [
          "DEC 2018",
          "JAN 2019",
          "FEB 2019",
          "MAR 2019",
          "APR 2019",
          "MAY 2019",
          "JUN 2019",
          "JUL 2019",
          "AUG 2019",
          "SEP 2019",
          "OCT 2019",
          "NOV 2019",
          "DEC 2019",
          "JAN 2020",
          "FEB 2020",
          "MAR 2020",
          "APR 2020",
          "MAY 2020",
          "JUN 2020",
          "JUL 2020",
          "AUG 2020",
          "SEP 2020",
          "OCT 2020",
          "NOV 2020",
          "DEC 2020",
          "JAN 2021",
          "FEB 2021",
          "MAR 2021",
          "APR 2021",
          "MAY 2021",
          "JUN 2021",
          "JUL 2021",
          "AUG 2021",
          "SEP 2021",
          "OCT 2021",
          "NOV 2021",
          "DEC 2021",
          "JAN 2022",
          "FEB 2022",
          "MAR 2022",
          "APR 2022",
          "MAY 2022",
          "JUN 2022",
          "JUL 2022",
          "AUG 2022",
          "SEP 2022",
          "OCT 2022",
          "NOV 2022",
          "DEC 2022",
          "JAN 2023",
          "FEB 2023",
          "MAR 2023",
          "APR 2023",
          "MAY 2023",
          "JUN 2023"
         ],
         "xaxis": "x3",
         "y": [
          21030462,
          18880373,
          19006106,
          19201465,
          19665560,
          19758337,
          20757042,
          21477483,
          21687092,
          22351367,
          23109308,
          24043399,
          24893228,
          26034399,
          26983460,
          27982159,
          28941516,
          31478971,
          31936960,
          34590842,
          35041492,
          35396409,
          36251776,
          36832245,
          37612250,
          38296205,
          40556036,
          45106307,
          46020562,
          47325656,
          48922350,
          49291899,
          50114327,
          51052297,
          51810374,
          52474947,
          53224563,
          54230537,
          55148523,
          53871251,
          54630133,
          55964148,
          56820123,
          57131464,
          58077896,
          58689788,
          59413109,
          60368899,
          60466225,
          61507920,
          62409574,
          63033706,
          63937651,
          65093659,
          66247526
         ],
         "yaxis": "y3"
        },
        {
         "line": {
          "color": "#0a9396",
          "width": 2
         },
         "mode": "markers+lines",
         "name": "MALE AC UR",
         "type": "scatter",
         "x": [
          "DEC 2018",
          "JAN 2019",
          "FEB 2019",
          "MAR 2019",
          "APR 2019",
          "MAY 2019",
          "JUN 2019",
          "JUL 2019",
          "AUG 2019",
          "SEP 2019",
          "OCT 2019",
          "NOV 2019",
          "DEC 2019",
          "JAN 2020",
          "FEB 2020",
          "MAR 2020",
          "APR 2020",
          "MAY 2020",
          "JUN 2020",
          "JUL 2020",
          "AUG 2020",
          "SEP 2020",
          "OCT 2020",
          "NOV 2020",
          "DEC 2020",
          "JAN 2021",
          "FEB 2021",
          "MAR 2021",
          "APR 2021",
          "MAY 2021",
          "JUN 2021",
          "JUL 2021",
          "AUG 2021",
          "SEP 2021",
          "OCT 2021",
          "NOV 2021",
          "DEC 2021",
          "JAN 2022",
          "FEB 2022",
          "MAR 2022",
          "APR 2022",
          "MAY 2022",
          "JUN 2022",
          "JUL 2022",
          "AUG 2022",
          "SEP 2022",
          "OCT 2022",
          "NOV 2022",
          "DEC 2022",
          "JAN 2023",
          "FEB 2023",
          "MAR 2023",
          "APR 2023",
          "MAY 2023",
          "JUN 2023"
         ],
         "xaxis": "x3",
         "y": [
          15053470,
          16684243,
          16697088,
          16574635,
          16333380,
          17000434,
          17234004,
          17476643,
          17779052,
          18440077,
          18942419,
          19780354,
          20160737,
          20873990,
          21455510,
          21983067,
          22753691,
          23730024,
          24095188,
          25152310,
          25728507,
          26080014,
          26579555,
          27106814,
          27790013,
          28316854,
          29638030,
          31400373,
          31081403,
          33441779,
          37035589,
          38895616,
          39893788,
          40896834,
          41839891,
          42717241,
          43723069,
          44970483,
          45868201,
          46758151,
          47564802,
          45988861,
          46728634,
          47194552,
          48142985,
          48620266,
          49208715,
          48667875,
          50023245,
          50673189,
          51307660,
          51455799,
          52092274,
          52847869,
          53626770
         ],
         "yaxis": "y3"
        },
        {
         "line": {
          "color": "#ffcad4",
          "width": 2
         },
         "mode": "markers+lines",
         "name": "AGENT RUR",
         "type": "scatter",
         "x": [
          "DEC 2018",
          "JAN 2019",
          "FEB 2019",
          "MAR 2019",
          "APR 2019",
          "MAY 2019",
          "JUN 2019",
          "JUL 2019",
          "AUG 2019",
          "SEP 2019",
          "OCT 2019",
          "NOV 2019",
          "DEC 2019",
          "JAN 2020",
          "FEB 2020",
          "MAR 2020",
          "APR 2020",
          "MAY 2020",
          "JUN 2020",
          "JUL 2020",
          "AUG 2020",
          "SEP 2020",
          "OCT 2020",
          "NOV 2020",
          "DEC 2020",
          "JAN 2021",
          "FEB 2021",
          "MAR 2021",
          "APR 2021",
          "MAY 2021",
          "JUN 2021",
          "JUL 2021",
          "AUG 2021",
          "SEP 2021",
          "OCT 2021",
          "NOV 2021",
          "DEC 2021",
          "JAN 2022",
          "FEB 2022",
          "MAR 2022",
          "APR 2022",
          "MAY 2022",
          "JUN 2022",
          "JUL 2022",
          "AUG 2022",
          "SEP 2022",
          "OCT 2022",
          "NOV 2022",
          "DEC 2022",
          "JAN 2023",
          "FEB 2023",
          "MAR 2023",
          "APR 2023",
          "MAY 2023",
          "JUN 2023"
         ],
         "xaxis": "x4",
         "y": [
          437887,
          474042,
          484885,
          493982,
          507123,
          504524,
          495960,
          511146,
          517516,
          499303,
          505509,
          515520,
          524226,
          538479,
          546236,
          554629,
          555717,
          557159,
          560745,
          563401,
          567551,
          573542,
          583630,
          596012,
          607336,
          609517,
          618004,
          627291,
          627753,
          635798,
          654434,
          656657,
          666711,
          653466,
          661362,
          670020,
          678293,
          684531,
          692338,
          701111,
          708886,
          741636,
          751201,
          758679,
          762188,
          767790,
          775890,
          780011,
          791372,
          797431,
          804408,
          812869,
          784579,
          789021,
          796139
         ],
         "yaxis": "y4"
        },
        {
         "line": {
          "color": "#0a9396",
          "width": 2
         },
         "mode": "markers+lines",
         "name": "AGENT UR",
         "type": "scatter",
         "x": [
          "DEC 2018",
          "JAN 2019",
          "FEB 2019",
          "MAR 2019",
          "APR 2019",
          "MAY 2019",
          "JUN 2019",
          "JUL 2019",
          "AUG 2019",
          "SEP 2019",
          "OCT 2019",
          "NOV 2019",
          "DEC 2019",
          "JAN 2020",
          "FEB 2020",
          "MAR 2020",
          "APR 2020",
          "MAY 2020",
          "JUN 2020",
          "JUL 2020",
          "AUG 2020",
          "SEP 2020",
          "OCT 2020",
          "NOV 2020",
          "DEC 2020",
          "JAN 2021",
          "FEB 2021",
          "MAR 2021",
          "APR 2021",
          "MAY 2021",
          "JUN 2021",
          "JUL 2021",
          "AUG 2021",
          "SEP 2021",
          "OCT 2021",
          "NOV 2021",
          "DEC 2021",
          "JAN 2022",
          "FEB 2022",
          "MAR 2022",
          "APR 2022",
          "MAY 2022",
          "JUN 2022",
          "JUL 2022",
          "AUG 2022",
          "SEP 2022",
          "OCT 2022",
          "NOV 2022",
          "DEC 2022",
          "JAN 2023",
          "FEB 2023",
          "MAR 2023",
          "APR 2023",
          "MAY 2023",
          "JUN 2023"
         ],
         "xaxis": "x4",
         "y": [
          505623,
          491140,
          495975,
          503042,
          505414,
          514835,
          528812,
          525954,
          532373,
          553720,
          556488,
          567067,
          573995,
          581094,
          586665,
          593857,
          594644,
          596353,
          599376,
          606390,
          611021,
          616288,
          622689,
          631710,
          659459,
          650450,
          658549,
          667194,
          662640,
          684610,
          723182,
          738798,
          755222,
          757726,
          770002,
          718721,
          734474,
          745319,
          753199,
          763921,
          773130,
          754220,
          764464,
          767560,
          731210,
          737531,
          745913,
          751394,
          763265,
          771681,
          776876,
          785131,
          771212,
          781319,
          789583
         ],
         "yaxis": "y4"
        }
       ],
       "layout": {
        "annotations": [
         {
          "font": {
           "size": 16
          },
          "showarrow": false,
          "text": "FEMALE",
          "x": 0.5,
          "xanchor": "center",
          "xref": "paper",
          "y": 0.15625,
          "yanchor": "bottom",
          "yref": "paper"
         },
         {
          "font": {
           "size": 16
          },
          "showarrow": false,
          "text": "OTHER",
          "x": 0.5,
          "xanchor": "center",
          "xref": "paper",
          "y": 0.4375,
          "yanchor": "bottom",
          "yref": "paper"
         },
         {
          "font": {
           "size": 16
          },
          "showarrow": false,
          "text": "MALE",
          "x": 0.5,
          "xanchor": "center",
          "xref": "paper",
          "y": 0.71875,
          "yanchor": "bottom",
          "yref": "paper"
         },
         {
          "font": {
           "size": 16
          },
          "showarrow": false,
          "text": "AGENT",
          "x": 0.5,
          "xanchor": "center",
          "xref": "paper",
          "y": 1,
          "yanchor": "bottom",
          "yref": "paper"
         }
        ],
        "height": 980,
        "template": {
         "data": {
          "bar": [
           {
            "error_x": {
             "color": "#f2f5fa"
            },
            "error_y": {
             "color": "#f2f5fa"
            },
            "marker": {
             "line": {
              "color": "rgb(17,17,17)",
              "width": 0.5
             },
             "pattern": {
              "fillmode": "overlay",
              "size": 10,
              "solidity": 0.2
             }
            },
            "type": "bar"
           }
          ],
          "barpolar": [
           {
            "marker": {
             "line": {
              "color": "rgb(17,17,17)",
              "width": 0.5
             },
             "pattern": {
              "fillmode": "overlay",
              "size": 10,
              "solidity": 0.2
             }
            },
            "type": "barpolar"
           }
          ],
          "carpet": [
           {
            "aaxis": {
             "endlinecolor": "#A2B1C6",
             "gridcolor": "#506784",
             "linecolor": "#506784",
             "minorgridcolor": "#506784",
             "startlinecolor": "#A2B1C6"
            },
            "baxis": {
             "endlinecolor": "#A2B1C6",
             "gridcolor": "#506784",
             "linecolor": "#506784",
             "minorgridcolor": "#506784",
             "startlinecolor": "#A2B1C6"
            },
            "type": "carpet"
           }
          ],
          "choropleth": [
           {
            "colorbar": {
             "outlinewidth": 0,
             "ticks": ""
            },
            "type": "choropleth"
           }
          ],
          "contour": [
           {
            "colorbar": {
             "outlinewidth": 0,
             "ticks": ""
            },
            "colorscale": [
             [
              0,
              "#0d0887"
             ],
             [
              0.1111111111111111,
              "#46039f"
             ],
             [
              0.2222222222222222,
              "#7201a8"
             ],
             [
              0.3333333333333333,
              "#9c179e"
             ],
             [
              0.4444444444444444,
              "#bd3786"
             ],
             [
              0.5555555555555556,
              "#d8576b"
             ],
             [
              0.6666666666666666,
              "#ed7953"
             ],
             [
              0.7777777777777778,
              "#fb9f3a"
             ],
             [
              0.8888888888888888,
              "#fdca26"
             ],
             [
              1,
              "#f0f921"
             ]
            ],
            "type": "contour"
           }
          ],
          "contourcarpet": [
           {
            "colorbar": {
             "outlinewidth": 0,
             "ticks": ""
            },
            "type": "contourcarpet"
           }
          ],
          "heatmap": [
           {
            "colorbar": {
             "outlinewidth": 0,
             "ticks": ""
            },
            "colorscale": [
             [
              0,
              "#0d0887"
             ],
             [
              0.1111111111111111,
              "#46039f"
             ],
             [
              0.2222222222222222,
              "#7201a8"
             ],
             [
              0.3333333333333333,
              "#9c179e"
             ],
             [
              0.4444444444444444,
              "#bd3786"
             ],
             [
              0.5555555555555556,
              "#d8576b"
             ],
             [
              0.6666666666666666,
              "#ed7953"
             ],
             [
              0.7777777777777778,
              "#fb9f3a"
             ],
             [
              0.8888888888888888,
              "#fdca26"
             ],
             [
              1,
              "#f0f921"
             ]
            ],
            "type": "heatmap"
           }
          ],
          "heatmapgl": [
           {
            "colorbar": {
             "outlinewidth": 0,
             "ticks": ""
            },
            "colorscale": [
             [
              0,
              "#0d0887"
             ],
             [
              0.1111111111111111,
              "#46039f"
             ],
             [
              0.2222222222222222,
              "#7201a8"
             ],
             [
              0.3333333333333333,
              "#9c179e"
             ],
             [
              0.4444444444444444,
              "#bd3786"
             ],
             [
              0.5555555555555556,
              "#d8576b"
             ],
             [
              0.6666666666666666,
              "#ed7953"
             ],
             [
              0.7777777777777778,
              "#fb9f3a"
             ],
             [
              0.8888888888888888,
              "#fdca26"
             ],
             [
              1,
              "#f0f921"
             ]
            ],
            "type": "heatmapgl"
           }
          ],
          "histogram": [
           {
            "marker": {
             "pattern": {
              "fillmode": "overlay",
              "size": 10,
              "solidity": 0.2
             }
            },
            "type": "histogram"
           }
          ],
          "histogram2d": [
           {
            "colorbar": {
             "outlinewidth": 0,
             "ticks": ""
            },
            "colorscale": [
             [
              0,
              "#0d0887"
             ],
             [
              0.1111111111111111,
              "#46039f"
             ],
             [
              0.2222222222222222,
              "#7201a8"
             ],
             [
              0.3333333333333333,
              "#9c179e"
             ],
             [
              0.4444444444444444,
              "#bd3786"
             ],
             [
              0.5555555555555556,
              "#d8576b"
             ],
             [
              0.6666666666666666,
              "#ed7953"
             ],
             [
              0.7777777777777778,
              "#fb9f3a"
             ],
             [
              0.8888888888888888,
              "#fdca26"
             ],
             [
              1,
              "#f0f921"
             ]
            ],
            "type": "histogram2d"
           }
          ],
          "histogram2dcontour": [
           {
            "colorbar": {
             "outlinewidth": 0,
             "ticks": ""
            },
            "colorscale": [
             [
              0,
              "#0d0887"
             ],
             [
              0.1111111111111111,
              "#46039f"
             ],
             [
              0.2222222222222222,
              "#7201a8"
             ],
             [
              0.3333333333333333,
              "#9c179e"
             ],
             [
              0.4444444444444444,
              "#bd3786"
             ],
             [
              0.5555555555555556,
              "#d8576b"
             ],
             [
              0.6666666666666666,
              "#ed7953"
             ],
             [
              0.7777777777777778,
              "#fb9f3a"
             ],
             [
              0.8888888888888888,
              "#fdca26"
             ],
             [
              1,
              "#f0f921"
             ]
            ],
            "type": "histogram2dcontour"
           }
          ],
          "mesh3d": [
           {
            "colorbar": {
             "outlinewidth": 0,
             "ticks": ""
            },
            "type": "mesh3d"
           }
          ],
          "parcoords": [
           {
            "line": {
             "colorbar": {
              "outlinewidth": 0,
              "ticks": ""
             }
            },
            "type": "parcoords"
           }
          ],
          "pie": [
           {
            "automargin": true,
            "type": "pie"
           }
          ],
          "scatter": [
           {
            "marker": {
             "line": {
              "color": "#283442"
             }
            },
            "type": "scatter"
           }
          ],
          "scatter3d": [
           {
            "line": {
             "colorbar": {
              "outlinewidth": 0,
              "ticks": ""
             }
            },
            "marker": {
             "colorbar": {
              "outlinewidth": 0,
              "ticks": ""
             }
            },
            "type": "scatter3d"
           }
          ],
          "scattercarpet": [
           {
            "marker": {
             "colorbar": {
              "outlinewidth": 0,
              "ticks": ""
             }
            },
            "type": "scattercarpet"
           }
          ],
          "scattergeo": [
           {
            "marker": {
             "colorbar": {
              "outlinewidth": 0,
              "ticks": ""
             }
            },
            "type": "scattergeo"
           }
          ],
          "scattergl": [
           {
            "marker": {
             "line": {
              "color": "#283442"
             }
            },
            "type": "scattergl"
           }
          ],
          "scattermapbox": [
           {
            "marker": {
             "colorbar": {
              "outlinewidth": 0,
              "ticks": ""
             }
            },
            "type": "scattermapbox"
           }
          ],
          "scatterpolar": [
           {
            "marker": {
             "colorbar": {
              "outlinewidth": 0,
              "ticks": ""
             }
            },
            "type": "scatterpolar"
           }
          ],
          "scatterpolargl": [
           {
            "marker": {
             "colorbar": {
              "outlinewidth": 0,
              "ticks": ""
             }
            },
            "type": "scatterpolargl"
           }
          ],
          "scatterternary": [
           {
            "marker": {
             "colorbar": {
              "outlinewidth": 0,
              "ticks": ""
             }
            },
            "type": "scatterternary"
           }
          ],
          "surface": [
           {
            "colorbar": {
             "outlinewidth": 0,
             "ticks": ""
            },
            "colorscale": [
             [
              0,
              "#0d0887"
             ],
             [
              0.1111111111111111,
              "#46039f"
             ],
             [
              0.2222222222222222,
              "#7201a8"
             ],
             [
              0.3333333333333333,
              "#9c179e"
             ],
             [
              0.4444444444444444,
              "#bd3786"
             ],
             [
              0.5555555555555556,
              "#d8576b"
             ],
             [
              0.6666666666666666,
              "#ed7953"
             ],
             [
              0.7777777777777778,
              "#fb9f3a"
             ],
             [
              0.8888888888888888,
              "#fdca26"
             ],
             [
              1,
              "#f0f921"
             ]
            ],
            "type": "surface"
           }
          ],
          "table": [
           {
            "cells": {
             "fill": {
              "color": "#506784"
             },
             "line": {
              "color": "rgb(17,17,17)"
             }
            },
            "header": {
             "fill": {
              "color": "#2a3f5f"
             },
             "line": {
              "color": "rgb(17,17,17)"
             }
            },
            "type": "table"
           }
          ]
         },
         "layout": {
          "annotationdefaults": {
           "arrowcolor": "#f2f5fa",
           "arrowhead": 0,
           "arrowwidth": 1
          },
          "autotypenumbers": "strict",
          "coloraxis": {
           "colorbar": {
            "outlinewidth": 0,
            "ticks": ""
           }
          },
          "colorscale": {
           "diverging": [
            [
             0,
             "#8e0152"
            ],
            [
             0.1,
             "#c51b7d"
            ],
            [
             0.2,
             "#de77ae"
            ],
            [
             0.3,
             "#f1b6da"
            ],
            [
             0.4,
             "#fde0ef"
            ],
            [
             0.5,
             "#f7f7f7"
            ],
            [
             0.6,
             "#e6f5d0"
            ],
            [
             0.7,
             "#b8e186"
            ],
            [
             0.8,
             "#7fbc41"
            ],
            [
             0.9,
             "#4d9221"
            ],
            [
             1,
             "#276419"
            ]
           ],
           "sequential": [
            [
             0,
             "#0d0887"
            ],
            [
             0.1111111111111111,
             "#46039f"
            ],
            [
             0.2222222222222222,
             "#7201a8"
            ],
            [
             0.3333333333333333,
             "#9c179e"
            ],
            [
             0.4444444444444444,
             "#bd3786"
            ],
            [
             0.5555555555555556,
             "#d8576b"
            ],
            [
             0.6666666666666666,
             "#ed7953"
            ],
            [
             0.7777777777777778,
             "#fb9f3a"
            ],
            [
             0.8888888888888888,
             "#fdca26"
            ],
            [
             1,
             "#f0f921"
            ]
           ],
           "sequentialminus": [
            [
             0,
             "#0d0887"
            ],
            [
             0.1111111111111111,
             "#46039f"
            ],
            [
             0.2222222222222222,
             "#7201a8"
            ],
            [
             0.3333333333333333,
             "#9c179e"
            ],
            [
             0.4444444444444444,
             "#bd3786"
            ],
            [
             0.5555555555555556,
             "#d8576b"
            ],
            [
             0.6666666666666666,
             "#ed7953"
            ],
            [
             0.7777777777777778,
             "#fb9f3a"
            ],
            [
             0.8888888888888888,
             "#fdca26"
            ],
            [
             1,
             "#f0f921"
            ]
           ]
          },
          "colorway": [
           "#636efa",
           "#EF553B",
           "#00cc96",
           "#ab63fa",
           "#FFA15A",
           "#19d3f3",
           "#FF6692",
           "#B6E880",
           "#FF97FF",
           "#FECB52"
          ],
          "font": {
           "color": "#f2f5fa"
          },
          "geo": {
           "bgcolor": "rgb(17,17,17)",
           "lakecolor": "rgb(17,17,17)",
           "landcolor": "rgb(17,17,17)",
           "showlakes": true,
           "showland": true,
           "subunitcolor": "#506784"
          },
          "hoverlabel": {
           "align": "left"
          },
          "hovermode": "closest",
          "mapbox": {
           "style": "dark"
          },
          "paper_bgcolor": "rgb(17,17,17)",
          "plot_bgcolor": "rgb(17,17,17)",
          "polar": {
           "angularaxis": {
            "gridcolor": "#506784",
            "linecolor": "#506784",
            "ticks": ""
           },
           "bgcolor": "rgb(17,17,17)",
           "radialaxis": {
            "gridcolor": "#506784",
            "linecolor": "#506784",
            "ticks": ""
           }
          },
          "scene": {
           "xaxis": {
            "backgroundcolor": "rgb(17,17,17)",
            "gridcolor": "#506784",
            "gridwidth": 2,
            "linecolor": "#506784",
            "showbackground": true,
            "ticks": "",
            "zerolinecolor": "#C8D4E3"
           },
           "yaxis": {
            "backgroundcolor": "rgb(17,17,17)",
            "gridcolor": "#506784",
            "gridwidth": 2,
            "linecolor": "#506784",
            "showbackground": true,
            "ticks": "",
            "zerolinecolor": "#C8D4E3"
           },
           "zaxis": {
            "backgroundcolor": "rgb(17,17,17)",
            "gridcolor": "#506784",
            "gridwidth": 2,
            "linecolor": "#506784",
            "showbackground": true,
            "ticks": "",
            "zerolinecolor": "#C8D4E3"
           }
          },
          "shapedefaults": {
           "line": {
            "color": "#f2f5fa"
           }
          },
          "sliderdefaults": {
           "bgcolor": "#C8D4E3",
           "bordercolor": "rgb(17,17,17)",
           "borderwidth": 1,
           "tickwidth": 0
          },
          "ternary": {
           "aaxis": {
            "gridcolor": "#506784",
            "linecolor": "#506784",
            "ticks": ""
           },
           "baxis": {
            "gridcolor": "#506784",
            "linecolor": "#506784",
            "ticks": ""
           },
           "bgcolor": "rgb(17,17,17)",
           "caxis": {
            "gridcolor": "#506784",
            "linecolor": "#506784",
            "ticks": ""
           }
          },
          "title": {
           "x": 0.05
          },
          "updatemenudefaults": {
           "bgcolor": "#506784",
           "borderwidth": 0
          },
          "xaxis": {
           "automargin": true,
           "gridcolor": "#283442",
           "linecolor": "#506784",
           "ticks": "",
           "title": {
            "standoff": 15
           },
           "zerolinecolor": "#283442",
           "zerolinewidth": 2
          },
          "yaxis": {
           "automargin": true,
           "gridcolor": "#283442",
           "linecolor": "#506784",
           "ticks": "",
           "title": {
            "standoff": 15
           },
           "zerolinecolor": "#283442",
           "zerolinewidth": 2
          }
         }
        },
        "title": {
         "text": "MFS Account Growth (RURAL vs URBAN)"
        },
        "width": 1380,
        "xaxis": {
         "anchor": "y",
         "domain": [
          0,
          1
         ],
         "title": {
          "text": "Month of Year"
         }
        },
        "xaxis2": {
         "anchor": "y2",
         "domain": [
          0,
          1
         ]
        },
        "xaxis3": {
         "anchor": "y3",
         "domain": [
          0,
          1
         ]
        },
        "xaxis4": {
         "anchor": "y4",
         "domain": [
          0,
          1
         ]
        },
        "yaxis": {
         "anchor": "x",
         "domain": [
          0,
          0.15625
         ],
         "title": {
          "text": "ACCOUNTS"
         }
        },
        "yaxis2": {
         "anchor": "x2",
         "domain": [
          0.28125,
          0.4375
         ],
         "title": {
          "text": "Accounts"
         }
        },
        "yaxis3": {
         "anchor": "x3",
         "domain": [
          0.5625,
          0.71875
         ],
         "title": {
          "text": "Accounts"
         }
        },
        "yaxis4": {
         "anchor": "x4",
         "domain": [
          0.84375,
          1
         ],
         "title": {
          "text": "Accounts"
         }
        }
       }
      }
     },
     "metadata": {},
     "output_type": "display_data"
    }
   ],
   "source": [
    "fig = go.Figure()\n",
    "fig = make_subplots(rows=4, cols=1, start_cell=\"bottom-left\", subplot_titles=(\"FEMALE\", \"OTHER\", \"MALE\", \"AGENT\"))\n",
    "\n",
    "\n",
    "fig.add_trace(go.Scatter(x=mfs_acc['PERIOD'], y=mfs_acc['MFS_FEMALE_ACCOUNT_RURAL'], name='FEMALE AC RUR', line=dict(color='#ffcad4', width=2)), row=1,  col=1)\n",
    "fig.add_trace(go.Scatter(x=mfs_acc['PERIOD'], y=mfs_acc['MFS_FEMALE_ACCOUNT_URBAN'], name='FEMALE AC UR', line=dict(color='#0a9396', width=2)), row=1, col=1)\n",
    "\n",
    "fig.add_trace(go.Scatter(x=mfs_acc['PERIOD'], y=mfs_acc['MFS_OTHER_ACCOUNT_RURAL'], name='OTHER AC RUR', line=dict(color='#ffcad4', width=2)), row=2,  col=1)\n",
    "fig.add_trace(go.Scatter(x=mfs_acc['PERIOD'], y=mfs_acc['MFS_OTHER_ACCOUNT_URBAN'], name='OTHER AC UR', line=dict(color='#0a9396', width=2)), row=2, col=1)\n",
    "\n",
    "fig.add_trace(go.Scatter(x=mfs_acc['PERIOD'], y=mfs_acc['MFS_MALE_ACCOUNT_RURAL'], name='MALE AC RUR', line=dict(color='#ffcad4', width=2)), row=3,  col=1)\n",
    "fig.add_trace(go.Scatter(x=mfs_acc['PERIOD'], y=mfs_acc['MFS_MALE_ACCOUNT_URBAN'], name='MALE AC UR', line=dict(color='#0a9396', width=2)), row=3, col=1)\n",
    "\n",
    "fig.add_trace(go.Scatter(x=mfs_acc['PERIOD'], y=mfs_acc['MFS_AGENT_RURAL'], name='AGENT RUR', line=dict(color='#ffcad4', width=2)), row=4,  col=1)\n",
    "fig.add_trace(go.Scatter(x=mfs_acc['PERIOD'], y=mfs_acc['MFS_AGENT_URBAN'], name='AGENT UR', line=dict(color='#0a9396', width=2)), row=4, col=1)\n",
    "\n",
    "\n",
    "fig.update_yaxes(title_text=\"Accounts\", secondary_y=False)\n",
    "fig.update_layout(height=980, width=1380, title='MFS Account Growth (RURAL vs URBAN)', xaxis_title='Month of Year', yaxis_title='ACCOUNTS', template='plotly_dark')\n",
    "fig.update_traces(mode=\"markers+lines\")"
   ]
  },
  {
   "cell_type": "code",
   "execution_count": null,
   "metadata": {},
   "outputs": [],
   "source": []
  },
  {
   "cell_type": "code",
   "execution_count": 21,
   "metadata": {},
   "outputs": [
    {
     "data": {
      "text/html": [
       "<div>\n",
       "<style scoped>\n",
       "    .dataframe tbody tr th:only-of-type {\n",
       "        vertical-align: middle;\n",
       "    }\n",
       "\n",
       "    .dataframe tbody tr th {\n",
       "        vertical-align: top;\n",
       "    }\n",
       "\n",
       "    .dataframe thead th {\n",
       "        text-align: right;\n",
       "    }\n",
       "</style>\n",
       "<table border=\"1\" class=\"dataframe\">\n",
       "  <thead>\n",
       "    <tr style=\"text-align: right;\">\n",
       "      <th></th>\n",
       "      <th>Period</th>\n",
       "      <th>All Transactions</th>\n",
       "      <th>Unnamed: 2</th>\n",
       "      <th>Cash In</th>\n",
       "      <th>Unnamed: 4</th>\n",
       "      <th>Cash Out</th>\n",
       "      <th>Unnamed: 6</th>\n",
       "      <th>P2P</th>\n",
       "      <th>Unnamed: 8</th>\n",
       "      <th>Merchant Payment</th>\n",
       "      <th>...</th>\n",
       "      <th>Unnamed: 12</th>\n",
       "      <th>Salary Disbursement</th>\n",
       "      <th>Unnamed: 14</th>\n",
       "      <th>Talktime Purchase</th>\n",
       "      <th>Unnamed: 16</th>\n",
       "      <th>Utility Bill Payment</th>\n",
       "      <th>Unnamed: 18</th>\n",
       "      <th>Inwrad Remittance</th>\n",
       "      <th>Unnamed: 20</th>\n",
       "      <th>Float Amount</th>\n",
       "    </tr>\n",
       "  </thead>\n",
       "  <tbody>\n",
       "    <tr>\n",
       "      <th>0</th>\n",
       "      <td>NaN</td>\n",
       "      <td>Number</td>\n",
       "      <td>Amount</td>\n",
       "      <td>Number</td>\n",
       "      <td>Amount</td>\n",
       "      <td>Number</td>\n",
       "      <td>Amount</td>\n",
       "      <td>Number</td>\n",
       "      <td>Amount</td>\n",
       "      <td>Number</td>\n",
       "      <td>...</td>\n",
       "      <td>Amount</td>\n",
       "      <td>Number</td>\n",
       "      <td>Amount</td>\n",
       "      <td>Number</td>\n",
       "      <td>Amount</td>\n",
       "      <td>Number</td>\n",
       "      <td>Amount</td>\n",
       "      <td>Number</td>\n",
       "      <td>Amount</td>\n",
       "      <td>NaN</td>\n",
       "    </tr>\n",
       "    <tr>\n",
       "      <th>1</th>\n",
       "      <td>June'23</td>\n",
       "      <td>572615005</td>\n",
       "      <td>1321752.999362</td>\n",
       "      <td>97427302</td>\n",
       "      <td>390567.725262</td>\n",
       "      <td>114319976</td>\n",
       "      <td>377076.755464</td>\n",
       "      <td>93153065</td>\n",
       "      <td>339232.398866</td>\n",
       "      <td>26127282</td>\n",
       "      <td>...</td>\n",
       "      <td>40666.767882</td>\n",
       "      <td>8611435</td>\n",
       "      <td>51879.061935</td>\n",
       "      <td>161776493</td>\n",
       "      <td>10809.178691</td>\n",
       "      <td>22850486</td>\n",
       "      <td>29415.219157</td>\n",
       "      <td>646884</td>\n",
       "      <td>6351.353548</td>\n",
       "      <td>136865.077787</td>\n",
       "    </tr>\n",
       "    <tr>\n",
       "      <th>2</th>\n",
       "      <td>May'23</td>\n",
       "      <td>501923307</td>\n",
       "      <td>1083551.87467</td>\n",
       "      <td>95687979</td>\n",
       "      <td>344620.42679</td>\n",
       "      <td>97793610</td>\n",
       "      <td>293519.852298</td>\n",
       "      <td>87246627</td>\n",
       "      <td>301692.628768</td>\n",
       "      <td>25345772</td>\n",
       "      <td>...</td>\n",
       "      <td>9058.840566</td>\n",
       "      <td>3988331</td>\n",
       "      <td>19936.319503</td>\n",
       "      <td>154643286</td>\n",
       "      <td>10215.253099</td>\n",
       "      <td>22944028</td>\n",
       "      <td>29620.178555</td>\n",
       "      <td>522448</td>\n",
       "      <td>4569.159622</td>\n",
       "      <td>104353.675440</td>\n",
       "    </tr>\n",
       "    <tr>\n",
       "      <th>3</th>\n",
       "      <td>April'23</td>\n",
       "      <td>531055866</td>\n",
       "      <td>1249540.019814</td>\n",
       "      <td>98290675</td>\n",
       "      <td>375475.78412</td>\n",
       "      <td>103897601</td>\n",
       "      <td>359378.198775</td>\n",
       "      <td>100783923</td>\n",
       "      <td>343577.810576</td>\n",
       "      <td>24375992</td>\n",
       "      <td>...</td>\n",
       "      <td>20013.628719</td>\n",
       "      <td>7521038</td>\n",
       "      <td>43883.434078</td>\n",
       "      <td>156207016</td>\n",
       "      <td>10178.289653</td>\n",
       "      <td>20606668</td>\n",
       "      <td>24371.185707</td>\n",
       "      <td>703314</td>\n",
       "      <td>6297.294126</td>\n",
       "      <td>110842.545040</td>\n",
       "    </tr>\n",
       "    <tr>\n",
       "      <th>4</th>\n",
       "      <td>March'23</td>\n",
       "      <td>482456025</td>\n",
       "      <td>1084672.655134</td>\n",
       "      <td>97329343</td>\n",
       "      <td>343081.281908</td>\n",
       "      <td>97887865</td>\n",
       "      <td>309399.220088</td>\n",
       "      <td>87449831</td>\n",
       "      <td>315067.644976</td>\n",
       "      <td>21543044</td>\n",
       "      <td>...</td>\n",
       "      <td>2921.904615</td>\n",
       "      <td>4165001</td>\n",
       "      <td>27581.276049</td>\n",
       "      <td>146205560</td>\n",
       "      <td>9451.186984</td>\n",
       "      <td>20644795</td>\n",
       "      <td>23180.912852</td>\n",
       "      <td>534916</td>\n",
       "      <td>5127.375946</td>\n",
       "      <td>99337.355457</td>\n",
       "    </tr>\n",
       "  </tbody>\n",
       "</table>\n",
       "<p>5 rows × 22 columns</p>\n",
       "</div>"
      ],
      "text/plain": [
       "     Period All Transactions      Unnamed: 2  Cash In      Unnamed: 4   \n",
       "0       NaN           Number          Amount    Number         Amount  \\\n",
       "1   June'23        572615005  1321752.999362  97427302  390567.725262   \n",
       "2    May'23        501923307   1083551.87467  95687979   344620.42679   \n",
       "3  April'23        531055866  1249540.019814  98290675   375475.78412   \n",
       "4  March'23        482456025  1084672.655134  97329343  343081.281908   \n",
       "\n",
       "    Cash Out     Unnamed: 6        P2P     Unnamed: 8 Merchant Payment  ...   \n",
       "0     Number         Amount     Number         Amount           Number  ...  \\\n",
       "1  114319976  377076.755464   93153065  339232.398866         26127282  ...   \n",
       "2   97793610  293519.852298   87246627  301692.628768         25345772  ...   \n",
       "3  103897601  359378.198775  100783923  343577.810576         24375992  ...   \n",
       "4   97887865  309399.220088   87449831  315067.644976         21543044  ...   \n",
       "\n",
       "    Unnamed: 12 Salary Disbursement   Unnamed: 14 Talktime Purchase   \n",
       "0        Amount              Number        Amount            Number  \\\n",
       "1  40666.767882             8611435  51879.061935         161776493   \n",
       "2   9058.840566             3988331  19936.319503         154643286   \n",
       "3  20013.628719             7521038  43883.434078         156207016   \n",
       "4   2921.904615             4165001  27581.276049         146205560   \n",
       "\n",
       "    Unnamed: 16 Utility Bill Payment   Unnamed: 18 Inwrad Remittance   \n",
       "0        Amount               Number        Amount            Number  \\\n",
       "1  10809.178691             22850486  29415.219157            646884   \n",
       "2  10215.253099             22944028  29620.178555            522448   \n",
       "3  10178.289653             20606668  24371.185707            703314   \n",
       "4   9451.186984             20644795  23180.912852            534916   \n",
       "\n",
       "   Unnamed: 20   Float Amount  \n",
       "0       Amount            NaN  \n",
       "1  6351.353548  136865.077787  \n",
       "2  4569.159622  104353.675440  \n",
       "3  6297.294126  110842.545040  \n",
       "4  5127.375946   99337.355457  \n",
       "\n",
       "[5 rows x 22 columns]"
      ]
     },
     "execution_count": 21,
     "metadata": {},
     "output_type": "execute_result"
    }
   ],
   "source": [
    "mfs_txns_data = pd.read_excel('MFS_TXNS.xlsx')\n",
    "mfs_txns_data.head(5)"
   ]
  },
  {
   "cell_type": "code",
   "execution_count": 22,
   "metadata": {},
   "outputs": [
    {
     "data": {
      "text/html": [
       "<div>\n",
       "<style scoped>\n",
       "    .dataframe tbody tr th:only-of-type {\n",
       "        vertical-align: middle;\n",
       "    }\n",
       "\n",
       "    .dataframe tbody tr th {\n",
       "        vertical-align: top;\n",
       "    }\n",
       "\n",
       "    .dataframe thead th {\n",
       "        text-align: right;\n",
       "    }\n",
       "</style>\n",
       "<table border=\"1\" class=\"dataframe\">\n",
       "  <thead>\n",
       "    <tr style=\"text-align: right;\">\n",
       "      <th></th>\n",
       "      <th>PERIOD</th>\n",
       "      <th>ALL_TRANSACTIONS_NUM</th>\n",
       "      <th>ALL_TRANSACTIONS_AMT</th>\n",
       "      <th>CASH_IN_NUM</th>\n",
       "      <th>CASH_IN_AMT</th>\n",
       "      <th>CASH_OUT_NUM</th>\n",
       "      <th>CASH_OUT_AMT</th>\n",
       "      <th>P2P_NUM</th>\n",
       "      <th>P2P_AMT</th>\n",
       "      <th>MERCHANT_PAYMENT_NUM</th>\n",
       "      <th>...</th>\n",
       "      <th>SALARY_DISBURSEMENT_AMT</th>\n",
       "      <th>TALKTIME_PURCHASE_NUM</th>\n",
       "      <th>TALKTIME_PURCHASE_AMT</th>\n",
       "      <th>UTILITY_BILL_PAYMENT_NUM</th>\n",
       "      <th>UTILITY_BILL_PAYMENT_AMT</th>\n",
       "      <th>INWRAD_REMITTANCE_NUM</th>\n",
       "      <th>INWRAD_REMITTANCE_AMT</th>\n",
       "      <th>Float Amount</th>\n",
       "      <th>ALL_TRANSACTIONS_NUM_GROWTH</th>\n",
       "      <th>ALL_TRANSACTIONS_AMT_GROWTH</th>\n",
       "    </tr>\n",
       "  </thead>\n",
       "  <tbody>\n",
       "    <tr>\n",
       "      <th>55</th>\n",
       "      <td>DEC 2018</td>\n",
       "      <td>210210194</td>\n",
       "      <td>321160.99855</td>\n",
       "      <td>39684935</td>\n",
       "      <td>122728.546185</td>\n",
       "      <td>44393869</td>\n",
       "      <td>122240.62282</td>\n",
       "      <td>17464444</td>\n",
       "      <td>50742.5527</td>\n",
       "      <td>3244330</td>\n",
       "      <td>...</td>\n",
       "      <td>6132</td>\n",
       "      <td>89500305</td>\n",
       "      <td>3754.337632</td>\n",
       "      <td>1940706</td>\n",
       "      <td>2926.740065</td>\n",
       "      <td>124089</td>\n",
       "      <td>635.099518</td>\n",
       "      <td>36367.388339</td>\n",
       "      <td>NaN</td>\n",
       "      <td>NaN</td>\n",
       "    </tr>\n",
       "    <tr>\n",
       "      <th>54</th>\n",
       "      <td>JAN 2019</td>\n",
       "      <td>214798544</td>\n",
       "      <td>346769.043806</td>\n",
       "      <td>44402903</td>\n",
       "      <td>136157.535464</td>\n",
       "      <td>45265418</td>\n",
       "      <td>132828.28069</td>\n",
       "      <td>18815682</td>\n",
       "      <td>54964.728809</td>\n",
       "      <td>3026527</td>\n",
       "      <td>...</td>\n",
       "      <td>7475</td>\n",
       "      <td>92775923</td>\n",
       "      <td>3609.414917</td>\n",
       "      <td>1485238</td>\n",
       "      <td>2824.678947</td>\n",
       "      <td>87682</td>\n",
       "      <td>420.306</td>\n",
       "      <td>38012.897424</td>\n",
       "      <td>2.18</td>\n",
       "      <td>7.97</td>\n",
       "    </tr>\n",
       "    <tr>\n",
       "      <th>53</th>\n",
       "      <td>FEB 2019</td>\n",
       "      <td>195968030</td>\n",
       "      <td>322146.43214</td>\n",
       "      <td>41211641</td>\n",
       "      <td>123999.13416</td>\n",
       "      <td>40482600</td>\n",
       "      <td>126054.562211</td>\n",
       "      <td>17791274</td>\n",
       "      <td>51771.229965</td>\n",
       "      <td>3526743</td>\n",
       "      <td>...</td>\n",
       "      <td>7334</td>\n",
       "      <td>87013820</td>\n",
       "      <td>3348.558355</td>\n",
       "      <td>1359828</td>\n",
       "      <td>2685.764128</td>\n",
       "      <td>34734</td>\n",
       "      <td>198.797044</td>\n",
       "      <td>37073.449702</td>\n",
       "      <td>-8.77</td>\n",
       "      <td>-7.10</td>\n",
       "    </tr>\n",
       "    <tr>\n",
       "      <th>52</th>\n",
       "      <td>MAR 2019</td>\n",
       "      <td>209415152</td>\n",
       "      <td>348108.036651</td>\n",
       "      <td>46037479</td>\n",
       "      <td>139052.654383</td>\n",
       "      <td>40308820</td>\n",
       "      <td>131215.213274</td>\n",
       "      <td>19625786</td>\n",
       "      <td>56509.783168</td>\n",
       "      <td>3716199</td>\n",
       "      <td>...</td>\n",
       "      <td>7564</td>\n",
       "      <td>96269904</td>\n",
       "      <td>3752.052751</td>\n",
       "      <td>1789813</td>\n",
       "      <td>3577.50592</td>\n",
       "      <td>18542</td>\n",
       "      <td>144.057257</td>\n",
       "      <td>37203.117616</td>\n",
       "      <td>6.86</td>\n",
       "      <td>8.06</td>\n",
       "    </tr>\n",
       "    <tr>\n",
       "      <th>51</th>\n",
       "      <td>APR 2019</td>\n",
       "      <td>211927904</td>\n",
       "      <td>351752.718694</td>\n",
       "      <td>45327892</td>\n",
       "      <td>138361.770168</td>\n",
       "      <td>41784284</td>\n",
       "      <td>132548.711159</td>\n",
       "      <td>19528935</td>\n",
       "      <td>56073.826265</td>\n",
       "      <td>3707286</td>\n",
       "      <td>...</td>\n",
       "      <td>8007</td>\n",
       "      <td>94179254</td>\n",
       "      <td>3705.026171</td>\n",
       "      <td>1873057</td>\n",
       "      <td>3748.593957</td>\n",
       "      <td>21272</td>\n",
       "      <td>152.689472</td>\n",
       "      <td>38885.174001</td>\n",
       "      <td>1.20</td>\n",
       "      <td>1.05</td>\n",
       "    </tr>\n",
       "    <tr>\n",
       "      <th>50</th>\n",
       "      <td>MAY 2019</td>\n",
       "      <td>232323753</td>\n",
       "      <td>425791.256124</td>\n",
       "      <td>47826587</td>\n",
       "      <td>164559.270975</td>\n",
       "      <td>47488192</td>\n",
       "      <td>153395.972858</td>\n",
       "      <td>22483223</td>\n",
       "      <td>74888.232943</td>\n",
       "      <td>4602601</td>\n",
       "      <td>...</td>\n",
       "      <td>12437</td>\n",
       "      <td>98658160</td>\n",
       "      <td>4144.050235</td>\n",
       "      <td>2323289</td>\n",
       "      <td>4918.300886</td>\n",
       "      <td>34371</td>\n",
       "      <td>267.107011</td>\n",
       "      <td>47419.420236</td>\n",
       "      <td>9.62</td>\n",
       "      <td>21.05</td>\n",
       "    </tr>\n",
       "    <tr>\n",
       "      <th>49</th>\n",
       "      <td>JUN 2019</td>\n",
       "      <td>200530700</td>\n",
       "      <td>319521.753167</td>\n",
       "      <td>35610113</td>\n",
       "      <td>111865.241206</td>\n",
       "      <td>33859347</td>\n",
       "      <td>115665.687677</td>\n",
       "      <td>20096092</td>\n",
       "      <td>70808.513674</td>\n",
       "      <td>3329802</td>\n",
       "      <td>...</td>\n",
       "      <td>5377</td>\n",
       "      <td>102421295</td>\n",
       "      <td>4558.023512</td>\n",
       "      <td>2464879</td>\n",
       "      <td>4455.870499</td>\n",
       "      <td>34485</td>\n",
       "      <td>273.328254</td>\n",
       "      <td>37324.189262</td>\n",
       "      <td>-13.68</td>\n",
       "      <td>-24.96</td>\n",
       "    </tr>\n",
       "    <tr>\n",
       "      <th>48</th>\n",
       "      <td>JUL 2019</td>\n",
       "      <td>228937034</td>\n",
       "      <td>378265.009495</td>\n",
       "      <td>42637635</td>\n",
       "      <td>136234.018643</td>\n",
       "      <td>46038902</td>\n",
       "      <td>130746.778461</td>\n",
       "      <td>22748800</td>\n",
       "      <td>81489.883615</td>\n",
       "      <td>3251516</td>\n",
       "      <td>...</td>\n",
       "      <td>9435</td>\n",
       "      <td>99194710</td>\n",
       "      <td>4102.890484</td>\n",
       "      <td>2587420</td>\n",
       "      <td>5194.389604</td>\n",
       "      <td>35635</td>\n",
       "      <td>287.676706</td>\n",
       "      <td>41752.193755</td>\n",
       "      <td>14.17</td>\n",
       "      <td>18.38</td>\n",
       "    </tr>\n",
       "    <tr>\n",
       "      <th>47</th>\n",
       "      <td>AUG 2019</td>\n",
       "      <td>205201397</td>\n",
       "      <td>356875.271842</td>\n",
       "      <td>36960700</td>\n",
       "      <td>126075.972409</td>\n",
       "      <td>35189496</td>\n",
       "      <td>123438.352631</td>\n",
       "      <td>21915159</td>\n",
       "      <td>82062.985781</td>\n",
       "      <td>3532221</td>\n",
       "      <td>...</td>\n",
       "      <td>9033</td>\n",
       "      <td>102973384</td>\n",
       "      <td>4427.563176</td>\n",
       "      <td>2569778</td>\n",
       "      <td>4878.214396</td>\n",
       "      <td>38431</td>\n",
       "      <td>343.65729</td>\n",
       "      <td>39939.513951</td>\n",
       "      <td>-10.37</td>\n",
       "      <td>-5.65</td>\n",
       "    </tr>\n",
       "    <tr>\n",
       "      <th>46</th>\n",
       "      <td>SEP 2019</td>\n",
       "      <td>214150562</td>\n",
       "      <td>357658.899418</td>\n",
       "      <td>42287835</td>\n",
       "      <td>130311.76326</td>\n",
       "      <td>36898867</td>\n",
       "      <td>120406.069305</td>\n",
       "      <td>25012644</td>\n",
       "      <td>83143.300651</td>\n",
       "      <td>4194006</td>\n",
       "      <td>...</td>\n",
       "      <td>7876.240549</td>\n",
       "      <td>100196500</td>\n",
       "      <td>4182.683907</td>\n",
       "      <td>3533667</td>\n",
       "      <td>5621.349793</td>\n",
       "      <td>31957</td>\n",
       "      <td>241.814822</td>\n",
       "      <td>40052.450982</td>\n",
       "      <td>4.36</td>\n",
       "      <td>0.22</td>\n",
       "    </tr>\n",
       "    <tr>\n",
       "      <th>45</th>\n",
       "      <td>OCT 2019</td>\n",
       "      <td>231695221</td>\n",
       "      <td>385099.272156</td>\n",
       "      <td>45053885</td>\n",
       "      <td>140169.925939</td>\n",
       "      <td>41540746</td>\n",
       "      <td>129447.003774</td>\n",
       "      <td>27057442</td>\n",
       "      <td>90358.535213</td>\n",
       "      <td>5040565</td>\n",
       "      <td>...</td>\n",
       "      <td>8605</td>\n",
       "      <td>103507223</td>\n",
       "      <td>4284.570249</td>\n",
       "      <td>3312729</td>\n",
       "      <td>4998.745894</td>\n",
       "      <td>34253</td>\n",
       "      <td>249.937334</td>\n",
       "      <td>42098.501097</td>\n",
       "      <td>8.19</td>\n",
       "      <td>7.67</td>\n",
       "    </tr>\n",
       "    <tr>\n",
       "      <th>44</th>\n",
       "      <td>NOV 2019</td>\n",
       "      <td>236994314</td>\n",
       "      <td>391463.815577</td>\n",
       "      <td>44130280</td>\n",
       "      <td>140301.505341</td>\n",
       "      <td>46589290</td>\n",
       "      <td>132054.775263</td>\n",
       "      <td>27777491</td>\n",
       "      <td>91828.125575</td>\n",
       "      <td>4643529</td>\n",
       "      <td>...</td>\n",
       "      <td>8700.261114</td>\n",
       "      <td>99747937</td>\n",
       "      <td>4152.618736</td>\n",
       "      <td>2890446</td>\n",
       "      <td>4654.324689</td>\n",
       "      <td>40368</td>\n",
       "      <td>262.967044</td>\n",
       "      <td>43449.501733</td>\n",
       "      <td>2.29</td>\n",
       "      <td>1.65</td>\n",
       "    </tr>\n",
       "    <tr>\n",
       "      <th>43</th>\n",
       "      <td>DEC 2019</td>\n",
       "      <td>235789000</td>\n",
       "      <td>427536.473107</td>\n",
       "      <td>46554183</td>\n",
       "      <td>155495.140237</td>\n",
       "      <td>42328411</td>\n",
       "      <td>144341.098957</td>\n",
       "      <td>31185112</td>\n",
       "      <td>99959.689208</td>\n",
       "      <td>4745353</td>\n",
       "      <td>...</td>\n",
       "      <td>10046.799777</td>\n",
       "      <td>103782198</td>\n",
       "      <td>4436.645731</td>\n",
       "      <td>2907879</td>\n",
       "      <td>3128.373387</td>\n",
       "      <td>48915</td>\n",
       "      <td>309.513458</td>\n",
       "      <td>42751.602664</td>\n",
       "      <td>-0.51</td>\n",
       "      <td>9.21</td>\n",
       "    </tr>\n",
       "    <tr>\n",
       "      <th>42</th>\n",
       "      <td>JAN 2020</td>\n",
       "      <td>240945056</td>\n",
       "      <td>450608.413194</td>\n",
       "      <td>49472381</td>\n",
       "      <td>163280.45782</td>\n",
       "      <td>43852008</td>\n",
       "      <td>152738.929058</td>\n",
       "      <td>30499053</td>\n",
       "      <td>102905.701366</td>\n",
       "      <td>4637870</td>\n",
       "      <td>...</td>\n",
       "      <td>10836.101871</td>\n",
       "      <td>104776527</td>\n",
       "      <td>4535.423935</td>\n",
       "      <td>3316038</td>\n",
       "      <td>4720.225429</td>\n",
       "      <td>39937</td>\n",
       "      <td>296.836139</td>\n",
       "      <td>45677.522169</td>\n",
       "      <td>2.19</td>\n",
       "      <td>5.40</td>\n",
       "    </tr>\n",
       "    <tr>\n",
       "      <th>41</th>\n",
       "      <td>FEB 2020</td>\n",
       "      <td>239073004</td>\n",
       "      <td>447116.093165</td>\n",
       "      <td>49032723</td>\n",
       "      <td>161925.679574</td>\n",
       "      <td>43879011</td>\n",
       "      <td>152238.786635</td>\n",
       "      <td>30306690</td>\n",
       "      <td>100720.812221</td>\n",
       "      <td>5199740</td>\n",
       "      <td>...</td>\n",
       "      <td>10877.417545</td>\n",
       "      <td>100947268</td>\n",
       "      <td>4425.717576</td>\n",
       "      <td>3659798</td>\n",
       "      <td>4411.213159</td>\n",
       "      <td>46810</td>\n",
       "      <td>299.93011</td>\n",
       "      <td>49773.046120</td>\n",
       "      <td>-0.78</td>\n",
       "      <td>-0.78</td>\n",
       "    </tr>\n",
       "    <tr>\n",
       "      <th>40</th>\n",
       "      <td>MAR 2020</td>\n",
       "      <td>248947593</td>\n",
       "      <td>430518.709801</td>\n",
       "      <td>45870459</td>\n",
       "      <td>152419.853127</td>\n",
       "      <td>41728044</td>\n",
       "      <td>144294.593346</td>\n",
       "      <td>30675898</td>\n",
       "      <td>101885.79589</td>\n",
       "      <td>4658578</td>\n",
       "      <td>...</td>\n",
       "      <td>12464.645639</td>\n",
       "      <td>116674519</td>\n",
       "      <td>5040.214279</td>\n",
       "      <td>4540077</td>\n",
       "      <td>4332.989431</td>\n",
       "      <td>45895</td>\n",
       "      <td>316.285527</td>\n",
       "      <td>49588.480821</td>\n",
       "      <td>4.13</td>\n",
       "      <td>-3.71</td>\n",
       "    </tr>\n",
       "    <tr>\n",
       "      <th>39</th>\n",
       "      <td>APR 2020</td>\n",
       "      <td>225252644</td>\n",
       "      <td>308946.473295</td>\n",
       "      <td>27170604</td>\n",
       "      <td>94980.119232</td>\n",
       "      <td>24756986</td>\n",
       "      <td>87293.180071</td>\n",
       "      <td>27935057</td>\n",
       "      <td>94654.079376</td>\n",
       "      <td>2962295</td>\n",
       "      <td>...</td>\n",
       "      <td>10648.696104</td>\n",
       "      <td>136525428</td>\n",
       "      <td>6265.533052</td>\n",
       "      <td>2417042</td>\n",
       "      <td>2713.356976</td>\n",
       "      <td>107939</td>\n",
       "      <td>1123.789695</td>\n",
       "      <td>57027.932543</td>\n",
       "      <td>-9.52</td>\n",
       "      <td>-28.24</td>\n",
       "    </tr>\n",
       "    <tr>\n",
       "      <th>38</th>\n",
       "      <td>MAY 2020</td>\n",
       "      <td>289238050</td>\n",
       "      <td>493695.274302</td>\n",
       "      <td>35654865</td>\n",
       "      <td>140095.001389</td>\n",
       "      <td>41099903</td>\n",
       "      <td>145119.991573</td>\n",
       "      <td>40852127</td>\n",
       "      <td>150527.955449</td>\n",
       "      <td>4430712</td>\n",
       "      <td>...</td>\n",
       "      <td>22180.01059</td>\n",
       "      <td>146320834</td>\n",
       "      <td>6805.646281</td>\n",
       "      <td>4140390</td>\n",
       "      <td>5983.407272</td>\n",
       "      <td>177236</td>\n",
       "      <td>1779.679094</td>\n",
       "      <td>71458.217616</td>\n",
       "      <td>28.41</td>\n",
       "      <td>59.80</td>\n",
       "    </tr>\n",
       "    <tr>\n",
       "      <th>37</th>\n",
       "      <td>JUN 2020</td>\n",
       "      <td>263319571</td>\n",
       "      <td>467805.047462</td>\n",
       "      <td>34410360</td>\n",
       "      <td>127177.277665</td>\n",
       "      <td>37723807</td>\n",
       "      <td>139521.611345</td>\n",
       "      <td>35478538</td>\n",
       "      <td>133199.410722</td>\n",
       "      <td>5356665</td>\n",
       "      <td>...</td>\n",
       "      <td>23770.854584</td>\n",
       "      <td>136372015</td>\n",
       "      <td>6438.140577</td>\n",
       "      <td>6056004</td>\n",
       "      <td>9929.542375</td>\n",
       "      <td>124826</td>\n",
       "      <td>1252.258262</td>\n",
       "      <td>66026.850246</td>\n",
       "      <td>-8.96</td>\n",
       "      <td>-5.24</td>\n",
       "    </tr>\n",
       "    <tr>\n",
       "      <th>36</th>\n",
       "      <td>JUL 2020</td>\n",
       "      <td>319278197</td>\n",
       "      <td>652788.874082</td>\n",
       "      <td>44893243</td>\n",
       "      <td>178975.41061</td>\n",
       "      <td>52666227</td>\n",
       "      <td>199842.090502</td>\n",
       "      <td>45004167</td>\n",
       "      <td>175629.487688</td>\n",
       "      <td>7376734</td>\n",
       "      <td>...</td>\n",
       "      <td>45869.734565</td>\n",
       "      <td>141313746</td>\n",
       "      <td>6620.736213</td>\n",
       "      <td>6278475</td>\n",
       "      <td>8853.211511</td>\n",
       "      <td>170778</td>\n",
       "      <td>1695.29643</td>\n",
       "      <td>85613.326708</td>\n",
       "      <td>21.25</td>\n",
       "      <td>39.54</td>\n",
       "    </tr>\n",
       "  </tbody>\n",
       "</table>\n",
       "<p>20 rows × 24 columns</p>\n",
       "</div>"
      ],
      "text/plain": [
       "      PERIOD ALL_TRANSACTIONS_NUM ALL_TRANSACTIONS_AMT CASH_IN_NUM   \n",
       "55  DEC 2018            210210194         321160.99855    39684935  \\\n",
       "54  JAN 2019            214798544        346769.043806    44402903   \n",
       "53  FEB 2019            195968030         322146.43214    41211641   \n",
       "52  MAR 2019            209415152        348108.036651    46037479   \n",
       "51  APR 2019            211927904        351752.718694    45327892   \n",
       "50  MAY 2019            232323753        425791.256124    47826587   \n",
       "49  JUN 2019            200530700        319521.753167    35610113   \n",
       "48  JUL 2019            228937034        378265.009495    42637635   \n",
       "47  AUG 2019            205201397        356875.271842    36960700   \n",
       "46  SEP 2019            214150562        357658.899418    42287835   \n",
       "45  OCT 2019            231695221        385099.272156    45053885   \n",
       "44  NOV 2019            236994314        391463.815577    44130280   \n",
       "43  DEC 2019            235789000        427536.473107    46554183   \n",
       "42  JAN 2020            240945056        450608.413194    49472381   \n",
       "41  FEB 2020            239073004        447116.093165    49032723   \n",
       "40  MAR 2020            248947593        430518.709801    45870459   \n",
       "39  APR 2020            225252644        308946.473295    27170604   \n",
       "38  MAY 2020            289238050        493695.274302    35654865   \n",
       "37  JUN 2020            263319571        467805.047462    34410360   \n",
       "36  JUL 2020            319278197        652788.874082    44893243   \n",
       "\n",
       "      CASH_IN_AMT CASH_OUT_NUM   CASH_OUT_AMT   P2P_NUM        P2P_AMT   \n",
       "55  122728.546185     44393869   122240.62282  17464444     50742.5527  \\\n",
       "54  136157.535464     45265418   132828.28069  18815682   54964.728809   \n",
       "53   123999.13416     40482600  126054.562211  17791274   51771.229965   \n",
       "52  139052.654383     40308820  131215.213274  19625786   56509.783168   \n",
       "51  138361.770168     41784284  132548.711159  19528935   56073.826265   \n",
       "50  164559.270975     47488192  153395.972858  22483223   74888.232943   \n",
       "49  111865.241206     33859347  115665.687677  20096092   70808.513674   \n",
       "48  136234.018643     46038902  130746.778461  22748800   81489.883615   \n",
       "47  126075.972409     35189496  123438.352631  21915159   82062.985781   \n",
       "46   130311.76326     36898867  120406.069305  25012644   83143.300651   \n",
       "45  140169.925939     41540746  129447.003774  27057442   90358.535213   \n",
       "44  140301.505341     46589290  132054.775263  27777491   91828.125575   \n",
       "43  155495.140237     42328411  144341.098957  31185112   99959.689208   \n",
       "42   163280.45782     43852008  152738.929058  30499053  102905.701366   \n",
       "41  161925.679574     43879011  152238.786635  30306690  100720.812221   \n",
       "40  152419.853127     41728044  144294.593346  30675898   101885.79589   \n",
       "39   94980.119232     24756986   87293.180071  27935057   94654.079376   \n",
       "38  140095.001389     41099903  145119.991573  40852127  150527.955449   \n",
       "37  127177.277665     37723807  139521.611345  35478538  133199.410722   \n",
       "36   178975.41061     52666227  199842.090502  45004167  175629.487688   \n",
       "\n",
       "   MERCHANT_PAYMENT_NUM  ... SALARY_DISBURSEMENT_AMT TALKTIME_PURCHASE_NUM   \n",
       "55              3244330  ...                    6132              89500305  \\\n",
       "54              3026527  ...                    7475              92775923   \n",
       "53              3526743  ...                    7334              87013820   \n",
       "52              3716199  ...                    7564              96269904   \n",
       "51              3707286  ...                    8007              94179254   \n",
       "50              4602601  ...                   12437              98658160   \n",
       "49              3329802  ...                    5377             102421295   \n",
       "48              3251516  ...                    9435              99194710   \n",
       "47              3532221  ...                    9033             102973384   \n",
       "46              4194006  ...             7876.240549             100196500   \n",
       "45              5040565  ...                    8605             103507223   \n",
       "44              4643529  ...             8700.261114              99747937   \n",
       "43              4745353  ...            10046.799777             103782198   \n",
       "42              4637870  ...            10836.101871             104776527   \n",
       "41              5199740  ...            10877.417545             100947268   \n",
       "40              4658578  ...            12464.645639             116674519   \n",
       "39              2962295  ...            10648.696104             136525428   \n",
       "38              4430712  ...             22180.01059             146320834   \n",
       "37              5356665  ...            23770.854584             136372015   \n",
       "36              7376734  ...            45869.734565             141313746   \n",
       "\n",
       "   TALKTIME_PURCHASE_AMT UTILITY_BILL_PAYMENT_NUM UTILITY_BILL_PAYMENT_AMT   \n",
       "55           3754.337632                  1940706              2926.740065  \\\n",
       "54           3609.414917                  1485238              2824.678947   \n",
       "53           3348.558355                  1359828              2685.764128   \n",
       "52           3752.052751                  1789813               3577.50592   \n",
       "51           3705.026171                  1873057              3748.593957   \n",
       "50           4144.050235                  2323289              4918.300886   \n",
       "49           4558.023512                  2464879              4455.870499   \n",
       "48           4102.890484                  2587420              5194.389604   \n",
       "47           4427.563176                  2569778              4878.214396   \n",
       "46           4182.683907                  3533667              5621.349793   \n",
       "45           4284.570249                  3312729              4998.745894   \n",
       "44           4152.618736                  2890446              4654.324689   \n",
       "43           4436.645731                  2907879              3128.373387   \n",
       "42           4535.423935                  3316038              4720.225429   \n",
       "41           4425.717576                  3659798              4411.213159   \n",
       "40           5040.214279                  4540077              4332.989431   \n",
       "39           6265.533052                  2417042              2713.356976   \n",
       "38           6805.646281                  4140390              5983.407272   \n",
       "37           6438.140577                  6056004              9929.542375   \n",
       "36           6620.736213                  6278475              8853.211511   \n",
       "\n",
       "   INWRAD_REMITTANCE_NUM INWRAD_REMITTANCE_AMT  Float Amount   \n",
       "55                124089            635.099518  36367.388339  \\\n",
       "54                 87682               420.306  38012.897424   \n",
       "53                 34734            198.797044  37073.449702   \n",
       "52                 18542            144.057257  37203.117616   \n",
       "51                 21272            152.689472  38885.174001   \n",
       "50                 34371            267.107011  47419.420236   \n",
       "49                 34485            273.328254  37324.189262   \n",
       "48                 35635            287.676706  41752.193755   \n",
       "47                 38431             343.65729  39939.513951   \n",
       "46                 31957            241.814822  40052.450982   \n",
       "45                 34253            249.937334  42098.501097   \n",
       "44                 40368            262.967044  43449.501733   \n",
       "43                 48915            309.513458  42751.602664   \n",
       "42                 39937            296.836139  45677.522169   \n",
       "41                 46810             299.93011  49773.046120   \n",
       "40                 45895            316.285527  49588.480821   \n",
       "39                107939           1123.789695  57027.932543   \n",
       "38                177236           1779.679094  71458.217616   \n",
       "37                124826           1252.258262  66026.850246   \n",
       "36                170778            1695.29643  85613.326708   \n",
       "\n",
       "   ALL_TRANSACTIONS_NUM_GROWTH ALL_TRANSACTIONS_AMT_GROWTH  \n",
       "55                         NaN                         NaN  \n",
       "54                        2.18                        7.97  \n",
       "53                       -8.77                       -7.10  \n",
       "52                        6.86                        8.06  \n",
       "51                        1.20                        1.05  \n",
       "50                        9.62                       21.05  \n",
       "49                      -13.68                      -24.96  \n",
       "48                       14.17                       18.38  \n",
       "47                      -10.37                       -5.65  \n",
       "46                        4.36                        0.22  \n",
       "45                        8.19                        7.67  \n",
       "44                        2.29                        1.65  \n",
       "43                       -0.51                        9.21  \n",
       "42                        2.19                        5.40  \n",
       "41                       -0.78                       -0.78  \n",
       "40                        4.13                       -3.71  \n",
       "39                       -9.52                      -28.24  \n",
       "38                       28.41                       59.80  \n",
       "37                       -8.96                       -5.24  \n",
       "36                       21.25                       39.54  \n",
       "\n",
       "[20 rows x 24 columns]"
      ]
     },
     "execution_count": 22,
     "metadata": {},
     "output_type": "execute_result"
    }
   ],
   "source": [
    "mfs_txns = mfs_txns_data.rename(columns={\n",
    "    'Period': 'Period'.upper(),\n",
    "    'All Transactions' : 'All Transactions Num'.upper().replace(' ', '_'),\n",
    "    'Unnamed: 2' : 'All Transactions Amt'.upper().replace(' ', '_'),\n",
    "    'Cash In ' : 'Cash In Num'.upper().replace(' ', '_'),\n",
    "    'Unnamed: 4' : 'Cash In Amt'.upper().replace(' ', '_'),\n",
    "    'Cash Out' : 'Cash Out Num'.upper().replace(' ', '_'),\n",
    "    'Unnamed: 6' : 'Cash Out Amt'.upper().replace(' ', '_'),\n",
    "    'P2P': 'P2P Num'.upper().replace(' ', '_'),\n",
    "    'Unnamed: 8' : 'P2P Amt'.upper().replace(' ', '_'),\n",
    "    'Merchant Payment': 'Merchant Payment Num'.upper().replace(' ', '_'),\n",
    "    'Unnamed: 10' : 'Merchant Payment Amt'.upper().replace(' ', '_'),\n",
    "    'G2P': 'G2P Num'.upper().replace(' ', '_'),\n",
    "    'Unnamed: 12' : 'G2P Amt'.upper().replace(' ', '_'),\n",
    "    'Salary Disbursement': 'Salary Disbursement\tNum'.upper().replace(' ', '_'),\n",
    "    'Unnamed: 14' : 'Salary Disbursement Amt'.upper().replace(' ', '_'),\n",
    "    'Talktime Purchase': 'Talktime Purchase Num'.upper().replace(' ', '_'),\n",
    "    'Unnamed: 16' : 'Talktime Purchase Amt'.upper().replace(' ', '_'),\n",
    "    'Utility Bill Payment': 'Utility Bill Payment Num'.upper().replace(' ', '_'),\n",
    "    'Unnamed: 18' : 'Utility Bill Payment Amt'.upper().replace(' ', '_'),\n",
    "    'Inwrad Remittance': 'Inwrad Remittance Num'.upper().replace(' ', '_'),\n",
    "    'Unnamed: 20' : 'Inwrad Remittance Amt'.upper().replace(' ', '_'),  \n",
    "})\n",
    "\n",
    "mfs_txns = mfs_txns.drop(0)\n",
    "period = mfs_txns.PERIOD.apply(\n",
    "    lambda x: x.replace(\n",
    "        \"January\", 'JAN').replace(\n",
    "            \"February\", 'FEB').replace(\n",
    "                \"March\", 'MAR').replace(\n",
    "                    \"April\", 'APR').replace(\n",
    "                        \"May\", 'MAY').replace(\n",
    "                            \"June\", 'JUN').replace(\n",
    "                                \"July\", 'JUL').replace(\n",
    "                                    \"August\", 'AUG').replace(\n",
    "                                        \"September\", 'SEP').replace(\n",
    "                                            \"October\", 'OCT').replace(\n",
    "                                                \"November\", 'NOV').replace(\n",
    "                                                    \"December\", 'DEC').replace(\n",
    "                                                        \"'\", ' 20')\n",
    ")\n",
    "mfs_txns['PERIOD'] = period\n",
    "mfs_txns = mfs_txns.loc[::-1]\n",
    "\n",
    "\n",
    "\n",
    "\n",
    "mfs_txns['ALL_TRANSACTIONS_NUM_GROWTH'] = mfs_txns.ALL_TRANSACTIONS_NUM.pct_change().mul(100).round(2)\n",
    "mfs_txns['ALL_TRANSACTIONS_AMT_GROWTH'] = mfs_txns.ALL_TRANSACTIONS_AMT.pct_change().mul(100).round(2)\n",
    "\n",
    "mfs_txns.head(20)"
   ]
  },
  {
   "cell_type": "code",
   "execution_count": null,
   "metadata": {},
   "outputs": [],
   "source": []
  }
 ],
 "metadata": {
  "kernelspec": {
   "display_name": "Python 3",
   "language": "python",
   "name": "python3"
  },
  "language_info": {
   "codemirror_mode": {
    "name": "ipython",
    "version": 3
   },
   "file_extension": ".py",
   "mimetype": "text/x-python",
   "name": "python",
   "nbconvert_exporter": "python",
   "pygments_lexer": "ipython3",
   "version": "3.11.2"
  },
  "orig_nbformat": 4
 },
 "nbformat": 4,
 "nbformat_minor": 2
}
