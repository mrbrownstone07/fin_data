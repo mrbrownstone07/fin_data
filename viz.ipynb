{
 "cells": [
  {
   "cell_type": "code",
   "execution_count": 13,
   "metadata": {},
   "outputs": [],
   "source": [
    "import pandas as pd\n",
    "import plotly.express as px\n",
    "import plotly.graph_objects as go\n",
    "from plotly.subplots import make_subplots"
   ]
  },
  {
   "cell_type": "code",
   "execution_count": 14,
   "metadata": {},
   "outputs": [
    {
     "data": {
      "text/html": [
       "<div>\n",
       "<style scoped>\n",
       "    .dataframe tbody tr th:only-of-type {\n",
       "        vertical-align: middle;\n",
       "    }\n",
       "\n",
       "    .dataframe tbody tr th {\n",
       "        vertical-align: top;\n",
       "    }\n",
       "\n",
       "    .dataframe thead th {\n",
       "        text-align: right;\n",
       "    }\n",
       "</style>\n",
       "<table border=\"1\" class=\"dataframe\">\n",
       "  <thead>\n",
       "    <tr style=\"text-align: right;\">\n",
       "      <th></th>\n",
       "      <th>Period</th>\n",
       "      <th>MFS Agent</th>\n",
       "      <th>Unnamed: 2</th>\n",
       "      <th>Unnamed: 3</th>\n",
       "      <th>MFS Male Account</th>\n",
       "      <th>Unnamed: 5</th>\n",
       "      <th>Unnamed: 6</th>\n",
       "      <th>MFS Female Account</th>\n",
       "      <th>Unnamed: 8</th>\n",
       "      <th>Unnamed: 9</th>\n",
       "      <th>MFS Other Account</th>\n",
       "      <th>Unnamed: 11</th>\n",
       "      <th>Unnamed: 12</th>\n",
       "      <th>MFS Total Account</th>\n",
       "      <th>Unnamed: 14</th>\n",
       "      <th>Unnamed: 15</th>\n",
       "    </tr>\n",
       "  </thead>\n",
       "  <tbody>\n",
       "    <tr>\n",
       "      <th>0</th>\n",
       "      <td>NaN</td>\n",
       "      <td>Urban</td>\n",
       "      <td>Rural</td>\n",
       "      <td>Total</td>\n",
       "      <td>Urban</td>\n",
       "      <td>Rural</td>\n",
       "      <td>Total</td>\n",
       "      <td>Urban</td>\n",
       "      <td>Rural</td>\n",
       "      <td>Total</td>\n",
       "      <td>Urban</td>\n",
       "      <td>Rural</td>\n",
       "      <td>Total</td>\n",
       "      <td>Urban</td>\n",
       "      <td>Rural</td>\n",
       "      <td>Total</td>\n",
       "    </tr>\n",
       "    <tr>\n",
       "      <th>1</th>\n",
       "      <td>June'23</td>\n",
       "      <td>789583</td>\n",
       "      <td>796139</td>\n",
       "      <td>1585722</td>\n",
       "      <td>53626770</td>\n",
       "      <td>66247526</td>\n",
       "      <td>119874296</td>\n",
       "      <td>37249086</td>\n",
       "      <td>49592680</td>\n",
       "      <td>86841766</td>\n",
       "      <td>363483</td>\n",
       "      <td>189101</td>\n",
       "      <td>552584</td>\n",
       "      <td>91239339</td>\n",
       "      <td>116029307</td>\n",
       "      <td>207268646</td>\n",
       "    </tr>\n",
       "    <tr>\n",
       "      <th>2</th>\n",
       "      <td>May'23</td>\n",
       "      <td>781319</td>\n",
       "      <td>789021</td>\n",
       "      <td>1570340</td>\n",
       "      <td>52847869</td>\n",
       "      <td>65093659</td>\n",
       "      <td>117941528</td>\n",
       "      <td>36714774</td>\n",
       "      <td>48782455</td>\n",
       "      <td>85497229</td>\n",
       "      <td>348686</td>\n",
       "      <td>182743</td>\n",
       "      <td>531429</td>\n",
       "      <td>89911329</td>\n",
       "      <td>114058857</td>\n",
       "      <td>203970186</td>\n",
       "    </tr>\n",
       "    <tr>\n",
       "      <th>3</th>\n",
       "      <td>April'23</td>\n",
       "      <td>771212</td>\n",
       "      <td>784579</td>\n",
       "      <td>1555791</td>\n",
       "      <td>52092274</td>\n",
       "      <td>63937651</td>\n",
       "      <td>116029925</td>\n",
       "      <td>36179304</td>\n",
       "      <td>47966998</td>\n",
       "      <td>84146302</td>\n",
       "      <td>335711</td>\n",
       "      <td>177272</td>\n",
       "      <td>512983</td>\n",
       "      <td>88607289</td>\n",
       "      <td>112081921</td>\n",
       "      <td>200689210</td>\n",
       "    </tr>\n",
       "    <tr>\n",
       "      <th>4</th>\n",
       "      <td>March'23</td>\n",
       "      <td>785131</td>\n",
       "      <td>812869</td>\n",
       "      <td>1598000</td>\n",
       "      <td>51455799</td>\n",
       "      <td>63033706</td>\n",
       "      <td>114489505</td>\n",
       "      <td>35755777</td>\n",
       "      <td>47346768</td>\n",
       "      <td>83102545</td>\n",
       "      <td>327136</td>\n",
       "      <td>172597</td>\n",
       "      <td>499733</td>\n",
       "      <td>87538712</td>\n",
       "      <td>110553071</td>\n",
       "      <td>198091783</td>\n",
       "    </tr>\n",
       "  </tbody>\n",
       "</table>\n",
       "</div>"
      ],
      "text/plain": [
       "     Period MFS Agent Unnamed: 2 Unnamed: 3 MFS Male Account Unnamed: 5   \n",
       "0       NaN     Urban      Rural      Total            Urban      Rural  \\\n",
       "1   June'23    789583     796139    1585722         53626770   66247526   \n",
       "2    May'23    781319     789021    1570340         52847869   65093659   \n",
       "3  April'23    771212     784579    1555791         52092274   63937651   \n",
       "4  March'23    785131     812869    1598000         51455799   63033706   \n",
       "\n",
       "  Unnamed: 6 MFS Female Account Unnamed: 8 Unnamed: 9 MFS Other Account   \n",
       "0      Total              Urban      Rural      Total             Urban  \\\n",
       "1  119874296           37249086   49592680   86841766            363483   \n",
       "2  117941528           36714774   48782455   85497229            348686   \n",
       "3  116029925           36179304   47966998   84146302            335711   \n",
       "4  114489505           35755777   47346768   83102545            327136   \n",
       "\n",
       "  Unnamed: 11 Unnamed: 12 MFS Total Account Unnamed: 14 Unnamed: 15  \n",
       "0       Rural       Total             Urban       Rural       Total  \n",
       "1      189101      552584          91239339   116029307   207268646  \n",
       "2      182743      531429          89911329   114058857   203970186  \n",
       "3      177272      512983          88607289   112081921   200689210  \n",
       "4      172597      499733          87538712   110553071   198091783  "
      ]
     },
     "execution_count": 14,
     "metadata": {},
     "output_type": "execute_result"
    }
   ],
   "source": [
    "mfs_acc_data = pd.read_excel('MFS_ACC.xlsx')\n",
    "mfs_acc_data.head(5)"
   ]
  },
  {
   "cell_type": "code",
   "execution_count": 15,
   "metadata": {},
   "outputs": [
    {
     "data": {
      "text/html": [
       "<div>\n",
       "<style scoped>\n",
       "    .dataframe tbody tr th:only-of-type {\n",
       "        vertical-align: middle;\n",
       "    }\n",
       "\n",
       "    .dataframe tbody tr th {\n",
       "        vertical-align: top;\n",
       "    }\n",
       "\n",
       "    .dataframe thead th {\n",
       "        text-align: right;\n",
       "    }\n",
       "</style>\n",
       "<table border=\"1\" class=\"dataframe\">\n",
       "  <thead>\n",
       "    <tr style=\"text-align: right;\">\n",
       "      <th></th>\n",
       "      <th>PERIOD</th>\n",
       "      <th>MFS_AGENT_URBAN</th>\n",
       "      <th>MFS_AGENT_RURAL</th>\n",
       "      <th>MFS_AGENT_TOTAL</th>\n",
       "      <th>MFS_MALE_ACCOUNT_URBAN</th>\n",
       "      <th>MFS_MALE_ACCOUNT_RURAL</th>\n",
       "      <th>MFS_MALE_ACCOUNT_TOTAL</th>\n",
       "      <th>MFS_FEMALE_ACCOUNT_URBAN</th>\n",
       "      <th>MFS_FEMALE_ACCOUNT_RURAL</th>\n",
       "      <th>MFS_FEMALE_ACCOUNT_TOTAL</th>\n",
       "      <th>MFS_OTHER_ACCOUNT_URBAN</th>\n",
       "      <th>MFS_OTHER_ACCOUNT_RURAL</th>\n",
       "      <th>MFS_OTHER_ACCOUNT_TOTAL</th>\n",
       "      <th>MFS_TOTAL_ACCOUNT_URBAN</th>\n",
       "      <th>MFS_TOTAL_ACCOUNT_RURAL</th>\n",
       "      <th>MFS_TOTAL_ACCOUNT_TOTAL</th>\n",
       "    </tr>\n",
       "  </thead>\n",
       "  <tbody>\n",
       "    <tr>\n",
       "      <th>55</th>\n",
       "      <td>DEC 2018</td>\n",
       "      <td>505623</td>\n",
       "      <td>437887</td>\n",
       "      <td>943510</td>\n",
       "      <td>15053470</td>\n",
       "      <td>21030462</td>\n",
       "      <td>36083932</td>\n",
       "      <td>8491129</td>\n",
       "      <td>23093199</td>\n",
       "      <td>31584328</td>\n",
       "      <td>695</td>\n",
       "      <td>1513</td>\n",
       "      <td>2208</td>\n",
       "      <td>23545294</td>\n",
       "      <td>44125174</td>\n",
       "      <td>67670468</td>\n",
       "    </tr>\n",
       "    <tr>\n",
       "      <th>54</th>\n",
       "      <td>JAN 2019</td>\n",
       "      <td>491140</td>\n",
       "      <td>474042</td>\n",
       "      <td>965182</td>\n",
       "      <td>16684243</td>\n",
       "      <td>18880373</td>\n",
       "      <td>35564616</td>\n",
       "      <td>9533773</td>\n",
       "      <td>22513069</td>\n",
       "      <td>32046842</td>\n",
       "      <td>754</td>\n",
       "      <td>1475</td>\n",
       "      <td>2229</td>\n",
       "      <td>26218770</td>\n",
       "      <td>41394917</td>\n",
       "      <td>67613687</td>\n",
       "    </tr>\n",
       "    <tr>\n",
       "      <th>53</th>\n",
       "      <td>FEB 2019</td>\n",
       "      <td>495975</td>\n",
       "      <td>484885</td>\n",
       "      <td>980860</td>\n",
       "      <td>16697088</td>\n",
       "      <td>19006106</td>\n",
       "      <td>35703194</td>\n",
       "      <td>9458043</td>\n",
       "      <td>22781950</td>\n",
       "      <td>32239993</td>\n",
       "      <td>755</td>\n",
       "      <td>1483</td>\n",
       "      <td>2238</td>\n",
       "      <td>26155886</td>\n",
       "      <td>41789539</td>\n",
       "      <td>67945425</td>\n",
       "    </tr>\n",
       "    <tr>\n",
       "      <th>52</th>\n",
       "      <td>MAR 2019</td>\n",
       "      <td>503042</td>\n",
       "      <td>493982</td>\n",
       "      <td>997024</td>\n",
       "      <td>16574635</td>\n",
       "      <td>19201465</td>\n",
       "      <td>35776100</td>\n",
       "      <td>9744399</td>\n",
       "      <td>22791889</td>\n",
       "      <td>32536288</td>\n",
       "      <td>768</td>\n",
       "      <td>1519</td>\n",
       "      <td>2287</td>\n",
       "      <td>26319802</td>\n",
       "      <td>41994873</td>\n",
       "      <td>68314675</td>\n",
       "    </tr>\n",
       "    <tr>\n",
       "      <th>51</th>\n",
       "      <td>APR 2019</td>\n",
       "      <td>505414</td>\n",
       "      <td>507123</td>\n",
       "      <td>1012537</td>\n",
       "      <td>16333380</td>\n",
       "      <td>19665560</td>\n",
       "      <td>35998940</td>\n",
       "      <td>9739027</td>\n",
       "      <td>23542408</td>\n",
       "      <td>33281435</td>\n",
       "      <td>777</td>\n",
       "      <td>1609</td>\n",
       "      <td>2386</td>\n",
       "      <td>26073184</td>\n",
       "      <td>43209577</td>\n",
       "      <td>69282761</td>\n",
       "    </tr>\n",
       "  </tbody>\n",
       "</table>\n",
       "</div>"
      ],
      "text/plain": [
       "      PERIOD MFS_AGENT_URBAN MFS_AGENT_RURAL MFS_AGENT_TOTAL   \n",
       "55  DEC 2018          505623          437887          943510  \\\n",
       "54  JAN 2019          491140          474042          965182   \n",
       "53  FEB 2019          495975          484885          980860   \n",
       "52  MAR 2019          503042          493982          997024   \n",
       "51  APR 2019          505414          507123         1012537   \n",
       "\n",
       "   MFS_MALE_ACCOUNT_URBAN MFS_MALE_ACCOUNT_RURAL MFS_MALE_ACCOUNT_TOTAL   \n",
       "55               15053470               21030462               36083932  \\\n",
       "54               16684243               18880373               35564616   \n",
       "53               16697088               19006106               35703194   \n",
       "52               16574635               19201465               35776100   \n",
       "51               16333380               19665560               35998940   \n",
       "\n",
       "   MFS_FEMALE_ACCOUNT_URBAN MFS_FEMALE_ACCOUNT_RURAL MFS_FEMALE_ACCOUNT_TOTAL   \n",
       "55                  8491129                 23093199                 31584328  \\\n",
       "54                  9533773                 22513069                 32046842   \n",
       "53                  9458043                 22781950                 32239993   \n",
       "52                  9744399                 22791889                 32536288   \n",
       "51                  9739027                 23542408                 33281435   \n",
       "\n",
       "   MFS_OTHER_ACCOUNT_URBAN MFS_OTHER_ACCOUNT_RURAL MFS_OTHER_ACCOUNT_TOTAL   \n",
       "55                     695                    1513                    2208  \\\n",
       "54                     754                    1475                    2229   \n",
       "53                     755                    1483                    2238   \n",
       "52                     768                    1519                    2287   \n",
       "51                     777                    1609                    2386   \n",
       "\n",
       "   MFS_TOTAL_ACCOUNT_URBAN MFS_TOTAL_ACCOUNT_RURAL MFS_TOTAL_ACCOUNT_TOTAL  \n",
       "55                23545294                44125174                67670468  \n",
       "54                26218770                41394917                67613687  \n",
       "53                26155886                41789539                67945425  \n",
       "52                26319802                41994873                68314675  \n",
       "51                26073184                43209577                69282761  "
      ]
     },
     "execution_count": 15,
     "metadata": {},
     "output_type": "execute_result"
    }
   ],
   "source": [
    "MFS_AGENT = 'MFS Agent'\n",
    "MFS_MALE_ACCOUNT = 'MFS Male Account'\n",
    "MFS_FEMALE_ACCOUNT = 'MFS Female Account'\n",
    "MFS_OTHER_ACCOUNT = 'MFS Other Account'\n",
    "MFS_TOTAL_ACCOUNT = 'MFS Total Account'\n",
    "\n",
    "mfs_acc = mfs_acc_data.rename(columns={\n",
    "    'Period': 'Period'.upper(),\n",
    "    MFS_AGENT : f'{MFS_AGENT} Urban'.upper().replace(' ', '_'),\n",
    "    'Unnamed: 2' : f'{MFS_AGENT} Rural'.upper().replace(' ', '_'),\n",
    "    'Unnamed: 3' : f'{MFS_AGENT} Total'.upper().replace(' ', '_'),\n",
    "    MFS_MALE_ACCOUNT : f'{MFS_MALE_ACCOUNT} Urban'.upper().replace(' ', '_'),\n",
    "    'Unnamed: 5' : f'{MFS_MALE_ACCOUNT} Rural'.upper().replace(' ', '_'),\n",
    "    'Unnamed: 6' : f'{MFS_MALE_ACCOUNT} Total'.upper().replace(' ', '_'),\n",
    "    MFS_FEMALE_ACCOUNT : f'{MFS_FEMALE_ACCOUNT} Urban'.upper().replace(' ', '_'),\n",
    "    'Unnamed: 8' : f'{MFS_FEMALE_ACCOUNT} Rural'.upper().replace(' ', '_'),\n",
    "    'Unnamed: 9' : f'{MFS_FEMALE_ACCOUNT} Total'.upper().replace(' ', '_'),\n",
    "    MFS_OTHER_ACCOUNT : f'{MFS_OTHER_ACCOUNT} Urban'.upper().replace(' ', '_'),\n",
    "    'Unnamed: 11' : f'{MFS_OTHER_ACCOUNT} Rural'.upper().replace(' ', '_'),\n",
    "    'Unnamed: 12' : f'{MFS_OTHER_ACCOUNT} Total'.upper().replace(' ', '_'),\n",
    "    MFS_TOTAL_ACCOUNT : f'{MFS_TOTAL_ACCOUNT} Urban'.upper().replace(' ', '_'),\n",
    "    'Unnamed: 14' : f'{MFS_TOTAL_ACCOUNT} Rural'.upper().replace(' ', '_'),\n",
    "    'Unnamed: 15' : f'{MFS_TOTAL_ACCOUNT} Total'.upper().replace(' ', '_'),\n",
    "})\n",
    "\n",
    "mfs_acc = mfs_acc.drop(0)\n",
    "period = mfs_acc.PERIOD.apply(\n",
    "    lambda x: x.replace(\n",
    "        \"January\", 'JAN').replace(\n",
    "            \"February\", 'FEB').replace(\n",
    "                \"March\", 'MAR').replace(\n",
    "                    \"April\", 'APR').replace(\n",
    "                        \"May\", 'MAY').replace(\n",
    "                            \"June\", 'JUN').replace(\n",
    "                                \"July\", 'JUL').replace(\n",
    "                                    \"August\", 'AUG').replace(\n",
    "                                        \"September\", 'SEP').replace(\n",
    "                                            \"October\", 'OCT').replace(\n",
    "                                                \"November\", 'NOV').replace(\n",
    "                                                    \"December\", 'DEC').replace(\n",
    "                                                        \"'\", ' 20')\n",
    ")\n",
    "mfs_acc['PERIOD'] = period\n",
    "mfs_acc = mfs_acc.loc[::-1]\n",
    "mfs_acc.head()"
   ]
  },
  {
   "cell_type": "code",
   "execution_count": 16,
   "metadata": {},
   "outputs": [
    {
     "data": {
      "application/vnd.plotly.v1+json": {
       "config": {
        "plotlyServerURL": "https://plot.ly"
       },
       "data": [
        {
         "line": {
          "color": "#94F3E4",
          "width": 2
         },
         "mode": "markers+lines",
         "name": "MALE AC UR",
         "type": "scatter",
         "x": [
          "DEC 2018",
          "JAN 2019",
          "FEB 2019",
          "MAR 2019",
          "APR 2019",
          "MAY 2019",
          "JUN 2019",
          "JUL 2019",
          "AUG 2019",
          "SEP 2019",
          "OCT 2019",
          "NOV 2019",
          "DEC 2019",
          "JAN 2020",
          "FEB 2020",
          "MAR 2020",
          "APR 2020",
          "MAY 2020",
          "JUN 2020",
          "JUL 2020",
          "AUG 2020",
          "SEP 2020",
          "OCT 2020",
          "NOV 2020",
          "DEC 2020",
          "JAN 2021",
          "FEB 2021",
          "MAR 2021",
          "APR 2021",
          "MAY 2021",
          "JUN 2021",
          "JUL 2021",
          "AUG 2021",
          "SEP 2021",
          "OCT 2021",
          "NOV 2021",
          "DEC 2021",
          "JAN 2022",
          "FEB 2022",
          "MAR 2022",
          "APR 2022",
          "MAY 2022",
          "JUN 2022",
          "JUL 2022",
          "AUG 2022",
          "SEP 2022",
          "OCT 2022",
          "NOV 2022",
          "DEC 2022",
          "JAN 2023",
          "FEB 2023",
          "MAR 2023",
          "APR 2023",
          "MAY 2023",
          "JUN 2023"
         ],
         "xaxis": "x",
         "y": [
          15053470,
          16684243,
          16697088,
          16574635,
          16333380,
          17000434,
          17234004,
          17476643,
          17779052,
          18440077,
          18942419,
          19780354,
          20160737,
          20873990,
          21455510,
          21983067,
          22753691,
          23730024,
          24095188,
          25152310,
          25728507,
          26080014,
          26579555,
          27106814,
          27790013,
          28316854,
          29638030,
          31400373,
          31081403,
          33441779,
          37035589,
          38895616,
          39893788,
          40896834,
          41839891,
          42717241,
          43723069,
          44970483,
          45868201,
          46758151,
          47564802,
          45988861,
          46728634,
          47194552,
          48142985,
          48620266,
          49208715,
          48667875,
          50023245,
          50673189,
          51307660,
          51455799,
          52092274,
          52847869,
          53626770
         ],
         "yaxis": "y"
        },
        {
         "line": {
          "color": "#ffb55a",
          "width": 2
         },
         "mode": "markers+lines",
         "name": "FEMALE AC UR",
         "type": "scatter",
         "x": [
          "DEC 2018",
          "JAN 2019",
          "FEB 2019",
          "MAR 2019",
          "APR 2019",
          "MAY 2019",
          "JUN 2019",
          "JUL 2019",
          "AUG 2019",
          "SEP 2019",
          "OCT 2019",
          "NOV 2019",
          "DEC 2019",
          "JAN 2020",
          "FEB 2020",
          "MAR 2020",
          "APR 2020",
          "MAY 2020",
          "JUN 2020",
          "JUL 2020",
          "AUG 2020",
          "SEP 2020",
          "OCT 2020",
          "NOV 2020",
          "DEC 2020",
          "JAN 2021",
          "FEB 2021",
          "MAR 2021",
          "APR 2021",
          "MAY 2021",
          "JUN 2021",
          "JUL 2021",
          "AUG 2021",
          "SEP 2021",
          "OCT 2021",
          "NOV 2021",
          "DEC 2021",
          "JAN 2022",
          "FEB 2022",
          "MAR 2022",
          "APR 2022",
          "MAY 2022",
          "JUN 2022",
          "JUL 2022",
          "AUG 2022",
          "SEP 2022",
          "OCT 2022",
          "NOV 2022",
          "DEC 2022",
          "JAN 2023",
          "FEB 2023",
          "MAR 2023",
          "APR 2023",
          "MAY 2023",
          "JUN 2023"
         ],
         "xaxis": "x",
         "y": [
          8491129,
          9533773,
          9458043,
          9744399,
          9739027,
          10141315,
          10246766,
          10438143,
          10602577,
          11264584,
          11726527,
          11985931,
          12789162,
          13394823,
          14044994,
          14542151,
          15253024,
          15916031,
          16177189,
          16811081,
          17224136,
          17533015,
          17970697,
          18409455,
          18879824,
          19211721,
          20203414,
          21430136,
          21179220,
          22800390,
          24809406,
          25995428,
          26583231,
          27158459,
          27613092,
          28092167,
          28637497,
          29316888,
          29930857,
          29852331,
          30415301,
          31620156,
          32215458,
          32935692,
          33140199,
          33572063,
          33979501,
          33695799,
          34729780,
          35240987,
          35667699,
          35755777,
          36179304,
          36714774,
          37249086
         ],
         "yaxis": "y"
        },
        {
         "line": {
          "color": "#fdcce5",
          "width": 2
         },
         "mode": "markers+lines",
         "name": "AGENT UR",
         "type": "scatter",
         "x": [
          "DEC 2018",
          "JAN 2019",
          "FEB 2019",
          "MAR 2019",
          "APR 2019",
          "MAY 2019",
          "JUN 2019",
          "JUL 2019",
          "AUG 2019",
          "SEP 2019",
          "OCT 2019",
          "NOV 2019",
          "DEC 2019",
          "JAN 2020",
          "FEB 2020",
          "MAR 2020",
          "APR 2020",
          "MAY 2020",
          "JUN 2020",
          "JUL 2020",
          "AUG 2020",
          "SEP 2020",
          "OCT 2020",
          "NOV 2020",
          "DEC 2020",
          "JAN 2021",
          "FEB 2021",
          "MAR 2021",
          "APR 2021",
          "MAY 2021",
          "JUN 2021",
          "JUL 2021",
          "AUG 2021",
          "SEP 2021",
          "OCT 2021",
          "NOV 2021",
          "DEC 2021",
          "JAN 2022",
          "FEB 2022",
          "MAR 2022",
          "APR 2022",
          "MAY 2022",
          "JUN 2022",
          "JUL 2022",
          "AUG 2022",
          "SEP 2022",
          "OCT 2022",
          "NOV 2022",
          "DEC 2022",
          "JAN 2023",
          "FEB 2023",
          "MAR 2023",
          "APR 2023",
          "MAY 2023",
          "JUN 2023"
         ],
         "xaxis": "x",
         "y": [
          505623,
          491140,
          495975,
          503042,
          505414,
          514835,
          528812,
          525954,
          532373,
          553720,
          556488,
          567067,
          573995,
          581094,
          586665,
          593857,
          594644,
          596353,
          599376,
          606390,
          611021,
          616288,
          622689,
          631710,
          659459,
          650450,
          658549,
          667194,
          662640,
          684610,
          723182,
          738798,
          755222,
          757726,
          770002,
          718721,
          734474,
          745319,
          753199,
          763921,
          773130,
          754220,
          764464,
          767560,
          731210,
          737531,
          745913,
          751394,
          763265,
          771681,
          776876,
          785131,
          771212,
          781319,
          789583
         ],
         "yaxis": "y2"
        },
        {
         "line": {
          "color": "#94F3E4",
          "width": 2
         },
         "mode": "markers+lines",
         "name": "MALE AC RUR",
         "type": "scatter",
         "x": [
          "DEC 2018",
          "JAN 2019",
          "FEB 2019",
          "MAR 2019",
          "APR 2019",
          "MAY 2019",
          "JUN 2019",
          "JUL 2019",
          "AUG 2019",
          "SEP 2019",
          "OCT 2019",
          "NOV 2019",
          "DEC 2019",
          "JAN 2020",
          "FEB 2020",
          "MAR 2020",
          "APR 2020",
          "MAY 2020",
          "JUN 2020",
          "JUL 2020",
          "AUG 2020",
          "SEP 2020",
          "OCT 2020",
          "NOV 2020",
          "DEC 2020",
          "JAN 2021",
          "FEB 2021",
          "MAR 2021",
          "APR 2021",
          "MAY 2021",
          "JUN 2021",
          "JUL 2021",
          "AUG 2021",
          "SEP 2021",
          "OCT 2021",
          "NOV 2021",
          "DEC 2021",
          "JAN 2022",
          "FEB 2022",
          "MAR 2022",
          "APR 2022",
          "MAY 2022",
          "JUN 2022",
          "JUL 2022",
          "AUG 2022",
          "SEP 2022",
          "OCT 2022",
          "NOV 2022",
          "DEC 2022",
          "JAN 2023",
          "FEB 2023",
          "MAR 2023",
          "APR 2023",
          "MAY 2023",
          "JUN 2023"
         ],
         "xaxis": "x2",
         "y": [
          21030462,
          18880373,
          19006106,
          19201465,
          19665560,
          19758337,
          20757042,
          21477483,
          21687092,
          22351367,
          23109308,
          24043399,
          24893228,
          26034399,
          26983460,
          27982159,
          28941516,
          31478971,
          31936960,
          34590842,
          35041492,
          35396409,
          36251776,
          36832245,
          37612250,
          38296205,
          40556036,
          45106307,
          46020562,
          47325656,
          48922350,
          49291899,
          50114327,
          51052297,
          51810374,
          52474947,
          53224563,
          54230537,
          55148523,
          53871251,
          54630133,
          55964148,
          56820123,
          57131464,
          58077896,
          58689788,
          59413109,
          60368899,
          60466225,
          61507920,
          62409574,
          63033706,
          63937651,
          65093659,
          66247526
         ],
         "yaxis": "y3"
        },
        {
         "line": {
          "color": "#ffb55a",
          "width": 2
         },
         "mode": "markers+lines",
         "name": "FEMALE AC RUR",
         "type": "scatter",
         "x": [
          "DEC 2018",
          "JAN 2019",
          "FEB 2019",
          "MAR 2019",
          "APR 2019",
          "MAY 2019",
          "JUN 2019",
          "JUL 2019",
          "AUG 2019",
          "SEP 2019",
          "OCT 2019",
          "NOV 2019",
          "DEC 2019",
          "JAN 2020",
          "FEB 2020",
          "MAR 2020",
          "APR 2020",
          "MAY 2020",
          "JUN 2020",
          "JUL 2020",
          "AUG 2020",
          "SEP 2020",
          "OCT 2020",
          "NOV 2020",
          "DEC 2020",
          "JAN 2021",
          "FEB 2021",
          "MAR 2021",
          "APR 2021",
          "MAY 2021",
          "JUN 2021",
          "JUL 2021",
          "AUG 2021",
          "SEP 2021",
          "OCT 2021",
          "NOV 2021",
          "DEC 2021",
          "JAN 2022",
          "FEB 2022",
          "MAR 2022",
          "APR 2022",
          "MAY 2022",
          "JUN 2022",
          "JUL 2022",
          "AUG 2022",
          "SEP 2022",
          "OCT 2022",
          "NOV 2022",
          "DEC 2022",
          "JAN 2023",
          "FEB 2023",
          "MAR 2023",
          "APR 2023",
          "MAY 2023",
          "JUN 2023"
         ],
         "xaxis": "x2",
         "y": [
          23093199,
          22513069,
          22781950,
          22791889,
          23542408,
          24941362,
          25538222,
          25978657,
          26148132,
          27103533,
          27812631,
          28510614,
          29430765,
          30444454,
          31666645,
          32721472,
          33414807,
          34746317,
          35060824,
          35404726,
          36278531,
          36654062,
          37147292,
          37710374,
          38395744,
          39023457,
          40692894,
          43434909,
          39832544,
          40483601,
          41396674,
          41539879,
          42110590,
          42667246,
          43039862,
          43394397,
          43807390,
          44402688,
          44968975,
          39402031,
          39951203,
          41810980,
          42480876,
          43473798,
          43456183,
          43960719,
          44499815,
          45393551,
          45394713,
          46245896,
          46905849,
          47346768,
          47966998,
          48782455,
          49592680
         ],
         "yaxis": "y3"
        },
        {
         "line": {
          "color": "#fdcce5",
          "width": 2
         },
         "mode": "markers+lines",
         "name": "AGENT RUR",
         "type": "scatter",
         "x": [
          "DEC 2018",
          "JAN 2019",
          "FEB 2019",
          "MAR 2019",
          "APR 2019",
          "MAY 2019",
          "JUN 2019",
          "JUL 2019",
          "AUG 2019",
          "SEP 2019",
          "OCT 2019",
          "NOV 2019",
          "DEC 2019",
          "JAN 2020",
          "FEB 2020",
          "MAR 2020",
          "APR 2020",
          "MAY 2020",
          "JUN 2020",
          "JUL 2020",
          "AUG 2020",
          "SEP 2020",
          "OCT 2020",
          "NOV 2020",
          "DEC 2020",
          "JAN 2021",
          "FEB 2021",
          "MAR 2021",
          "APR 2021",
          "MAY 2021",
          "JUN 2021",
          "JUL 2021",
          "AUG 2021",
          "SEP 2021",
          "OCT 2021",
          "NOV 2021",
          "DEC 2021",
          "JAN 2022",
          "FEB 2022",
          "MAR 2022",
          "APR 2022",
          "MAY 2022",
          "JUN 2022",
          "JUL 2022",
          "AUG 2022",
          "SEP 2022",
          "OCT 2022",
          "NOV 2022",
          "DEC 2022",
          "JAN 2023",
          "FEB 2023",
          "MAR 2023",
          "APR 2023",
          "MAY 2023",
          "JUN 2023"
         ],
         "xaxis": "x2",
         "y": [
          437887,
          474042,
          484885,
          493982,
          507123,
          504524,
          495960,
          511146,
          517516,
          499303,
          505509,
          515520,
          524226,
          538479,
          546236,
          554629,
          555717,
          557159,
          560745,
          563401,
          567551,
          573542,
          583630,
          596012,
          607336,
          609517,
          618004,
          627291,
          627753,
          635798,
          654434,
          656657,
          666711,
          653466,
          661362,
          670020,
          678293,
          684531,
          692338,
          701111,
          708886,
          741636,
          751201,
          758679,
          762188,
          767790,
          775890,
          780011,
          791372,
          797431,
          804408,
          812869,
          784579,
          789021,
          796139
         ],
         "yaxis": "y4"
        }
       ],
       "layout": {
        "annotations": [
         {
          "font": {
           "size": 16
          },
          "showarrow": false,
          "text": "URBAN",
          "x": 0.47,
          "xanchor": "center",
          "xref": "paper",
          "y": 0.375,
          "yanchor": "bottom",
          "yref": "paper"
         },
         {
          "font": {
           "size": 16
          },
          "showarrow": false,
          "text": "RURAL",
          "x": 0.47,
          "xanchor": "center",
          "xref": "paper",
          "y": 1,
          "yanchor": "bottom",
          "yref": "paper"
         }
        ],
        "height": 900,
        "template": {
         "data": {
          "bar": [
           {
            "error_x": {
             "color": "#f2f5fa"
            },
            "error_y": {
             "color": "#f2f5fa"
            },
            "marker": {
             "line": {
              "color": "rgb(17,17,17)",
              "width": 0.5
             },
             "pattern": {
              "fillmode": "overlay",
              "size": 10,
              "solidity": 0.2
             }
            },
            "type": "bar"
           }
          ],
          "barpolar": [
           {
            "marker": {
             "line": {
              "color": "rgb(17,17,17)",
              "width": 0.5
             },
             "pattern": {
              "fillmode": "overlay",
              "size": 10,
              "solidity": 0.2
             }
            },
            "type": "barpolar"
           }
          ],
          "carpet": [
           {
            "aaxis": {
             "endlinecolor": "#A2B1C6",
             "gridcolor": "#506784",
             "linecolor": "#506784",
             "minorgridcolor": "#506784",
             "startlinecolor": "#A2B1C6"
            },
            "baxis": {
             "endlinecolor": "#A2B1C6",
             "gridcolor": "#506784",
             "linecolor": "#506784",
             "minorgridcolor": "#506784",
             "startlinecolor": "#A2B1C6"
            },
            "type": "carpet"
           }
          ],
          "choropleth": [
           {
            "colorbar": {
             "outlinewidth": 0,
             "ticks": ""
            },
            "type": "choropleth"
           }
          ],
          "contour": [
           {
            "colorbar": {
             "outlinewidth": 0,
             "ticks": ""
            },
            "colorscale": [
             [
              0,
              "#0d0887"
             ],
             [
              0.1111111111111111,
              "#46039f"
             ],
             [
              0.2222222222222222,
              "#7201a8"
             ],
             [
              0.3333333333333333,
              "#9c179e"
             ],
             [
              0.4444444444444444,
              "#bd3786"
             ],
             [
              0.5555555555555556,
              "#d8576b"
             ],
             [
              0.6666666666666666,
              "#ed7953"
             ],
             [
              0.7777777777777778,
              "#fb9f3a"
             ],
             [
              0.8888888888888888,
              "#fdca26"
             ],
             [
              1,
              "#f0f921"
             ]
            ],
            "type": "contour"
           }
          ],
          "contourcarpet": [
           {
            "colorbar": {
             "outlinewidth": 0,
             "ticks": ""
            },
            "type": "contourcarpet"
           }
          ],
          "heatmap": [
           {
            "colorbar": {
             "outlinewidth": 0,
             "ticks": ""
            },
            "colorscale": [
             [
              0,
              "#0d0887"
             ],
             [
              0.1111111111111111,
              "#46039f"
             ],
             [
              0.2222222222222222,
              "#7201a8"
             ],
             [
              0.3333333333333333,
              "#9c179e"
             ],
             [
              0.4444444444444444,
              "#bd3786"
             ],
             [
              0.5555555555555556,
              "#d8576b"
             ],
             [
              0.6666666666666666,
              "#ed7953"
             ],
             [
              0.7777777777777778,
              "#fb9f3a"
             ],
             [
              0.8888888888888888,
              "#fdca26"
             ],
             [
              1,
              "#f0f921"
             ]
            ],
            "type": "heatmap"
           }
          ],
          "heatmapgl": [
           {
            "colorbar": {
             "outlinewidth": 0,
             "ticks": ""
            },
            "colorscale": [
             [
              0,
              "#0d0887"
             ],
             [
              0.1111111111111111,
              "#46039f"
             ],
             [
              0.2222222222222222,
              "#7201a8"
             ],
             [
              0.3333333333333333,
              "#9c179e"
             ],
             [
              0.4444444444444444,
              "#bd3786"
             ],
             [
              0.5555555555555556,
              "#d8576b"
             ],
             [
              0.6666666666666666,
              "#ed7953"
             ],
             [
              0.7777777777777778,
              "#fb9f3a"
             ],
             [
              0.8888888888888888,
              "#fdca26"
             ],
             [
              1,
              "#f0f921"
             ]
            ],
            "type": "heatmapgl"
           }
          ],
          "histogram": [
           {
            "marker": {
             "pattern": {
              "fillmode": "overlay",
              "size": 10,
              "solidity": 0.2
             }
            },
            "type": "histogram"
           }
          ],
          "histogram2d": [
           {
            "colorbar": {
             "outlinewidth": 0,
             "ticks": ""
            },
            "colorscale": [
             [
              0,
              "#0d0887"
             ],
             [
              0.1111111111111111,
              "#46039f"
             ],
             [
              0.2222222222222222,
              "#7201a8"
             ],
             [
              0.3333333333333333,
              "#9c179e"
             ],
             [
              0.4444444444444444,
              "#bd3786"
             ],
             [
              0.5555555555555556,
              "#d8576b"
             ],
             [
              0.6666666666666666,
              "#ed7953"
             ],
             [
              0.7777777777777778,
              "#fb9f3a"
             ],
             [
              0.8888888888888888,
              "#fdca26"
             ],
             [
              1,
              "#f0f921"
             ]
            ],
            "type": "histogram2d"
           }
          ],
          "histogram2dcontour": [
           {
            "colorbar": {
             "outlinewidth": 0,
             "ticks": ""
            },
            "colorscale": [
             [
              0,
              "#0d0887"
             ],
             [
              0.1111111111111111,
              "#46039f"
             ],
             [
              0.2222222222222222,
              "#7201a8"
             ],
             [
              0.3333333333333333,
              "#9c179e"
             ],
             [
              0.4444444444444444,
              "#bd3786"
             ],
             [
              0.5555555555555556,
              "#d8576b"
             ],
             [
              0.6666666666666666,
              "#ed7953"
             ],
             [
              0.7777777777777778,
              "#fb9f3a"
             ],
             [
              0.8888888888888888,
              "#fdca26"
             ],
             [
              1,
              "#f0f921"
             ]
            ],
            "type": "histogram2dcontour"
           }
          ],
          "mesh3d": [
           {
            "colorbar": {
             "outlinewidth": 0,
             "ticks": ""
            },
            "type": "mesh3d"
           }
          ],
          "parcoords": [
           {
            "line": {
             "colorbar": {
              "outlinewidth": 0,
              "ticks": ""
             }
            },
            "type": "parcoords"
           }
          ],
          "pie": [
           {
            "automargin": true,
            "type": "pie"
           }
          ],
          "scatter": [
           {
            "marker": {
             "line": {
              "color": "#283442"
             }
            },
            "type": "scatter"
           }
          ],
          "scatter3d": [
           {
            "line": {
             "colorbar": {
              "outlinewidth": 0,
              "ticks": ""
             }
            },
            "marker": {
             "colorbar": {
              "outlinewidth": 0,
              "ticks": ""
             }
            },
            "type": "scatter3d"
           }
          ],
          "scattercarpet": [
           {
            "marker": {
             "colorbar": {
              "outlinewidth": 0,
              "ticks": ""
             }
            },
            "type": "scattercarpet"
           }
          ],
          "scattergeo": [
           {
            "marker": {
             "colorbar": {
              "outlinewidth": 0,
              "ticks": ""
             }
            },
            "type": "scattergeo"
           }
          ],
          "scattergl": [
           {
            "marker": {
             "line": {
              "color": "#283442"
             }
            },
            "type": "scattergl"
           }
          ],
          "scattermapbox": [
           {
            "marker": {
             "colorbar": {
              "outlinewidth": 0,
              "ticks": ""
             }
            },
            "type": "scattermapbox"
           }
          ],
          "scatterpolar": [
           {
            "marker": {
             "colorbar": {
              "outlinewidth": 0,
              "ticks": ""
             }
            },
            "type": "scatterpolar"
           }
          ],
          "scatterpolargl": [
           {
            "marker": {
             "colorbar": {
              "outlinewidth": 0,
              "ticks": ""
             }
            },
            "type": "scatterpolargl"
           }
          ],
          "scatterternary": [
           {
            "marker": {
             "colorbar": {
              "outlinewidth": 0,
              "ticks": ""
             }
            },
            "type": "scatterternary"
           }
          ],
          "surface": [
           {
            "colorbar": {
             "outlinewidth": 0,
             "ticks": ""
            },
            "colorscale": [
             [
              0,
              "#0d0887"
             ],
             [
              0.1111111111111111,
              "#46039f"
             ],
             [
              0.2222222222222222,
              "#7201a8"
             ],
             [
              0.3333333333333333,
              "#9c179e"
             ],
             [
              0.4444444444444444,
              "#bd3786"
             ],
             [
              0.5555555555555556,
              "#d8576b"
             ],
             [
              0.6666666666666666,
              "#ed7953"
             ],
             [
              0.7777777777777778,
              "#fb9f3a"
             ],
             [
              0.8888888888888888,
              "#fdca26"
             ],
             [
              1,
              "#f0f921"
             ]
            ],
            "type": "surface"
           }
          ],
          "table": [
           {
            "cells": {
             "fill": {
              "color": "#506784"
             },
             "line": {
              "color": "rgb(17,17,17)"
             }
            },
            "header": {
             "fill": {
              "color": "#2a3f5f"
             },
             "line": {
              "color": "rgb(17,17,17)"
             }
            },
            "type": "table"
           }
          ]
         },
         "layout": {
          "annotationdefaults": {
           "arrowcolor": "#f2f5fa",
           "arrowhead": 0,
           "arrowwidth": 1
          },
          "autotypenumbers": "strict",
          "coloraxis": {
           "colorbar": {
            "outlinewidth": 0,
            "ticks": ""
           }
          },
          "colorscale": {
           "diverging": [
            [
             0,
             "#8e0152"
            ],
            [
             0.1,
             "#c51b7d"
            ],
            [
             0.2,
             "#de77ae"
            ],
            [
             0.3,
             "#f1b6da"
            ],
            [
             0.4,
             "#fde0ef"
            ],
            [
             0.5,
             "#f7f7f7"
            ],
            [
             0.6,
             "#e6f5d0"
            ],
            [
             0.7,
             "#b8e186"
            ],
            [
             0.8,
             "#7fbc41"
            ],
            [
             0.9,
             "#4d9221"
            ],
            [
             1,
             "#276419"
            ]
           ],
           "sequential": [
            [
             0,
             "#0d0887"
            ],
            [
             0.1111111111111111,
             "#46039f"
            ],
            [
             0.2222222222222222,
             "#7201a8"
            ],
            [
             0.3333333333333333,
             "#9c179e"
            ],
            [
             0.4444444444444444,
             "#bd3786"
            ],
            [
             0.5555555555555556,
             "#d8576b"
            ],
            [
             0.6666666666666666,
             "#ed7953"
            ],
            [
             0.7777777777777778,
             "#fb9f3a"
            ],
            [
             0.8888888888888888,
             "#fdca26"
            ],
            [
             1,
             "#f0f921"
            ]
           ],
           "sequentialminus": [
            [
             0,
             "#0d0887"
            ],
            [
             0.1111111111111111,
             "#46039f"
            ],
            [
             0.2222222222222222,
             "#7201a8"
            ],
            [
             0.3333333333333333,
             "#9c179e"
            ],
            [
             0.4444444444444444,
             "#bd3786"
            ],
            [
             0.5555555555555556,
             "#d8576b"
            ],
            [
             0.6666666666666666,
             "#ed7953"
            ],
            [
             0.7777777777777778,
             "#fb9f3a"
            ],
            [
             0.8888888888888888,
             "#fdca26"
            ],
            [
             1,
             "#f0f921"
            ]
           ]
          },
          "colorway": [
           "#636efa",
           "#EF553B",
           "#00cc96",
           "#ab63fa",
           "#FFA15A",
           "#19d3f3",
           "#FF6692",
           "#B6E880",
           "#FF97FF",
           "#FECB52"
          ],
          "font": {
           "color": "#f2f5fa"
          },
          "geo": {
           "bgcolor": "rgb(17,17,17)",
           "lakecolor": "rgb(17,17,17)",
           "landcolor": "rgb(17,17,17)",
           "showlakes": true,
           "showland": true,
           "subunitcolor": "#506784"
          },
          "hoverlabel": {
           "align": "left"
          },
          "hovermode": "closest",
          "mapbox": {
           "style": "dark"
          },
          "paper_bgcolor": "rgb(17,17,17)",
          "plot_bgcolor": "rgb(17,17,17)",
          "polar": {
           "angularaxis": {
            "gridcolor": "#506784",
            "linecolor": "#506784",
            "ticks": ""
           },
           "bgcolor": "rgb(17,17,17)",
           "radialaxis": {
            "gridcolor": "#506784",
            "linecolor": "#506784",
            "ticks": ""
           }
          },
          "scene": {
           "xaxis": {
            "backgroundcolor": "rgb(17,17,17)",
            "gridcolor": "#506784",
            "gridwidth": 2,
            "linecolor": "#506784",
            "showbackground": true,
            "ticks": "",
            "zerolinecolor": "#C8D4E3"
           },
           "yaxis": {
            "backgroundcolor": "rgb(17,17,17)",
            "gridcolor": "#506784",
            "gridwidth": 2,
            "linecolor": "#506784",
            "showbackground": true,
            "ticks": "",
            "zerolinecolor": "#C8D4E3"
           },
           "zaxis": {
            "backgroundcolor": "rgb(17,17,17)",
            "gridcolor": "#506784",
            "gridwidth": 2,
            "linecolor": "#506784",
            "showbackground": true,
            "ticks": "",
            "zerolinecolor": "#C8D4E3"
           }
          },
          "shapedefaults": {
           "line": {
            "color": "#f2f5fa"
           }
          },
          "sliderdefaults": {
           "bgcolor": "#C8D4E3",
           "bordercolor": "rgb(17,17,17)",
           "borderwidth": 1,
           "tickwidth": 0
          },
          "ternary": {
           "aaxis": {
            "gridcolor": "#506784",
            "linecolor": "#506784",
            "ticks": ""
           },
           "baxis": {
            "gridcolor": "#506784",
            "linecolor": "#506784",
            "ticks": ""
           },
           "bgcolor": "rgb(17,17,17)",
           "caxis": {
            "gridcolor": "#506784",
            "linecolor": "#506784",
            "ticks": ""
           }
          },
          "title": {
           "x": 0.05
          },
          "updatemenudefaults": {
           "bgcolor": "#506784",
           "borderwidth": 0
          },
          "xaxis": {
           "automargin": true,
           "gridcolor": "#283442",
           "linecolor": "#506784",
           "ticks": "",
           "title": {
            "standoff": 15
           },
           "zerolinecolor": "#283442",
           "zerolinewidth": 2
          },
          "yaxis": {
           "automargin": true,
           "gridcolor": "#283442",
           "linecolor": "#506784",
           "ticks": "",
           "title": {
            "standoff": 15
           },
           "zerolinecolor": "#283442",
           "zerolinewidth": 2
          }
         }
        },
        "title": {
         "text": "MFS Account Growth Alongside Agents"
        },
        "width": 1380,
        "xaxis": {
         "anchor": "y",
         "domain": [
          0,
          0.94
         ],
         "title": {
          "text": "Month of Year"
         }
        },
        "xaxis2": {
         "anchor": "y3",
         "domain": [
          0,
          0.94
         ]
        },
        "yaxis": {
         "anchor": "x",
         "domain": [
          0,
          0.375
         ],
         "title": {
          "text": "ACCOUNTS"
         }
        },
        "yaxis2": {
         "anchor": "x",
         "overlaying": "y",
         "side": "right",
         "title": {
          "text": "Agents"
         }
        },
        "yaxis3": {
         "anchor": "x2",
         "domain": [
          0.625,
          1
         ],
         "title": {
          "text": "Accounts"
         }
        },
        "yaxis4": {
         "anchor": "x2",
         "overlaying": "y3",
         "side": "right",
         "title": {
          "text": "Agents"
         }
        }
       }
      }
     },
     "metadata": {},
     "output_type": "display_data"
    }
   ],
   "source": [
    "fig = go.Figure()\n",
    "fig = make_subplots(specs=[[{\"secondary_y\": True}], [{\"secondary_y\": True}]], rows=2, cols=1, start_cell=\"bottom-left\", subplot_titles=(\"URBAN\", \"RURAL\"))\n",
    "\n",
    "fig.add_trace(go.Scatter(x=mfs_acc['PERIOD'], y=mfs_acc['MFS_MALE_ACCOUNT_URBAN'], name='MALE AC UR', line=dict(color='#94F3E4', width=2)),\n",
    "              secondary_y=False,\n",
    "              row=1, \n",
    "              col=1)\n",
    "fig.add_trace(go.Scatter(x=mfs_acc['PERIOD'], y=mfs_acc['MFS_FEMALE_ACCOUNT_URBAN'], name='FEMALE AC UR', line=dict(color='#ffb55a', width=2)), \n",
    "              secondary_y=False,\n",
    "              row=1, \n",
    "              col=1)\n",
    "fig.add_trace(go.Scatter(x=mfs_acc['PERIOD'], y=mfs_acc['MFS_AGENT_URBAN'], name='AGENT UR', line=dict(color='#fdcce5', width=2)), \n",
    "              secondary_y=True,\n",
    "              row=1, \n",
    "              col=1)\n",
    "\n",
    "\n",
    "fig.add_trace(go.Scatter(x=mfs_acc['PERIOD'], y=mfs_acc['MFS_MALE_ACCOUNT_RURAL'], name='MALE AC RUR', line=dict(color='#94F3E4', width=2)),\n",
    "              secondary_y=False,\n",
    "              row=2, \n",
    "              col=1)\n",
    "fig.add_trace(go.Scatter(x=mfs_acc['PERIOD'], y=mfs_acc['MFS_FEMALE_ACCOUNT_RURAL'], name='FEMALE AC RUR', line=dict(color='#ffb55a', width=2)), \n",
    "              secondary_y=False,\n",
    "              row=2, \n",
    "              col=1)\n",
    "fig.add_trace(go.Scatter(x=mfs_acc['PERIOD'], y=mfs_acc['MFS_AGENT_RURAL'], name='AGENT RUR', line=dict(color='#fdcce5', width=2)), \n",
    "              secondary_y=True,\n",
    "              row=2, \n",
    "              col=1)\n",
    "\n",
    "fig.update_yaxes(title_text=\"Accounts\", secondary_y=False)\n",
    "fig.update_yaxes(title_text=\"Agents\", secondary_y=True)\n",
    "fig.update_layout(height=900, width=1380, title='MFS Account Growth Alongside Agents', xaxis_title='Month of Year', yaxis_title='ACCOUNTS', template='plotly_dark')\n",
    "fig.update_traces(mode=\"markers+lines\")"
   ]
  },
  {
   "cell_type": "code",
   "execution_count": 17,
   "metadata": {},
   "outputs": [
    {
     "data": {
      "application/vnd.plotly.v1+json": {
       "config": {
        "plotlyServerURL": "https://plot.ly"
       },
       "data": [
        {
         "line": {
          "color": "#ffcad4",
          "width": 2
         },
         "mode": "markers+lines",
         "name": "FEMALE AC RUR",
         "type": "scatter",
         "x": [
          "DEC 2018",
          "JAN 2019",
          "FEB 2019",
          "MAR 2019",
          "APR 2019",
          "MAY 2019",
          "JUN 2019",
          "JUL 2019",
          "AUG 2019",
          "SEP 2019",
          "OCT 2019",
          "NOV 2019",
          "DEC 2019",
          "JAN 2020",
          "FEB 2020",
          "MAR 2020",
          "APR 2020",
          "MAY 2020",
          "JUN 2020",
          "JUL 2020",
          "AUG 2020",
          "SEP 2020",
          "OCT 2020",
          "NOV 2020",
          "DEC 2020",
          "JAN 2021",
          "FEB 2021",
          "MAR 2021",
          "APR 2021",
          "MAY 2021",
          "JUN 2021",
          "JUL 2021",
          "AUG 2021",
          "SEP 2021",
          "OCT 2021",
          "NOV 2021",
          "DEC 2021",
          "JAN 2022",
          "FEB 2022",
          "MAR 2022",
          "APR 2022",
          "MAY 2022",
          "JUN 2022",
          "JUL 2022",
          "AUG 2022",
          "SEP 2022",
          "OCT 2022",
          "NOV 2022",
          "DEC 2022",
          "JAN 2023",
          "FEB 2023",
          "MAR 2023",
          "APR 2023",
          "MAY 2023",
          "JUN 2023"
         ],
         "xaxis": "x",
         "y": [
          23093199,
          22513069,
          22781950,
          22791889,
          23542408,
          24941362,
          25538222,
          25978657,
          26148132,
          27103533,
          27812631,
          28510614,
          29430765,
          30444454,
          31666645,
          32721472,
          33414807,
          34746317,
          35060824,
          35404726,
          36278531,
          36654062,
          37147292,
          37710374,
          38395744,
          39023457,
          40692894,
          43434909,
          39832544,
          40483601,
          41396674,
          41539879,
          42110590,
          42667246,
          43039862,
          43394397,
          43807390,
          44402688,
          44968975,
          39402031,
          39951203,
          41810980,
          42480876,
          43473798,
          43456183,
          43960719,
          44499815,
          45393551,
          45394713,
          46245896,
          46905849,
          47346768,
          47966998,
          48782455,
          49592680
         ],
         "yaxis": "y"
        },
        {
         "line": {
          "color": "#0a9396",
          "width": 2
         },
         "mode": "markers+lines",
         "name": "FEMALE AC UR",
         "type": "scatter",
         "x": [
          "DEC 2018",
          "JAN 2019",
          "FEB 2019",
          "MAR 2019",
          "APR 2019",
          "MAY 2019",
          "JUN 2019",
          "JUL 2019",
          "AUG 2019",
          "SEP 2019",
          "OCT 2019",
          "NOV 2019",
          "DEC 2019",
          "JAN 2020",
          "FEB 2020",
          "MAR 2020",
          "APR 2020",
          "MAY 2020",
          "JUN 2020",
          "JUL 2020",
          "AUG 2020",
          "SEP 2020",
          "OCT 2020",
          "NOV 2020",
          "DEC 2020",
          "JAN 2021",
          "FEB 2021",
          "MAR 2021",
          "APR 2021",
          "MAY 2021",
          "JUN 2021",
          "JUL 2021",
          "AUG 2021",
          "SEP 2021",
          "OCT 2021",
          "NOV 2021",
          "DEC 2021",
          "JAN 2022",
          "FEB 2022",
          "MAR 2022",
          "APR 2022",
          "MAY 2022",
          "JUN 2022",
          "JUL 2022",
          "AUG 2022",
          "SEP 2022",
          "OCT 2022",
          "NOV 2022",
          "DEC 2022",
          "JAN 2023",
          "FEB 2023",
          "MAR 2023",
          "APR 2023",
          "MAY 2023",
          "JUN 2023"
         ],
         "xaxis": "x",
         "y": [
          8491129,
          9533773,
          9458043,
          9744399,
          9739027,
          10141315,
          10246766,
          10438143,
          10602577,
          11264584,
          11726527,
          11985931,
          12789162,
          13394823,
          14044994,
          14542151,
          15253024,
          15916031,
          16177189,
          16811081,
          17224136,
          17533015,
          17970697,
          18409455,
          18879824,
          19211721,
          20203414,
          21430136,
          21179220,
          22800390,
          24809406,
          25995428,
          26583231,
          27158459,
          27613092,
          28092167,
          28637497,
          29316888,
          29930857,
          29852331,
          30415301,
          31620156,
          32215458,
          32935692,
          33140199,
          33572063,
          33979501,
          33695799,
          34729780,
          35240987,
          35667699,
          35755777,
          36179304,
          36714774,
          37249086
         ],
         "yaxis": "y"
        },
        {
         "line": {
          "color": "#ffcad4",
          "width": 2
         },
         "mode": "markers+lines",
         "name": "OTHER AC RUR",
         "type": "scatter",
         "x": [
          "DEC 2018",
          "JAN 2019",
          "FEB 2019",
          "MAR 2019",
          "APR 2019",
          "MAY 2019",
          "JUN 2019",
          "JUL 2019",
          "AUG 2019",
          "SEP 2019",
          "OCT 2019",
          "NOV 2019",
          "DEC 2019",
          "JAN 2020",
          "FEB 2020",
          "MAR 2020",
          "APR 2020",
          "MAY 2020",
          "JUN 2020",
          "JUL 2020",
          "AUG 2020",
          "SEP 2020",
          "OCT 2020",
          "NOV 2020",
          "DEC 2020",
          "JAN 2021",
          "FEB 2021",
          "MAR 2021",
          "APR 2021",
          "MAY 2021",
          "JUN 2021",
          "JUL 2021",
          "AUG 2021",
          "SEP 2021",
          "OCT 2021",
          "NOV 2021",
          "DEC 2021",
          "JAN 2022",
          "FEB 2022",
          "MAR 2022",
          "APR 2022",
          "MAY 2022",
          "JUN 2022",
          "JUL 2022",
          "AUG 2022",
          "SEP 2022",
          "OCT 2022",
          "NOV 2022",
          "DEC 2022",
          "JAN 2023",
          "FEB 2023",
          "MAR 2023",
          "APR 2023",
          "MAY 2023",
          "JUN 2023"
         ],
         "xaxis": "x2",
         "y": [
          1513,
          1475,
          1483,
          1519,
          1609,
          1644,
          1722,
          1818,
          2037,
          9351,
          10339,
          11104,
          55343,
          64405,
          68280,
          71878,
          73502,
          76474,
          75302,
          76786,
          77283,
          78737,
          80619,
          86632,
          92294,
          100507,
          104281,
          107191,
          109156,
          109761,
          112232,
          114541,
          118360,
          122286,
          117637,
          121643,
          123656,
          130837,
          134658,
          138245,
          141046,
          144204,
          146066,
          148895,
          150467,
          153049,
          155292,
          158841,
          164362,
          166637,
          168878,
          172597,
          177272,
          182743,
          189101
         ],
         "yaxis": "y2"
        },
        {
         "line": {
          "color": "#0a9396",
          "width": 2
         },
         "mode": "markers+lines",
         "name": "OTHER AC UR",
         "type": "scatter",
         "x": [
          "DEC 2018",
          "JAN 2019",
          "FEB 2019",
          "MAR 2019",
          "APR 2019",
          "MAY 2019",
          "JUN 2019",
          "JUL 2019",
          "AUG 2019",
          "SEP 2019",
          "OCT 2019",
          "NOV 2019",
          "DEC 2019",
          "JAN 2020",
          "FEB 2020",
          "MAR 2020",
          "APR 2020",
          "MAY 2020",
          "JUN 2020",
          "JUL 2020",
          "AUG 2020",
          "SEP 2020",
          "OCT 2020",
          "NOV 2020",
          "DEC 2020",
          "JAN 2021",
          "FEB 2021",
          "MAR 2021",
          "APR 2021",
          "MAY 2021",
          "JUN 2021",
          "JUL 2021",
          "AUG 2021",
          "SEP 2021",
          "OCT 2021",
          "NOV 2021",
          "DEC 2021",
          "JAN 2022",
          "FEB 2022",
          "MAR 2022",
          "APR 2022",
          "MAY 2022",
          "JUN 2022",
          "JUL 2022",
          "AUG 2022",
          "SEP 2022",
          "OCT 2022",
          "NOV 2022",
          "DEC 2022",
          "JAN 2023",
          "FEB 2023",
          "MAR 2023",
          "APR 2023",
          "MAY 2023",
          "JUN 2023"
         ],
         "xaxis": "x2",
         "y": [
          695,
          754,
          755,
          768,
          777,
          824,
          854,
          950,
          1074,
          24760,
          26368,
          27265,
          102212,
          111471,
          118973,
          125462,
          127062,
          130305,
          130169,
          134050,
          135797,
          139778,
          143505,
          151825,
          158152,
          167479,
          172739,
          176799,
          178327,
          181599,
          186016,
          189006,
          193432,
          198205,
          198511,
          205097,
          205856,
          216539,
          223016,
          229719,
          234809,
          241510,
          248485,
          253362,
          256880,
          262047,
          267161,
          274771,
          285248,
          290508,
          299511,
          327136,
          335711,
          348686,
          363483
         ],
         "yaxis": "y2"
        },
        {
         "line": {
          "color": "#ffcad4",
          "width": 2
         },
         "mode": "markers+lines",
         "name": "MALE AC RUR",
         "type": "scatter",
         "x": [
          "DEC 2018",
          "JAN 2019",
          "FEB 2019",
          "MAR 2019",
          "APR 2019",
          "MAY 2019",
          "JUN 2019",
          "JUL 2019",
          "AUG 2019",
          "SEP 2019",
          "OCT 2019",
          "NOV 2019",
          "DEC 2019",
          "JAN 2020",
          "FEB 2020",
          "MAR 2020",
          "APR 2020",
          "MAY 2020",
          "JUN 2020",
          "JUL 2020",
          "AUG 2020",
          "SEP 2020",
          "OCT 2020",
          "NOV 2020",
          "DEC 2020",
          "JAN 2021",
          "FEB 2021",
          "MAR 2021",
          "APR 2021",
          "MAY 2021",
          "JUN 2021",
          "JUL 2021",
          "AUG 2021",
          "SEP 2021",
          "OCT 2021",
          "NOV 2021",
          "DEC 2021",
          "JAN 2022",
          "FEB 2022",
          "MAR 2022",
          "APR 2022",
          "MAY 2022",
          "JUN 2022",
          "JUL 2022",
          "AUG 2022",
          "SEP 2022",
          "OCT 2022",
          "NOV 2022",
          "DEC 2022",
          "JAN 2023",
          "FEB 2023",
          "MAR 2023",
          "APR 2023",
          "MAY 2023",
          "JUN 2023"
         ],
         "xaxis": "x3",
         "y": [
          21030462,
          18880373,
          19006106,
          19201465,
          19665560,
          19758337,
          20757042,
          21477483,
          21687092,
          22351367,
          23109308,
          24043399,
          24893228,
          26034399,
          26983460,
          27982159,
          28941516,
          31478971,
          31936960,
          34590842,
          35041492,
          35396409,
          36251776,
          36832245,
          37612250,
          38296205,
          40556036,
          45106307,
          46020562,
          47325656,
          48922350,
          49291899,
          50114327,
          51052297,
          51810374,
          52474947,
          53224563,
          54230537,
          55148523,
          53871251,
          54630133,
          55964148,
          56820123,
          57131464,
          58077896,
          58689788,
          59413109,
          60368899,
          60466225,
          61507920,
          62409574,
          63033706,
          63937651,
          65093659,
          66247526
         ],
         "yaxis": "y3"
        },
        {
         "line": {
          "color": "#0a9396",
          "width": 2
         },
         "mode": "markers+lines",
         "name": "MALE AC UR",
         "type": "scatter",
         "x": [
          "DEC 2018",
          "JAN 2019",
          "FEB 2019",
          "MAR 2019",
          "APR 2019",
          "MAY 2019",
          "JUN 2019",
          "JUL 2019",
          "AUG 2019",
          "SEP 2019",
          "OCT 2019",
          "NOV 2019",
          "DEC 2019",
          "JAN 2020",
          "FEB 2020",
          "MAR 2020",
          "APR 2020",
          "MAY 2020",
          "JUN 2020",
          "JUL 2020",
          "AUG 2020",
          "SEP 2020",
          "OCT 2020",
          "NOV 2020",
          "DEC 2020",
          "JAN 2021",
          "FEB 2021",
          "MAR 2021",
          "APR 2021",
          "MAY 2021",
          "JUN 2021",
          "JUL 2021",
          "AUG 2021",
          "SEP 2021",
          "OCT 2021",
          "NOV 2021",
          "DEC 2021",
          "JAN 2022",
          "FEB 2022",
          "MAR 2022",
          "APR 2022",
          "MAY 2022",
          "JUN 2022",
          "JUL 2022",
          "AUG 2022",
          "SEP 2022",
          "OCT 2022",
          "NOV 2022",
          "DEC 2022",
          "JAN 2023",
          "FEB 2023",
          "MAR 2023",
          "APR 2023",
          "MAY 2023",
          "JUN 2023"
         ],
         "xaxis": "x3",
         "y": [
          15053470,
          16684243,
          16697088,
          16574635,
          16333380,
          17000434,
          17234004,
          17476643,
          17779052,
          18440077,
          18942419,
          19780354,
          20160737,
          20873990,
          21455510,
          21983067,
          22753691,
          23730024,
          24095188,
          25152310,
          25728507,
          26080014,
          26579555,
          27106814,
          27790013,
          28316854,
          29638030,
          31400373,
          31081403,
          33441779,
          37035589,
          38895616,
          39893788,
          40896834,
          41839891,
          42717241,
          43723069,
          44970483,
          45868201,
          46758151,
          47564802,
          45988861,
          46728634,
          47194552,
          48142985,
          48620266,
          49208715,
          48667875,
          50023245,
          50673189,
          51307660,
          51455799,
          52092274,
          52847869,
          53626770
         ],
         "yaxis": "y3"
        },
        {
         "line": {
          "color": "#ffcad4",
          "width": 2
         },
         "mode": "markers+lines",
         "name": "AGENT RUR",
         "type": "scatter",
         "x": [
          "DEC 2018",
          "JAN 2019",
          "FEB 2019",
          "MAR 2019",
          "APR 2019",
          "MAY 2019",
          "JUN 2019",
          "JUL 2019",
          "AUG 2019",
          "SEP 2019",
          "OCT 2019",
          "NOV 2019",
          "DEC 2019",
          "JAN 2020",
          "FEB 2020",
          "MAR 2020",
          "APR 2020",
          "MAY 2020",
          "JUN 2020",
          "JUL 2020",
          "AUG 2020",
          "SEP 2020",
          "OCT 2020",
          "NOV 2020",
          "DEC 2020",
          "JAN 2021",
          "FEB 2021",
          "MAR 2021",
          "APR 2021",
          "MAY 2021",
          "JUN 2021",
          "JUL 2021",
          "AUG 2021",
          "SEP 2021",
          "OCT 2021",
          "NOV 2021",
          "DEC 2021",
          "JAN 2022",
          "FEB 2022",
          "MAR 2022",
          "APR 2022",
          "MAY 2022",
          "JUN 2022",
          "JUL 2022",
          "AUG 2022",
          "SEP 2022",
          "OCT 2022",
          "NOV 2022",
          "DEC 2022",
          "JAN 2023",
          "FEB 2023",
          "MAR 2023",
          "APR 2023",
          "MAY 2023",
          "JUN 2023"
         ],
         "xaxis": "x4",
         "y": [
          437887,
          474042,
          484885,
          493982,
          507123,
          504524,
          495960,
          511146,
          517516,
          499303,
          505509,
          515520,
          524226,
          538479,
          546236,
          554629,
          555717,
          557159,
          560745,
          563401,
          567551,
          573542,
          583630,
          596012,
          607336,
          609517,
          618004,
          627291,
          627753,
          635798,
          654434,
          656657,
          666711,
          653466,
          661362,
          670020,
          678293,
          684531,
          692338,
          701111,
          708886,
          741636,
          751201,
          758679,
          762188,
          767790,
          775890,
          780011,
          791372,
          797431,
          804408,
          812869,
          784579,
          789021,
          796139
         ],
         "yaxis": "y4"
        },
        {
         "line": {
          "color": "#0a9396",
          "width": 2
         },
         "mode": "markers+lines",
         "name": "AGENT UR",
         "type": "scatter",
         "x": [
          "DEC 2018",
          "JAN 2019",
          "FEB 2019",
          "MAR 2019",
          "APR 2019",
          "MAY 2019",
          "JUN 2019",
          "JUL 2019",
          "AUG 2019",
          "SEP 2019",
          "OCT 2019",
          "NOV 2019",
          "DEC 2019",
          "JAN 2020",
          "FEB 2020",
          "MAR 2020",
          "APR 2020",
          "MAY 2020",
          "JUN 2020",
          "JUL 2020",
          "AUG 2020",
          "SEP 2020",
          "OCT 2020",
          "NOV 2020",
          "DEC 2020",
          "JAN 2021",
          "FEB 2021",
          "MAR 2021",
          "APR 2021",
          "MAY 2021",
          "JUN 2021",
          "JUL 2021",
          "AUG 2021",
          "SEP 2021",
          "OCT 2021",
          "NOV 2021",
          "DEC 2021",
          "JAN 2022",
          "FEB 2022",
          "MAR 2022",
          "APR 2022",
          "MAY 2022",
          "JUN 2022",
          "JUL 2022",
          "AUG 2022",
          "SEP 2022",
          "OCT 2022",
          "NOV 2022",
          "DEC 2022",
          "JAN 2023",
          "FEB 2023",
          "MAR 2023",
          "APR 2023",
          "MAY 2023",
          "JUN 2023"
         ],
         "xaxis": "x4",
         "y": [
          505623,
          491140,
          495975,
          503042,
          505414,
          514835,
          528812,
          525954,
          532373,
          553720,
          556488,
          567067,
          573995,
          581094,
          586665,
          593857,
          594644,
          596353,
          599376,
          606390,
          611021,
          616288,
          622689,
          631710,
          659459,
          650450,
          658549,
          667194,
          662640,
          684610,
          723182,
          738798,
          755222,
          757726,
          770002,
          718721,
          734474,
          745319,
          753199,
          763921,
          773130,
          754220,
          764464,
          767560,
          731210,
          737531,
          745913,
          751394,
          763265,
          771681,
          776876,
          785131,
          771212,
          781319,
          789583
         ],
         "yaxis": "y4"
        }
       ],
       "layout": {
        "annotations": [
         {
          "font": {
           "size": 16
          },
          "showarrow": false,
          "text": "FEMALE",
          "x": 0.5,
          "xanchor": "center",
          "xref": "paper",
          "y": 0.15625,
          "yanchor": "bottom",
          "yref": "paper"
         },
         {
          "font": {
           "size": 16
          },
          "showarrow": false,
          "text": "OTHER",
          "x": 0.5,
          "xanchor": "center",
          "xref": "paper",
          "y": 0.4375,
          "yanchor": "bottom",
          "yref": "paper"
         },
         {
          "font": {
           "size": 16
          },
          "showarrow": false,
          "text": "MALE",
          "x": 0.5,
          "xanchor": "center",
          "xref": "paper",
          "y": 0.71875,
          "yanchor": "bottom",
          "yref": "paper"
         },
         {
          "font": {
           "size": 16
          },
          "showarrow": false,
          "text": "AGENT",
          "x": 0.5,
          "xanchor": "center",
          "xref": "paper",
          "y": 1,
          "yanchor": "bottom",
          "yref": "paper"
         }
        ],
        "height": 980,
        "template": {
         "data": {
          "bar": [
           {
            "error_x": {
             "color": "#f2f5fa"
            },
            "error_y": {
             "color": "#f2f5fa"
            },
            "marker": {
             "line": {
              "color": "rgb(17,17,17)",
              "width": 0.5
             },
             "pattern": {
              "fillmode": "overlay",
              "size": 10,
              "solidity": 0.2
             }
            },
            "type": "bar"
           }
          ],
          "barpolar": [
           {
            "marker": {
             "line": {
              "color": "rgb(17,17,17)",
              "width": 0.5
             },
             "pattern": {
              "fillmode": "overlay",
              "size": 10,
              "solidity": 0.2
             }
            },
            "type": "barpolar"
           }
          ],
          "carpet": [
           {
            "aaxis": {
             "endlinecolor": "#A2B1C6",
             "gridcolor": "#506784",
             "linecolor": "#506784",
             "minorgridcolor": "#506784",
             "startlinecolor": "#A2B1C6"
            },
            "baxis": {
             "endlinecolor": "#A2B1C6",
             "gridcolor": "#506784",
             "linecolor": "#506784",
             "minorgridcolor": "#506784",
             "startlinecolor": "#A2B1C6"
            },
            "type": "carpet"
           }
          ],
          "choropleth": [
           {
            "colorbar": {
             "outlinewidth": 0,
             "ticks": ""
            },
            "type": "choropleth"
           }
          ],
          "contour": [
           {
            "colorbar": {
             "outlinewidth": 0,
             "ticks": ""
            },
            "colorscale": [
             [
              0,
              "#0d0887"
             ],
             [
              0.1111111111111111,
              "#46039f"
             ],
             [
              0.2222222222222222,
              "#7201a8"
             ],
             [
              0.3333333333333333,
              "#9c179e"
             ],
             [
              0.4444444444444444,
              "#bd3786"
             ],
             [
              0.5555555555555556,
              "#d8576b"
             ],
             [
              0.6666666666666666,
              "#ed7953"
             ],
             [
              0.7777777777777778,
              "#fb9f3a"
             ],
             [
              0.8888888888888888,
              "#fdca26"
             ],
             [
              1,
              "#f0f921"
             ]
            ],
            "type": "contour"
           }
          ],
          "contourcarpet": [
           {
            "colorbar": {
             "outlinewidth": 0,
             "ticks": ""
            },
            "type": "contourcarpet"
           }
          ],
          "heatmap": [
           {
            "colorbar": {
             "outlinewidth": 0,
             "ticks": ""
            },
            "colorscale": [
             [
              0,
              "#0d0887"
             ],
             [
              0.1111111111111111,
              "#46039f"
             ],
             [
              0.2222222222222222,
              "#7201a8"
             ],
             [
              0.3333333333333333,
              "#9c179e"
             ],
             [
              0.4444444444444444,
              "#bd3786"
             ],
             [
              0.5555555555555556,
              "#d8576b"
             ],
             [
              0.6666666666666666,
              "#ed7953"
             ],
             [
              0.7777777777777778,
              "#fb9f3a"
             ],
             [
              0.8888888888888888,
              "#fdca26"
             ],
             [
              1,
              "#f0f921"
             ]
            ],
            "type": "heatmap"
           }
          ],
          "heatmapgl": [
           {
            "colorbar": {
             "outlinewidth": 0,
             "ticks": ""
            },
            "colorscale": [
             [
              0,
              "#0d0887"
             ],
             [
              0.1111111111111111,
              "#46039f"
             ],
             [
              0.2222222222222222,
              "#7201a8"
             ],
             [
              0.3333333333333333,
              "#9c179e"
             ],
             [
              0.4444444444444444,
              "#bd3786"
             ],
             [
              0.5555555555555556,
              "#d8576b"
             ],
             [
              0.6666666666666666,
              "#ed7953"
             ],
             [
              0.7777777777777778,
              "#fb9f3a"
             ],
             [
              0.8888888888888888,
              "#fdca26"
             ],
             [
              1,
              "#f0f921"
             ]
            ],
            "type": "heatmapgl"
           }
          ],
          "histogram": [
           {
            "marker": {
             "pattern": {
              "fillmode": "overlay",
              "size": 10,
              "solidity": 0.2
             }
            },
            "type": "histogram"
           }
          ],
          "histogram2d": [
           {
            "colorbar": {
             "outlinewidth": 0,
             "ticks": ""
            },
            "colorscale": [
             [
              0,
              "#0d0887"
             ],
             [
              0.1111111111111111,
              "#46039f"
             ],
             [
              0.2222222222222222,
              "#7201a8"
             ],
             [
              0.3333333333333333,
              "#9c179e"
             ],
             [
              0.4444444444444444,
              "#bd3786"
             ],
             [
              0.5555555555555556,
              "#d8576b"
             ],
             [
              0.6666666666666666,
              "#ed7953"
             ],
             [
              0.7777777777777778,
              "#fb9f3a"
             ],
             [
              0.8888888888888888,
              "#fdca26"
             ],
             [
              1,
              "#f0f921"
             ]
            ],
            "type": "histogram2d"
           }
          ],
          "histogram2dcontour": [
           {
            "colorbar": {
             "outlinewidth": 0,
             "ticks": ""
            },
            "colorscale": [
             [
              0,
              "#0d0887"
             ],
             [
              0.1111111111111111,
              "#46039f"
             ],
             [
              0.2222222222222222,
              "#7201a8"
             ],
             [
              0.3333333333333333,
              "#9c179e"
             ],
             [
              0.4444444444444444,
              "#bd3786"
             ],
             [
              0.5555555555555556,
              "#d8576b"
             ],
             [
              0.6666666666666666,
              "#ed7953"
             ],
             [
              0.7777777777777778,
              "#fb9f3a"
             ],
             [
              0.8888888888888888,
              "#fdca26"
             ],
             [
              1,
              "#f0f921"
             ]
            ],
            "type": "histogram2dcontour"
           }
          ],
          "mesh3d": [
           {
            "colorbar": {
             "outlinewidth": 0,
             "ticks": ""
            },
            "type": "mesh3d"
           }
          ],
          "parcoords": [
           {
            "line": {
             "colorbar": {
              "outlinewidth": 0,
              "ticks": ""
             }
            },
            "type": "parcoords"
           }
          ],
          "pie": [
           {
            "automargin": true,
            "type": "pie"
           }
          ],
          "scatter": [
           {
            "marker": {
             "line": {
              "color": "#283442"
             }
            },
            "type": "scatter"
           }
          ],
          "scatter3d": [
           {
            "line": {
             "colorbar": {
              "outlinewidth": 0,
              "ticks": ""
             }
            },
            "marker": {
             "colorbar": {
              "outlinewidth": 0,
              "ticks": ""
             }
            },
            "type": "scatter3d"
           }
          ],
          "scattercarpet": [
           {
            "marker": {
             "colorbar": {
              "outlinewidth": 0,
              "ticks": ""
             }
            },
            "type": "scattercarpet"
           }
          ],
          "scattergeo": [
           {
            "marker": {
             "colorbar": {
              "outlinewidth": 0,
              "ticks": ""
             }
            },
            "type": "scattergeo"
           }
          ],
          "scattergl": [
           {
            "marker": {
             "line": {
              "color": "#283442"
             }
            },
            "type": "scattergl"
           }
          ],
          "scattermapbox": [
           {
            "marker": {
             "colorbar": {
              "outlinewidth": 0,
              "ticks": ""
             }
            },
            "type": "scattermapbox"
           }
          ],
          "scatterpolar": [
           {
            "marker": {
             "colorbar": {
              "outlinewidth": 0,
              "ticks": ""
             }
            },
            "type": "scatterpolar"
           }
          ],
          "scatterpolargl": [
           {
            "marker": {
             "colorbar": {
              "outlinewidth": 0,
              "ticks": ""
             }
            },
            "type": "scatterpolargl"
           }
          ],
          "scatterternary": [
           {
            "marker": {
             "colorbar": {
              "outlinewidth": 0,
              "ticks": ""
             }
            },
            "type": "scatterternary"
           }
          ],
          "surface": [
           {
            "colorbar": {
             "outlinewidth": 0,
             "ticks": ""
            },
            "colorscale": [
             [
              0,
              "#0d0887"
             ],
             [
              0.1111111111111111,
              "#46039f"
             ],
             [
              0.2222222222222222,
              "#7201a8"
             ],
             [
              0.3333333333333333,
              "#9c179e"
             ],
             [
              0.4444444444444444,
              "#bd3786"
             ],
             [
              0.5555555555555556,
              "#d8576b"
             ],
             [
              0.6666666666666666,
              "#ed7953"
             ],
             [
              0.7777777777777778,
              "#fb9f3a"
             ],
             [
              0.8888888888888888,
              "#fdca26"
             ],
             [
              1,
              "#f0f921"
             ]
            ],
            "type": "surface"
           }
          ],
          "table": [
           {
            "cells": {
             "fill": {
              "color": "#506784"
             },
             "line": {
              "color": "rgb(17,17,17)"
             }
            },
            "header": {
             "fill": {
              "color": "#2a3f5f"
             },
             "line": {
              "color": "rgb(17,17,17)"
             }
            },
            "type": "table"
           }
          ]
         },
         "layout": {
          "annotationdefaults": {
           "arrowcolor": "#f2f5fa",
           "arrowhead": 0,
           "arrowwidth": 1
          },
          "autotypenumbers": "strict",
          "coloraxis": {
           "colorbar": {
            "outlinewidth": 0,
            "ticks": ""
           }
          },
          "colorscale": {
           "diverging": [
            [
             0,
             "#8e0152"
            ],
            [
             0.1,
             "#c51b7d"
            ],
            [
             0.2,
             "#de77ae"
            ],
            [
             0.3,
             "#f1b6da"
            ],
            [
             0.4,
             "#fde0ef"
            ],
            [
             0.5,
             "#f7f7f7"
            ],
            [
             0.6,
             "#e6f5d0"
            ],
            [
             0.7,
             "#b8e186"
            ],
            [
             0.8,
             "#7fbc41"
            ],
            [
             0.9,
             "#4d9221"
            ],
            [
             1,
             "#276419"
            ]
           ],
           "sequential": [
            [
             0,
             "#0d0887"
            ],
            [
             0.1111111111111111,
             "#46039f"
            ],
            [
             0.2222222222222222,
             "#7201a8"
            ],
            [
             0.3333333333333333,
             "#9c179e"
            ],
            [
             0.4444444444444444,
             "#bd3786"
            ],
            [
             0.5555555555555556,
             "#d8576b"
            ],
            [
             0.6666666666666666,
             "#ed7953"
            ],
            [
             0.7777777777777778,
             "#fb9f3a"
            ],
            [
             0.8888888888888888,
             "#fdca26"
            ],
            [
             1,
             "#f0f921"
            ]
           ],
           "sequentialminus": [
            [
             0,
             "#0d0887"
            ],
            [
             0.1111111111111111,
             "#46039f"
            ],
            [
             0.2222222222222222,
             "#7201a8"
            ],
            [
             0.3333333333333333,
             "#9c179e"
            ],
            [
             0.4444444444444444,
             "#bd3786"
            ],
            [
             0.5555555555555556,
             "#d8576b"
            ],
            [
             0.6666666666666666,
             "#ed7953"
            ],
            [
             0.7777777777777778,
             "#fb9f3a"
            ],
            [
             0.8888888888888888,
             "#fdca26"
            ],
            [
             1,
             "#f0f921"
            ]
           ]
          },
          "colorway": [
           "#636efa",
           "#EF553B",
           "#00cc96",
           "#ab63fa",
           "#FFA15A",
           "#19d3f3",
           "#FF6692",
           "#B6E880",
           "#FF97FF",
           "#FECB52"
          ],
          "font": {
           "color": "#f2f5fa"
          },
          "geo": {
           "bgcolor": "rgb(17,17,17)",
           "lakecolor": "rgb(17,17,17)",
           "landcolor": "rgb(17,17,17)",
           "showlakes": true,
           "showland": true,
           "subunitcolor": "#506784"
          },
          "hoverlabel": {
           "align": "left"
          },
          "hovermode": "closest",
          "mapbox": {
           "style": "dark"
          },
          "paper_bgcolor": "rgb(17,17,17)",
          "plot_bgcolor": "rgb(17,17,17)",
          "polar": {
           "angularaxis": {
            "gridcolor": "#506784",
            "linecolor": "#506784",
            "ticks": ""
           },
           "bgcolor": "rgb(17,17,17)",
           "radialaxis": {
            "gridcolor": "#506784",
            "linecolor": "#506784",
            "ticks": ""
           }
          },
          "scene": {
           "xaxis": {
            "backgroundcolor": "rgb(17,17,17)",
            "gridcolor": "#506784",
            "gridwidth": 2,
            "linecolor": "#506784",
            "showbackground": true,
            "ticks": "",
            "zerolinecolor": "#C8D4E3"
           },
           "yaxis": {
            "backgroundcolor": "rgb(17,17,17)",
            "gridcolor": "#506784",
            "gridwidth": 2,
            "linecolor": "#506784",
            "showbackground": true,
            "ticks": "",
            "zerolinecolor": "#C8D4E3"
           },
           "zaxis": {
            "backgroundcolor": "rgb(17,17,17)",
            "gridcolor": "#506784",
            "gridwidth": 2,
            "linecolor": "#506784",
            "showbackground": true,
            "ticks": "",
            "zerolinecolor": "#C8D4E3"
           }
          },
          "shapedefaults": {
           "line": {
            "color": "#f2f5fa"
           }
          },
          "sliderdefaults": {
           "bgcolor": "#C8D4E3",
           "bordercolor": "rgb(17,17,17)",
           "borderwidth": 1,
           "tickwidth": 0
          },
          "ternary": {
           "aaxis": {
            "gridcolor": "#506784",
            "linecolor": "#506784",
            "ticks": ""
           },
           "baxis": {
            "gridcolor": "#506784",
            "linecolor": "#506784",
            "ticks": ""
           },
           "bgcolor": "rgb(17,17,17)",
           "caxis": {
            "gridcolor": "#506784",
            "linecolor": "#506784",
            "ticks": ""
           }
          },
          "title": {
           "x": 0.05
          },
          "updatemenudefaults": {
           "bgcolor": "#506784",
           "borderwidth": 0
          },
          "xaxis": {
           "automargin": true,
           "gridcolor": "#283442",
           "linecolor": "#506784",
           "ticks": "",
           "title": {
            "standoff": 15
           },
           "zerolinecolor": "#283442",
           "zerolinewidth": 2
          },
          "yaxis": {
           "automargin": true,
           "gridcolor": "#283442",
           "linecolor": "#506784",
           "ticks": "",
           "title": {
            "standoff": 15
           },
           "zerolinecolor": "#283442",
           "zerolinewidth": 2
          }
         }
        },
        "title": {
         "text": "MFS Account Growth (RURAL vs URBAN)"
        },
        "width": 1380,
        "xaxis": {
         "anchor": "y",
         "domain": [
          0,
          1
         ],
         "title": {
          "text": "Month of Year"
         }
        },
        "xaxis2": {
         "anchor": "y2",
         "domain": [
          0,
          1
         ]
        },
        "xaxis3": {
         "anchor": "y3",
         "domain": [
          0,
          1
         ]
        },
        "xaxis4": {
         "anchor": "y4",
         "domain": [
          0,
          1
         ]
        },
        "yaxis": {
         "anchor": "x",
         "domain": [
          0,
          0.15625
         ],
         "title": {
          "text": "ACCOUNTS"
         }
        },
        "yaxis2": {
         "anchor": "x2",
         "domain": [
          0.28125,
          0.4375
         ],
         "title": {
          "text": "Accounts"
         }
        },
        "yaxis3": {
         "anchor": "x3",
         "domain": [
          0.5625,
          0.71875
         ],
         "title": {
          "text": "Accounts"
         }
        },
        "yaxis4": {
         "anchor": "x4",
         "domain": [
          0.84375,
          1
         ],
         "title": {
          "text": "Accounts"
         }
        }
       }
      }
     },
     "metadata": {},
     "output_type": "display_data"
    }
   ],
   "source": [
    "fig = go.Figure()\n",
    "fig = make_subplots(rows=4, cols=1, start_cell=\"bottom-left\", subplot_titles=(\"FEMALE\", \"OTHER\", \"MALE\", \"AGENT\"))\n",
    "\n",
    "\n",
    "fig.add_trace(go.Scatter(x=mfs_acc['PERIOD'], y=mfs_acc['MFS_FEMALE_ACCOUNT_RURAL'], name='FEMALE AC RUR', line=dict(color='#ffcad4', width=2)), row=1,  col=1)\n",
    "fig.add_trace(go.Scatter(x=mfs_acc['PERIOD'], y=mfs_acc['MFS_FEMALE_ACCOUNT_URBAN'], name='FEMALE AC UR', line=dict(color='#0a9396', width=2)), row=1, col=1)\n",
    "\n",
    "fig.add_trace(go.Scatter(x=mfs_acc['PERIOD'], y=mfs_acc['MFS_OTHER_ACCOUNT_RURAL'], name='OTHER AC RUR', line=dict(color='#ffcad4', width=2)), row=2,  col=1)\n",
    "fig.add_trace(go.Scatter(x=mfs_acc['PERIOD'], y=mfs_acc['MFS_OTHER_ACCOUNT_URBAN'], name='OTHER AC UR', line=dict(color='#0a9396', width=2)), row=2, col=1)\n",
    "\n",
    "fig.add_trace(go.Scatter(x=mfs_acc['PERIOD'], y=mfs_acc['MFS_MALE_ACCOUNT_RURAL'], name='MALE AC RUR', line=dict(color='#ffcad4', width=2)), row=3,  col=1)\n",
    "fig.add_trace(go.Scatter(x=mfs_acc['PERIOD'], y=mfs_acc['MFS_MALE_ACCOUNT_URBAN'], name='MALE AC UR', line=dict(color='#0a9396', width=2)), row=3, col=1)\n",
    "\n",
    "fig.add_trace(go.Scatter(x=mfs_acc['PERIOD'], y=mfs_acc['MFS_AGENT_RURAL'], name='AGENT RUR', line=dict(color='#ffcad4', width=2)), row=4,  col=1)\n",
    "fig.add_trace(go.Scatter(x=mfs_acc['PERIOD'], y=mfs_acc['MFS_AGENT_URBAN'], name='AGENT UR', line=dict(color='#0a9396', width=2)), row=4, col=1)\n",
    "\n",
    "\n",
    "fig.update_yaxes(title_text=\"Accounts\", secondary_y=False)\n",
    "fig.update_layout(height=980, width=1380, title='MFS Account Growth (RURAL vs URBAN)', xaxis_title='Month of Year', yaxis_title='ACCOUNTS', template='plotly_dark')\n",
    "fig.update_traces(mode=\"markers+lines\")"
   ]
  },
  {
   "cell_type": "code",
   "execution_count": null,
   "metadata": {},
   "outputs": [],
   "source": []
  },
  {
   "cell_type": "code",
   "execution_count": 18,
   "metadata": {},
   "outputs": [
    {
     "data": {
      "text/html": [
       "<div>\n",
       "<style scoped>\n",
       "    .dataframe tbody tr th:only-of-type {\n",
       "        vertical-align: middle;\n",
       "    }\n",
       "\n",
       "    .dataframe tbody tr th {\n",
       "        vertical-align: top;\n",
       "    }\n",
       "\n",
       "    .dataframe thead th {\n",
       "        text-align: right;\n",
       "    }\n",
       "</style>\n",
       "<table border=\"1\" class=\"dataframe\">\n",
       "  <thead>\n",
       "    <tr style=\"text-align: right;\">\n",
       "      <th></th>\n",
       "      <th>Period</th>\n",
       "      <th>MFS Agent</th>\n",
       "      <th>Unnamed: 2</th>\n",
       "      <th>Unnamed: 3</th>\n",
       "      <th>MFS Male Account</th>\n",
       "      <th>Unnamed: 5</th>\n",
       "      <th>Unnamed: 6</th>\n",
       "      <th>MFS Female Account</th>\n",
       "      <th>Unnamed: 8</th>\n",
       "      <th>Unnamed: 9</th>\n",
       "      <th>MFS Other Account</th>\n",
       "      <th>Unnamed: 11</th>\n",
       "      <th>Unnamed: 12</th>\n",
       "      <th>MFS Total Account</th>\n",
       "      <th>Unnamed: 14</th>\n",
       "      <th>Unnamed: 15</th>\n",
       "    </tr>\n",
       "  </thead>\n",
       "  <tbody>\n",
       "    <tr>\n",
       "      <th>0</th>\n",
       "      <td>NaN</td>\n",
       "      <td>Urban</td>\n",
       "      <td>Rural</td>\n",
       "      <td>Total</td>\n",
       "      <td>Urban</td>\n",
       "      <td>Rural</td>\n",
       "      <td>Total</td>\n",
       "      <td>Urban</td>\n",
       "      <td>Rural</td>\n",
       "      <td>Total</td>\n",
       "      <td>Urban</td>\n",
       "      <td>Rural</td>\n",
       "      <td>Total</td>\n",
       "      <td>Urban</td>\n",
       "      <td>Rural</td>\n",
       "      <td>Total</td>\n",
       "    </tr>\n",
       "    <tr>\n",
       "      <th>1</th>\n",
       "      <td>June'23</td>\n",
       "      <td>789583</td>\n",
       "      <td>796139</td>\n",
       "      <td>1585722</td>\n",
       "      <td>53626770</td>\n",
       "      <td>66247526</td>\n",
       "      <td>119874296</td>\n",
       "      <td>37249086</td>\n",
       "      <td>49592680</td>\n",
       "      <td>86841766</td>\n",
       "      <td>363483</td>\n",
       "      <td>189101</td>\n",
       "      <td>552584</td>\n",
       "      <td>91239339</td>\n",
       "      <td>116029307</td>\n",
       "      <td>207268646</td>\n",
       "    </tr>\n",
       "    <tr>\n",
       "      <th>2</th>\n",
       "      <td>May'23</td>\n",
       "      <td>781319</td>\n",
       "      <td>789021</td>\n",
       "      <td>1570340</td>\n",
       "      <td>52847869</td>\n",
       "      <td>65093659</td>\n",
       "      <td>117941528</td>\n",
       "      <td>36714774</td>\n",
       "      <td>48782455</td>\n",
       "      <td>85497229</td>\n",
       "      <td>348686</td>\n",
       "      <td>182743</td>\n",
       "      <td>531429</td>\n",
       "      <td>89911329</td>\n",
       "      <td>114058857</td>\n",
       "      <td>203970186</td>\n",
       "    </tr>\n",
       "    <tr>\n",
       "      <th>3</th>\n",
       "      <td>April'23</td>\n",
       "      <td>771212</td>\n",
       "      <td>784579</td>\n",
       "      <td>1555791</td>\n",
       "      <td>52092274</td>\n",
       "      <td>63937651</td>\n",
       "      <td>116029925</td>\n",
       "      <td>36179304</td>\n",
       "      <td>47966998</td>\n",
       "      <td>84146302</td>\n",
       "      <td>335711</td>\n",
       "      <td>177272</td>\n",
       "      <td>512983</td>\n",
       "      <td>88607289</td>\n",
       "      <td>112081921</td>\n",
       "      <td>200689210</td>\n",
       "    </tr>\n",
       "    <tr>\n",
       "      <th>4</th>\n",
       "      <td>March'23</td>\n",
       "      <td>785131</td>\n",
       "      <td>812869</td>\n",
       "      <td>1598000</td>\n",
       "      <td>51455799</td>\n",
       "      <td>63033706</td>\n",
       "      <td>114489505</td>\n",
       "      <td>35755777</td>\n",
       "      <td>47346768</td>\n",
       "      <td>83102545</td>\n",
       "      <td>327136</td>\n",
       "      <td>172597</td>\n",
       "      <td>499733</td>\n",
       "      <td>87538712</td>\n",
       "      <td>110553071</td>\n",
       "      <td>198091783</td>\n",
       "    </tr>\n",
       "  </tbody>\n",
       "</table>\n",
       "</div>"
      ],
      "text/plain": [
       "     Period MFS Agent Unnamed: 2 Unnamed: 3 MFS Male Account Unnamed: 5   \n",
       "0       NaN     Urban      Rural      Total            Urban      Rural  \\\n",
       "1   June'23    789583     796139    1585722         53626770   66247526   \n",
       "2    May'23    781319     789021    1570340         52847869   65093659   \n",
       "3  April'23    771212     784579    1555791         52092274   63937651   \n",
       "4  March'23    785131     812869    1598000         51455799   63033706   \n",
       "\n",
       "  Unnamed: 6 MFS Female Account Unnamed: 8 Unnamed: 9 MFS Other Account   \n",
       "0      Total              Urban      Rural      Total             Urban  \\\n",
       "1  119874296           37249086   49592680   86841766            363483   \n",
       "2  117941528           36714774   48782455   85497229            348686   \n",
       "3  116029925           36179304   47966998   84146302            335711   \n",
       "4  114489505           35755777   47346768   83102545            327136   \n",
       "\n",
       "  Unnamed: 11 Unnamed: 12 MFS Total Account Unnamed: 14 Unnamed: 15  \n",
       "0       Rural       Total             Urban       Rural       Total  \n",
       "1      189101      552584          91239339   116029307   207268646  \n",
       "2      182743      531429          89911329   114058857   203970186  \n",
       "3      177272      512983          88607289   112081921   200689210  \n",
       "4      172597      499733          87538712   110553071   198091783  "
      ]
     },
     "execution_count": 18,
     "metadata": {},
     "output_type": "execute_result"
    }
   ],
   "source": [
    "mfs_acc_data = pd.read_excel('MFS_ACC.xlsx')\n",
    "mfs_acc_data.head(5)"
   ]
  },
  {
   "cell_type": "code",
   "execution_count": 19,
   "metadata": {},
   "outputs": [
    {
     "ename": "NameError",
     "evalue": "name 'mfs_txns_data' is not defined",
     "output_type": "error",
     "traceback": [
      "\u001b[1;31m---------------------------------------------------------------------------\u001b[0m",
      "\u001b[1;31mNameError\u001b[0m                                 Traceback (most recent call last)",
      "Cell \u001b[1;32mIn[19], line 1\u001b[0m\n\u001b[1;32m----> 1\u001b[0m mfs_txns \u001b[39m=\u001b[39m mfs_txns_data\u001b[39m.\u001b[39mrename(columns\u001b[39m=\u001b[39m{\n\u001b[0;32m      2\u001b[0m     \u001b[39m'\u001b[39m\u001b[39mPeriod\u001b[39m\u001b[39m'\u001b[39m: \u001b[39m'\u001b[39m\u001b[39mPeriod\u001b[39m\u001b[39m'\u001b[39m\u001b[39m.\u001b[39mupper(),\n\u001b[0;32m      3\u001b[0m     \u001b[39m'\u001b[39m\u001b[39mAll Transactions\u001b[39m\u001b[39m'\u001b[39m : \u001b[39m'\u001b[39m\u001b[39mAll Transactions Num\u001b[39m\u001b[39m'\u001b[39m\u001b[39m.\u001b[39mupper()\u001b[39m.\u001b[39mreplace(\u001b[39m'\u001b[39m\u001b[39m \u001b[39m\u001b[39m'\u001b[39m, \u001b[39m'\u001b[39m\u001b[39m_\u001b[39m\u001b[39m'\u001b[39m),\n\u001b[0;32m      4\u001b[0m     \u001b[39m'\u001b[39m\u001b[39mUnnamed: 2\u001b[39m\u001b[39m'\u001b[39m : \u001b[39m'\u001b[39m\u001b[39mAll Transactions Amt\u001b[39m\u001b[39m'\u001b[39m\u001b[39m.\u001b[39mupper()\u001b[39m.\u001b[39mreplace(\u001b[39m'\u001b[39m\u001b[39m \u001b[39m\u001b[39m'\u001b[39m, \u001b[39m'\u001b[39m\u001b[39m_\u001b[39m\u001b[39m'\u001b[39m),\n\u001b[0;32m      5\u001b[0m     \u001b[39m'\u001b[39m\u001b[39mCash In \u001b[39m\u001b[39m'\u001b[39m : \u001b[39m'\u001b[39m\u001b[39mCash In Num\u001b[39m\u001b[39m'\u001b[39m\u001b[39m.\u001b[39mupper()\u001b[39m.\u001b[39mreplace(\u001b[39m'\u001b[39m\u001b[39m \u001b[39m\u001b[39m'\u001b[39m, \u001b[39m'\u001b[39m\u001b[39m_\u001b[39m\u001b[39m'\u001b[39m),\n\u001b[0;32m      6\u001b[0m     \u001b[39m'\u001b[39m\u001b[39mUnnamed: 4\u001b[39m\u001b[39m'\u001b[39m : \u001b[39m'\u001b[39m\u001b[39mCash In Amt\u001b[39m\u001b[39m'\u001b[39m\u001b[39m.\u001b[39mupper()\u001b[39m.\u001b[39mreplace(\u001b[39m'\u001b[39m\u001b[39m \u001b[39m\u001b[39m'\u001b[39m, \u001b[39m'\u001b[39m\u001b[39m_\u001b[39m\u001b[39m'\u001b[39m),\n\u001b[0;32m      7\u001b[0m     \u001b[39m'\u001b[39m\u001b[39mCash Out\u001b[39m\u001b[39m'\u001b[39m : \u001b[39m'\u001b[39m\u001b[39mCash Out Num\u001b[39m\u001b[39m'\u001b[39m\u001b[39m.\u001b[39mupper()\u001b[39m.\u001b[39mreplace(\u001b[39m'\u001b[39m\u001b[39m \u001b[39m\u001b[39m'\u001b[39m, \u001b[39m'\u001b[39m\u001b[39m_\u001b[39m\u001b[39m'\u001b[39m),\n\u001b[0;32m      8\u001b[0m     \u001b[39m'\u001b[39m\u001b[39mUnnamed: 6\u001b[39m\u001b[39m'\u001b[39m : \u001b[39m'\u001b[39m\u001b[39mCash Out Amt\u001b[39m\u001b[39m'\u001b[39m\u001b[39m.\u001b[39mupper()\u001b[39m.\u001b[39mreplace(\u001b[39m'\u001b[39m\u001b[39m \u001b[39m\u001b[39m'\u001b[39m, \u001b[39m'\u001b[39m\u001b[39m_\u001b[39m\u001b[39m'\u001b[39m),\n\u001b[0;32m      9\u001b[0m     \u001b[39m'\u001b[39m\u001b[39mP2P\u001b[39m\u001b[39m'\u001b[39m: \u001b[39m'\u001b[39m\u001b[39mP2P Num\u001b[39m\u001b[39m'\u001b[39m\u001b[39m.\u001b[39mupper()\u001b[39m.\u001b[39mreplace(\u001b[39m'\u001b[39m\u001b[39m \u001b[39m\u001b[39m'\u001b[39m, \u001b[39m'\u001b[39m\u001b[39m_\u001b[39m\u001b[39m'\u001b[39m),\n\u001b[0;32m     10\u001b[0m     \u001b[39m'\u001b[39m\u001b[39mUnnamed: 8\u001b[39m\u001b[39m'\u001b[39m : \u001b[39m'\u001b[39m\u001b[39mP2P Amt\u001b[39m\u001b[39m'\u001b[39m\u001b[39m.\u001b[39mupper()\u001b[39m.\u001b[39mreplace(\u001b[39m'\u001b[39m\u001b[39m \u001b[39m\u001b[39m'\u001b[39m, \u001b[39m'\u001b[39m\u001b[39m_\u001b[39m\u001b[39m'\u001b[39m),\n\u001b[0;32m     11\u001b[0m     \u001b[39m'\u001b[39m\u001b[39mMerchant Payment\u001b[39m\u001b[39m'\u001b[39m: \u001b[39m'\u001b[39m\u001b[39mMerchant Payment Num\u001b[39m\u001b[39m'\u001b[39m\u001b[39m.\u001b[39mupper()\u001b[39m.\u001b[39mreplace(\u001b[39m'\u001b[39m\u001b[39m \u001b[39m\u001b[39m'\u001b[39m, \u001b[39m'\u001b[39m\u001b[39m_\u001b[39m\u001b[39m'\u001b[39m),\n\u001b[0;32m     12\u001b[0m     \u001b[39m'\u001b[39m\u001b[39mUnnamed: 10\u001b[39m\u001b[39m'\u001b[39m : \u001b[39m'\u001b[39m\u001b[39mMerchant Payment Amt\u001b[39m\u001b[39m'\u001b[39m\u001b[39m.\u001b[39mupper()\u001b[39m.\u001b[39mreplace(\u001b[39m'\u001b[39m\u001b[39m \u001b[39m\u001b[39m'\u001b[39m, \u001b[39m'\u001b[39m\u001b[39m_\u001b[39m\u001b[39m'\u001b[39m),\n\u001b[0;32m     13\u001b[0m     \u001b[39m'\u001b[39m\u001b[39mG2P\u001b[39m\u001b[39m'\u001b[39m: \u001b[39m'\u001b[39m\u001b[39mG2P Num\u001b[39m\u001b[39m'\u001b[39m\u001b[39m.\u001b[39mupper()\u001b[39m.\u001b[39mreplace(\u001b[39m'\u001b[39m\u001b[39m \u001b[39m\u001b[39m'\u001b[39m, \u001b[39m'\u001b[39m\u001b[39m_\u001b[39m\u001b[39m'\u001b[39m),\n\u001b[0;32m     14\u001b[0m     \u001b[39m'\u001b[39m\u001b[39mUnnamed: 12\u001b[39m\u001b[39m'\u001b[39m : \u001b[39m'\u001b[39m\u001b[39mG2P Amt\u001b[39m\u001b[39m'\u001b[39m\u001b[39m.\u001b[39mupper()\u001b[39m.\u001b[39mreplace(\u001b[39m'\u001b[39m\u001b[39m \u001b[39m\u001b[39m'\u001b[39m, \u001b[39m'\u001b[39m\u001b[39m_\u001b[39m\u001b[39m'\u001b[39m),\n\u001b[0;32m     15\u001b[0m     \u001b[39m'\u001b[39m\u001b[39mSalary Disbursement\u001b[39m\u001b[39m'\u001b[39m: \u001b[39m'\u001b[39m\u001b[39mSalary Disbursement\tNum\u001b[39m\u001b[39m'\u001b[39m\u001b[39m.\u001b[39mupper()\u001b[39m.\u001b[39mreplace(\u001b[39m'\u001b[39m\u001b[39m \u001b[39m\u001b[39m'\u001b[39m, \u001b[39m'\u001b[39m\u001b[39m_\u001b[39m\u001b[39m'\u001b[39m),\n\u001b[0;32m     16\u001b[0m     \u001b[39m'\u001b[39m\u001b[39mUnnamed: 14\u001b[39m\u001b[39m'\u001b[39m : \u001b[39m'\u001b[39m\u001b[39mSalary Disbursement Amt\u001b[39m\u001b[39m'\u001b[39m\u001b[39m.\u001b[39mupper()\u001b[39m.\u001b[39mreplace(\u001b[39m'\u001b[39m\u001b[39m \u001b[39m\u001b[39m'\u001b[39m, \u001b[39m'\u001b[39m\u001b[39m_\u001b[39m\u001b[39m'\u001b[39m),\n\u001b[0;32m     17\u001b[0m     \u001b[39m'\u001b[39m\u001b[39mTalktime Purchase\u001b[39m\u001b[39m'\u001b[39m: \u001b[39m'\u001b[39m\u001b[39mTalktime Purchase Num\u001b[39m\u001b[39m'\u001b[39m\u001b[39m.\u001b[39mupper()\u001b[39m.\u001b[39mreplace(\u001b[39m'\u001b[39m\u001b[39m \u001b[39m\u001b[39m'\u001b[39m, \u001b[39m'\u001b[39m\u001b[39m_\u001b[39m\u001b[39m'\u001b[39m),\n\u001b[0;32m     18\u001b[0m     \u001b[39m'\u001b[39m\u001b[39mUnnamed: 16\u001b[39m\u001b[39m'\u001b[39m : \u001b[39m'\u001b[39m\u001b[39mTalktime Purchase Amt\u001b[39m\u001b[39m'\u001b[39m\u001b[39m.\u001b[39mupper()\u001b[39m.\u001b[39mreplace(\u001b[39m'\u001b[39m\u001b[39m \u001b[39m\u001b[39m'\u001b[39m, \u001b[39m'\u001b[39m\u001b[39m_\u001b[39m\u001b[39m'\u001b[39m),\n\u001b[0;32m     19\u001b[0m     \u001b[39m'\u001b[39m\u001b[39mUtility Bill Payment\u001b[39m\u001b[39m'\u001b[39m: \u001b[39m'\u001b[39m\u001b[39mUtility Bill Payment Num\u001b[39m\u001b[39m'\u001b[39m\u001b[39m.\u001b[39mupper()\u001b[39m.\u001b[39mreplace(\u001b[39m'\u001b[39m\u001b[39m \u001b[39m\u001b[39m'\u001b[39m, \u001b[39m'\u001b[39m\u001b[39m_\u001b[39m\u001b[39m'\u001b[39m),\n\u001b[0;32m     20\u001b[0m     \u001b[39m'\u001b[39m\u001b[39mUnnamed: 18\u001b[39m\u001b[39m'\u001b[39m : \u001b[39m'\u001b[39m\u001b[39mUtility Bill Payment Amt\u001b[39m\u001b[39m'\u001b[39m\u001b[39m.\u001b[39mupper()\u001b[39m.\u001b[39mreplace(\u001b[39m'\u001b[39m\u001b[39m \u001b[39m\u001b[39m'\u001b[39m, \u001b[39m'\u001b[39m\u001b[39m_\u001b[39m\u001b[39m'\u001b[39m),\n\u001b[0;32m     21\u001b[0m     \u001b[39m'\u001b[39m\u001b[39mInwrad Remittance\u001b[39m\u001b[39m'\u001b[39m: \u001b[39m'\u001b[39m\u001b[39mInwrad Remittance Num\u001b[39m\u001b[39m'\u001b[39m\u001b[39m.\u001b[39mupper()\u001b[39m.\u001b[39mreplace(\u001b[39m'\u001b[39m\u001b[39m \u001b[39m\u001b[39m'\u001b[39m, \u001b[39m'\u001b[39m\u001b[39m_\u001b[39m\u001b[39m'\u001b[39m),\n\u001b[0;32m     22\u001b[0m     \u001b[39m'\u001b[39m\u001b[39mUnnamed: 20\u001b[39m\u001b[39m'\u001b[39m : \u001b[39m'\u001b[39m\u001b[39mInwrad Remittance Amt\u001b[39m\u001b[39m'\u001b[39m\u001b[39m.\u001b[39mupper()\u001b[39m.\u001b[39mreplace(\u001b[39m'\u001b[39m\u001b[39m \u001b[39m\u001b[39m'\u001b[39m, \u001b[39m'\u001b[39m\u001b[39m_\u001b[39m\u001b[39m'\u001b[39m),  \n\u001b[0;32m     23\u001b[0m })\n\u001b[0;32m     25\u001b[0m mfs_txns \u001b[39m=\u001b[39m mfs_txns\u001b[39m.\u001b[39mdrop(\u001b[39m0\u001b[39m)\n\u001b[0;32m     26\u001b[0m period \u001b[39m=\u001b[39m mfs_txns\u001b[39m.\u001b[39mPERIOD\u001b[39m.\u001b[39mapply(\n\u001b[0;32m     27\u001b[0m     \u001b[39mlambda\u001b[39;00m x: x\u001b[39m.\u001b[39mreplace(\n\u001b[0;32m     28\u001b[0m         \u001b[39m\"\u001b[39m\u001b[39mJanuary\u001b[39m\u001b[39m\"\u001b[39m, \u001b[39m'\u001b[39m\u001b[39mJAN\u001b[39m\u001b[39m'\u001b[39m)\u001b[39m.\u001b[39mreplace(\n\u001b[1;32m   (...)\u001b[0m\n\u001b[0;32m     40\u001b[0m                                                         \u001b[39m\"\u001b[39m\u001b[39m'\u001b[39m\u001b[39m\"\u001b[39m, \u001b[39m'\u001b[39m\u001b[39m 20\u001b[39m\u001b[39m'\u001b[39m)\n\u001b[0;32m     41\u001b[0m )\n",
      "\u001b[1;31mNameError\u001b[0m: name 'mfs_txns_data' is not defined"
     ]
    }
   ],
   "source": [
    "mfs_txns = mfs_txns_data.rename(columns={\n",
    "    'Period': 'Period'.upper(),\n",
    "    'All Transactions' : 'All Transactions Num'.upper().replace(' ', '_'),\n",
    "    'Unnamed: 2' : 'All Transactions Amt'.upper().replace(' ', '_'),\n",
    "    'Cash In ' : 'Cash In Num'.upper().replace(' ', '_'),\n",
    "    'Unnamed: 4' : 'Cash In Amt'.upper().replace(' ', '_'),\n",
    "    'Cash Out' : 'Cash Out Num'.upper().replace(' ', '_'),\n",
    "    'Unnamed: 6' : 'Cash Out Amt'.upper().replace(' ', '_'),\n",
    "    'P2P': 'P2P Num'.upper().replace(' ', '_'),\n",
    "    'Unnamed: 8' : 'P2P Amt'.upper().replace(' ', '_'),\n",
    "    'Merchant Payment': 'Merchant Payment Num'.upper().replace(' ', '_'),\n",
    "    'Unnamed: 10' : 'Merchant Payment Amt'.upper().replace(' ', '_'),\n",
    "    'G2P': 'G2P Num'.upper().replace(' ', '_'),\n",
    "    'Unnamed: 12' : 'G2P Amt'.upper().replace(' ', '_'),\n",
    "    'Salary Disbursement': 'Salary Disbursement\tNum'.upper().replace(' ', '_'),\n",
    "    'Unnamed: 14' : 'Salary Disbursement Amt'.upper().replace(' ', '_'),\n",
    "    'Talktime Purchase': 'Talktime Purchase Num'.upper().replace(' ', '_'),\n",
    "    'Unnamed: 16' : 'Talktime Purchase Amt'.upper().replace(' ', '_'),\n",
    "    'Utility Bill Payment': 'Utility Bill Payment Num'.upper().replace(' ', '_'),\n",
    "    'Unnamed: 18' : 'Utility Bill Payment Amt'.upper().replace(' ', '_'),\n",
    "    'Inwrad Remittance': 'Inwrad Remittance Num'.upper().replace(' ', '_'),\n",
    "    'Unnamed: 20' : 'Inwrad Remittance Amt'.upper().replace(' ', '_'),  \n",
    "})\n",
    "\n",
    "mfs_txns = mfs_txns.drop(0)\n",
    "period = mfs_txns.PERIOD.apply(\n",
    "    lambda x: x.replace(\n",
    "        \"January\", 'JAN').replace(\n",
    "            \"February\", 'FEB').replace(\n",
    "                \"March\", 'MAR').replace(\n",
    "                    \"April\", 'APR').replace(\n",
    "                        \"May\", 'MAY').replace(\n",
    "                            \"June\", 'JUN').replace(\n",
    "                                \"July\", 'JUL').replace(\n",
    "                                    \"August\", 'AUG').replace(\n",
    "                                        \"September\", 'SEP').replace(\n",
    "                                            \"October\", 'OCT').replace(\n",
    "                                                \"November\", 'NOV').replace(\n",
    "                                                    \"December\", 'DEC').replace(\n",
    "                                                        \"'\", ' 20')\n",
    ")\n",
    "mfs_txns['PERIOD'] = period\n",
    "mfs_txns = mfs_txns.loc[::-1]\n",
    "\n",
    "\n",
    "\n",
    "\n",
    "mfs_txns['ALL_TRANSACTIONS_NUM_GROWTH'] = mfs_txns.ALL_TRANSACTIONS_NUM.pct_change().mul(100).round(2)\n",
    "mfs_txns['ALL_TRANSACTIONS_AMT_GROWTH'] = mfs_txns.ALL_TRANSACTIONS_AMT.pct_change().mul(100).round(2)\n",
    "\n",
    "mfs_txns.head(20)"
   ]
  },
  {
   "cell_type": "code",
   "execution_count": null,
   "metadata": {},
   "outputs": [],
   "source": []
  }
 ],
 "metadata": {
  "kernelspec": {
   "display_name": "Python 3",
   "language": "python",
   "name": "python3"
  },
  "language_info": {
   "codemirror_mode": {
    "name": "ipython",
    "version": 3
   },
   "file_extension": ".py",
   "mimetype": "text/x-python",
   "name": "python",
   "nbconvert_exporter": "python",
   "pygments_lexer": "ipython3",
   "version": "3.11.2"
  },
  "orig_nbformat": 4
 },
 "nbformat": 4,
 "nbformat_minor": 2
}
